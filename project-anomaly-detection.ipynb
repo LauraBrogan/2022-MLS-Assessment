{
 "cells": [
  {
   "cell_type": "markdown",
   "id": "ff3654b5",
   "metadata": {},
   "source": [
    "# Machine Learning and Statistics 2022 Project\n",
    "<hr style=\"border-top: 1px solid #001a79;\" />\n",
    "<h1 style=\"color: #001a79;\">Anomaly Detection Using Keras</h1>\n",
    "\n",
    "<hr style=\"border-top: 1px solid #001a79;\" /> "
   ]
  },
  {
   "cell_type": "markdown",
   "id": "0819606a",
   "metadata": {},
   "source": [
    "This project looks at the Keras time series anomaly detection. Keras is a high level, deep learning Application Programming Interface (API) developed for implementing neural networks. As it is python fronted it is realtively easy to work with. {*1*}\n",
    "The time series code is taken from here [Keras Time Series](https://keras.io/examples/timeseries/timeseries_anomaly_detection/){*2*} \n",
    "\n",
    "As this code provides limited detail on explaining the code, I will attempt to expand on what is provided to provide a better explanation. \n"
   ]
  },
  {
   "cell_type": "code",
   "execution_count": 61,
   "id": "6117c206",
   "metadata": {},
   "outputs": [],
   "source": [
    "# Numerical arrays.\n",
    "import numpy as np\n",
    "\n",
    "# Spreadsheet-like Data Frames.\n",
    "import pandas as pd\n",
    "\n",
    "# Neural networks.\n",
    "import tensorflow.keras as keras\n",
    "\n",
    "# layers of neural networks\n",
    "from tensorflow.keras import layers\n",
    "\n",
    "# Plotting\n",
    "import matplotlib.pyplot as plt"
   ]
  },
  {
   "cell_type": "markdown",
   "id": "e2d54916",
   "metadata": {},
   "source": [
    "Above is the importation of the libaries and packages needed to run the code. \n",
    "* Matplolib is a Python 20 plotting library which produces publication quality figures in a variety of hardcopy formats and interactive    enviroments across platforms. \n",
    "\n",
    "* NumPy is a library for the Python programming language, adding support for large, multi-dimensional arrays and matrices, along with a large collection of high-level mathematical functions to operate on these arrays.\n",
    "\n",
    "* Pandas is an open source, BDS-licenced libary providing high-oerfimance, easy-to-use data structures and data analysis tools. \n",
    "\n",
    "* TensorFlow is a free and open-source software library for machine learning and artificial intelligence. It can be used across a range of     tasks but has a particular focus on training and inference of deep neural networks.{*3*}\n",
    "\n",
    "\n",
    "\n"
   ]
  },
  {
   "cell_type": "markdown",
   "id": "38625cac",
   "metadata": {},
   "source": [
    "## Data\n",
    "\n",
    "The data used comes from the links below:\n",
    "\n",
    "Kaggle - https://www.kaggle.com/datasets/boltzmannbrain/nab\n",
    "\n",
    "From the Kaggle page \"The Numenta Anomaly Benchmark (NAB) is a novel benchmark for evaluating algorithms for anomaly detection in streaming, online applications. It is comprised of over 50 labeled real-world and artificial timeseries data files plus a novel scoring mechanism designed for real-time applications. All of the data and code is fully open-source, with extensive documentation, and a scoreboard of anomaly detection algorithms.\"\n",
    "The full dataset is included here: Github - https://github.com/numenta/NAB \n",
    "\n",
    "\n",
    "The data set contains 2 CSV files small noise csv file and jumpsup csv file which are read in below using pandas"
   ]
  },
  {
   "cell_type": "code",
   "execution_count": 62,
   "id": "28c2636a",
   "metadata": {},
   "outputs": [],
   "source": [
    "#Root of URLs.\n",
    "root_url = 'https://raw.githubusercontent.com/numenta/NAB/master/data/'\n",
    "\n",
    "#Data file without anomaly.\n",
    "no_anomaly_url = root_url +'artificialNoAnomaly/art_daily_small_noise.csv'\n",
    "\n",
    "#Data file with anomaly.\n",
    "with_anomaly_url = root_url +'artificialWithAnomaly/art_daily_jumpsup.csv'\n"
   ]
  },
  {
   "cell_type": "code",
   "execution_count": 66,
   "id": "79720c60",
   "metadata": {},
   "outputs": [
    {
     "data": {
      "text/plain": [
       "'https://raw.githubusercontent.com/numenta/NAB/master/data/artificialNoAnomaly/art_daily_small_noise.csv'"
      ]
     },
     "execution_count": 66,
     "metadata": {},
     "output_type": "execute_result"
    }
   ],
   "source": [
    "#check that url is configured correctly for no anomaly\n",
    "no_anomaly_url"
   ]
  },
  {
   "cell_type": "code",
   "execution_count": 65,
   "id": "49450d5c",
   "metadata": {},
   "outputs": [
    {
     "data": {
      "text/plain": [
       "'https://raw.githubusercontent.com/numenta/NAB/master/data/artificialWithAnomaly/art_daily_jumpsup.csv'"
      ]
     },
     "execution_count": 65,
     "metadata": {},
     "output_type": "execute_result"
    }
   ],
   "source": [
    "#check that url is configured correctly for no anomaly\n",
    "with_anomaly_url"
   ]
  },
  {
   "cell_type": "code",
   "execution_count": 64,
   "id": "79bc42e5",
   "metadata": {},
   "outputs": [],
   "source": [
    "#Reading in of csv file no anomaly with pandas.\n",
    "df_small_noise = pd.read_csv(no_anomaly_url, parse_dates=True, index_col=\"timestamp\")"
   ]
  },
  {
   "cell_type": "code",
   "execution_count": 67,
   "id": "d7d52018",
   "metadata": {},
   "outputs": [
    {
     "data": {
      "text/plain": [
       "(4032, 1)"
      ]
     },
     "execution_count": 67,
     "metadata": {},
     "output_type": "execute_result"
    }
   ],
   "source": [
    "#shows how much data is in the data set and its make up. \n",
    "df_small_noise.shape"
   ]
  },
  {
   "cell_type": "code",
   "execution_count": 5,
   "id": "656ff952",
   "metadata": {
    "scrolled": true
   },
   "outputs": [
    {
     "data": {
      "text/html": [
       "<div>\n",
       "<style scoped>\n",
       "    .dataframe tbody tr th:only-of-type {\n",
       "        vertical-align: middle;\n",
       "    }\n",
       "\n",
       "    .dataframe tbody tr th {\n",
       "        vertical-align: top;\n",
       "    }\n",
       "\n",
       "    .dataframe thead th {\n",
       "        text-align: right;\n",
       "    }\n",
       "</style>\n",
       "<table border=\"1\" class=\"dataframe\">\n",
       "  <thead>\n",
       "    <tr style=\"text-align: right;\">\n",
       "      <th></th>\n",
       "      <th>value</th>\n",
       "    </tr>\n",
       "    <tr>\n",
       "      <th>timestamp</th>\n",
       "      <th></th>\n",
       "    </tr>\n",
       "  </thead>\n",
       "  <tbody>\n",
       "    <tr>\n",
       "      <th>2014-04-01 00:00:00</th>\n",
       "      <td>18.324919</td>\n",
       "    </tr>\n",
       "    <tr>\n",
       "      <th>2014-04-01 00:05:00</th>\n",
       "      <td>21.970327</td>\n",
       "    </tr>\n",
       "    <tr>\n",
       "      <th>2014-04-01 00:10:00</th>\n",
       "      <td>18.624806</td>\n",
       "    </tr>\n",
       "    <tr>\n",
       "      <th>2014-04-01 00:15:00</th>\n",
       "      <td>21.953684</td>\n",
       "    </tr>\n",
       "    <tr>\n",
       "      <th>2014-04-01 00:20:00</th>\n",
       "      <td>21.909120</td>\n",
       "    </tr>\n",
       "  </tbody>\n",
       "</table>\n",
       "</div>"
      ],
      "text/plain": [
       "                         value\n",
       "timestamp                     \n",
       "2014-04-01 00:00:00  18.324919\n",
       "2014-04-01 00:05:00  21.970327\n",
       "2014-04-01 00:10:00  18.624806\n",
       "2014-04-01 00:15:00  21.953684\n",
       "2014-04-01 00:20:00  21.909120"
      ]
     },
     "execution_count": 5,
     "metadata": {},
     "output_type": "execute_result"
    }
   ],
   "source": [
    "df_small_noise.head()\n",
    "#This is the displaying of the first five lines of the small noise csv. "
   ]
  },
  {
   "cell_type": "code",
   "execution_count": 73,
   "id": "f9d8f209",
   "metadata": {},
   "outputs": [
    {
     "data": {
      "text/html": [
       "<div>\n",
       "<style scoped>\n",
       "    .dataframe tbody tr th:only-of-type {\n",
       "        vertical-align: middle;\n",
       "    }\n",
       "\n",
       "    .dataframe tbody tr th {\n",
       "        vertical-align: top;\n",
       "    }\n",
       "\n",
       "    .dataframe thead th {\n",
       "        text-align: right;\n",
       "    }\n",
       "</style>\n",
       "<table border=\"1\" class=\"dataframe\">\n",
       "  <thead>\n",
       "    <tr style=\"text-align: right;\">\n",
       "      <th></th>\n",
       "      <th>value</th>\n",
       "    </tr>\n",
       "  </thead>\n",
       "  <tbody>\n",
       "    <tr>\n",
       "      <th>count</th>\n",
       "      <td>4032.000000</td>\n",
       "    </tr>\n",
       "    <tr>\n",
       "      <th>mean</th>\n",
       "      <td>42.438353</td>\n",
       "    </tr>\n",
       "    <tr>\n",
       "      <th>std</th>\n",
       "      <td>28.077122</td>\n",
       "    </tr>\n",
       "    <tr>\n",
       "      <th>min</th>\n",
       "      <td>18.000964</td>\n",
       "    </tr>\n",
       "    <tr>\n",
       "      <th>25%</th>\n",
       "      <td>19.841390</td>\n",
       "    </tr>\n",
       "    <tr>\n",
       "      <th>50%</th>\n",
       "      <td>21.608487</td>\n",
       "    </tr>\n",
       "    <tr>\n",
       "      <th>75%</th>\n",
       "      <td>75.450282</td>\n",
       "    </tr>\n",
       "    <tr>\n",
       "      <th>max</th>\n",
       "      <td>87.976128</td>\n",
       "    </tr>\n",
       "  </tbody>\n",
       "</table>\n",
       "</div>"
      ],
      "text/plain": [
       "             value\n",
       "count  4032.000000\n",
       "mean     42.438353\n",
       "std      28.077122\n",
       "min      18.000964\n",
       "25%      19.841390\n",
       "50%      21.608487\n",
       "75%      75.450282\n",
       "max      87.976128"
      ]
     },
     "execution_count": 73,
     "metadata": {},
     "output_type": "execute_result"
    }
   ],
   "source": [
    "#the below function list out a summary of the small noise data set. \n",
    "df_small_noise.describe()"
   ]
  },
  {
   "cell_type": "code",
   "execution_count": 71,
   "id": "b4bb336b",
   "metadata": {},
   "outputs": [
    {
     "data": {
      "text/plain": [
       "18.3249185392"
      ]
     },
     "execution_count": 71,
     "metadata": {},
     "output_type": "execute_result"
    }
   ],
   "source": [
    "# chekcing if the fist figure is correct or rounded\n",
    "df_small_noise.iloc[0].values[0]"
   ]
  },
  {
   "cell_type": "code",
   "execution_count": 4,
   "id": "6f1ac588",
   "metadata": {},
   "outputs": [],
   "source": [
    "#Reading in of csv file with anomaly with pandas.\n",
    "df_daily_jumpsup = pd.read_csv(with_anomaly_url, parse_dates=True, index_col=\"timestamp\")"
   ]
  },
  {
   "cell_type": "code",
   "execution_count": 68,
   "id": "3a07b77b",
   "metadata": {},
   "outputs": [
    {
     "data": {
      "text/plain": [
       "(4032, 1)"
      ]
     },
     "execution_count": 68,
     "metadata": {},
     "output_type": "execute_result"
    }
   ],
   "source": [
    "#shows how much data is in the data set and its make up. \n",
    "df_daily_jumpsup.shape"
   ]
  },
  {
   "cell_type": "code",
   "execution_count": 6,
   "id": "a2d20e3d",
   "metadata": {},
   "outputs": [
    {
     "data": {
      "text/html": [
       "<div>\n",
       "<style scoped>\n",
       "    .dataframe tbody tr th:only-of-type {\n",
       "        vertical-align: middle;\n",
       "    }\n",
       "\n",
       "    .dataframe tbody tr th {\n",
       "        vertical-align: top;\n",
       "    }\n",
       "\n",
       "    .dataframe thead th {\n",
       "        text-align: right;\n",
       "    }\n",
       "</style>\n",
       "<table border=\"1\" class=\"dataframe\">\n",
       "  <thead>\n",
       "    <tr style=\"text-align: right;\">\n",
       "      <th></th>\n",
       "      <th>value</th>\n",
       "    </tr>\n",
       "    <tr>\n",
       "      <th>timestamp</th>\n",
       "      <th></th>\n",
       "    </tr>\n",
       "  </thead>\n",
       "  <tbody>\n",
       "    <tr>\n",
       "      <th>2014-04-01 00:00:00</th>\n",
       "      <td>19.761252</td>\n",
       "    </tr>\n",
       "    <tr>\n",
       "      <th>2014-04-01 00:05:00</th>\n",
       "      <td>20.500833</td>\n",
       "    </tr>\n",
       "    <tr>\n",
       "      <th>2014-04-01 00:10:00</th>\n",
       "      <td>19.961641</td>\n",
       "    </tr>\n",
       "    <tr>\n",
       "      <th>2014-04-01 00:15:00</th>\n",
       "      <td>21.490266</td>\n",
       "    </tr>\n",
       "    <tr>\n",
       "      <th>2014-04-01 00:20:00</th>\n",
       "      <td>20.187739</td>\n",
       "    </tr>\n",
       "  </tbody>\n",
       "</table>\n",
       "</div>"
      ],
      "text/plain": [
       "                         value\n",
       "timestamp                     \n",
       "2014-04-01 00:00:00  19.761252\n",
       "2014-04-01 00:05:00  20.500833\n",
       "2014-04-01 00:10:00  19.961641\n",
       "2014-04-01 00:15:00  21.490266\n",
       "2014-04-01 00:20:00  20.187739"
      ]
     },
     "execution_count": 6,
     "metadata": {},
     "output_type": "execute_result"
    }
   ],
   "source": [
    "df_daily_jumpsup.head()\n",
    "#This is the displaying of the first five lines of the jumpsup csv. "
   ]
  },
  {
   "cell_type": "code",
   "execution_count": 74,
   "id": "a2c14af3",
   "metadata": {},
   "outputs": [
    {
     "data": {
      "text/html": [
       "<div>\n",
       "<style scoped>\n",
       "    .dataframe tbody tr th:only-of-type {\n",
       "        vertical-align: middle;\n",
       "    }\n",
       "\n",
       "    .dataframe tbody tr th {\n",
       "        vertical-align: top;\n",
       "    }\n",
       "\n",
       "    .dataframe thead th {\n",
       "        text-align: right;\n",
       "    }\n",
       "</style>\n",
       "<table border=\"1\" class=\"dataframe\">\n",
       "  <thead>\n",
       "    <tr style=\"text-align: right;\">\n",
       "      <th></th>\n",
       "      <th>value</th>\n",
       "    </tr>\n",
       "  </thead>\n",
       "  <tbody>\n",
       "    <tr>\n",
       "      <th>count</th>\n",
       "      <td>4032.000000</td>\n",
       "    </tr>\n",
       "    <tr>\n",
       "      <th>mean</th>\n",
       "      <td>44.494254</td>\n",
       "    </tr>\n",
       "    <tr>\n",
       "      <th>std</th>\n",
       "      <td>32.432473</td>\n",
       "    </tr>\n",
       "    <tr>\n",
       "      <th>min</th>\n",
       "      <td>18.001010</td>\n",
       "    </tr>\n",
       "    <tr>\n",
       "      <th>25%</th>\n",
       "      <td>19.991382</td>\n",
       "    </tr>\n",
       "    <tr>\n",
       "      <th>50%</th>\n",
       "      <td>21.648503</td>\n",
       "    </tr>\n",
       "    <tr>\n",
       "      <th>75%</th>\n",
       "      <td>76.435943</td>\n",
       "    </tr>\n",
       "    <tr>\n",
       "      <th>max</th>\n",
       "      <td>164.947481</td>\n",
       "    </tr>\n",
       "  </tbody>\n",
       "</table>\n",
       "</div>"
      ],
      "text/plain": [
       "             value\n",
       "count  4032.000000\n",
       "mean     44.494254\n",
       "std      32.432473\n",
       "min      18.001010\n",
       "25%      19.991382\n",
       "50%      21.648503\n",
       "75%      76.435943\n",
       "max     164.947481"
      ]
     },
     "execution_count": 74,
     "metadata": {},
     "output_type": "execute_result"
    }
   ],
   "source": [
    "#the below function lists out a summary of the daily jumpsup data set. \n",
    "df_daily_jumpsup.describe()"
   ]
  },
  {
   "cell_type": "code",
   "execution_count": 72,
   "id": "c55993c1",
   "metadata": {},
   "outputs": [
    {
     "data": {
      "text/plain": [
       "19.761251903"
      ]
     },
     "execution_count": 72,
     "metadata": {},
     "output_type": "execute_result"
    }
   ],
   "source": [
    "# chekcing if the fist figure is correct or rounded\n",
    "df_daily_jumpsup.iloc[0].values[0]"
   ]
  },
  {
   "cell_type": "markdown",
   "id": "d67396f2",
   "metadata": {},
   "source": [
    "The iloc function shows that both data sets have been rounded when the head function was used afert it being read in. \n",
    "small noise 18.3249185392 to 18.324919\n",
    "daily jumpsup 19.761251903 to 19.761252"
   ]
  },
  {
   "cell_type": "markdown",
   "id": "c6803dd8",
   "metadata": {},
   "source": [
    "Below Pandas and Pyplot are used to display the data graphyically which makes it easier to see fluctuations.  "
   ]
  },
  {
   "cell_type": "code",
   "execution_count": 7,
   "id": "baf05d9e",
   "metadata": {},
   "outputs": [
    {
     "data": {
      "image/png": "[encoded data removed]",
      "text/plain": [
       "<Figure size 720x288 with 1 Axes>"
      ]
     },
     "metadata": {
      "needs_background": "light"
     },
     "output_type": "display_data"
    }
   ],
   "source": [
    "#This creates a plot and includes a figure size\n",
    "fig, ax = plt.subplots(figsize=(10,4))\n",
    "#Use pandas to plot data frame.\n",
    "df_small_noise.plot(legend=False, ax=ax);"
   ]
  },
  {
   "cell_type": "code",
   "execution_count": 8,
   "id": "d2d6191a",
   "metadata": {},
   "outputs": [
    {
     "data": {
      "image/png": "[encoded data removed]",
      "text/plain": [
       "<Figure size 720x288 with 1 Axes>"
      ]
     },
     "metadata": {
      "needs_background": "light"
     },
     "output_type": "display_data"
    }
   ],
   "source": [
    "#This creates a plot and includes a figure size\n",
    "fig, ax = plt.subplots(figsize=(10,4))\n",
    "#Use pandas to plot data frame.\n",
    "df_daily_jumpsup.plot(legend=False, ax=ax);"
   ]
  },
  {
   "cell_type": "markdown",
   "id": "4cabf416",
   "metadata": {},
   "source": [
    "## Preprocessing"
   ]
  },
  {
   "cell_type": "code",
   "execution_count": 9,
   "id": "b7882614",
   "metadata": {},
   "outputs": [
    {
     "data": {
      "text/plain": [
       "value    42.438353\n",
       "dtype: float64"
      ]
     },
     "execution_count": 9,
     "metadata": {},
     "output_type": "execute_result"
    }
   ],
   "source": [
    "# identifying the mean of the data set\n",
    "train_mean = df_small_noise.mean()\n",
    "\n",
    "train_mean"
   ]
  },
  {
   "cell_type": "code",
   "execution_count": 10,
   "id": "660e547f",
   "metadata": {},
   "outputs": [
    {
     "data": {
      "text/plain": [
       "value    28.077122\n",
       "dtype: float64"
      ]
     },
     "execution_count": 10,
     "metadata": {},
     "output_type": "execute_result"
    }
   ],
   "source": [
    "# identifying the standard deviation of the data set\n",
    "train_std = df_small_noise.std()\n",
    "\n",
    "train_std"
   ]
  },
  {
   "cell_type": "code",
   "execution_count": 11,
   "id": "142de6b7",
   "metadata": {},
   "outputs": [
    {
     "data": {
      "text/html": [
       "<div>\n",
       "<style scoped>\n",
       "    .dataframe tbody tr th:only-of-type {\n",
       "        vertical-align: middle;\n",
       "    }\n",
       "\n",
       "    .dataframe tbody tr th {\n",
       "        vertical-align: top;\n",
       "    }\n",
       "\n",
       "    .dataframe thead th {\n",
       "        text-align: right;\n",
       "    }\n",
       "</style>\n",
       "<table border=\"1\" class=\"dataframe\">\n",
       "  <thead>\n",
       "    <tr style=\"text-align: right;\">\n",
       "      <th></th>\n",
       "      <th>value</th>\n",
       "    </tr>\n",
       "    <tr>\n",
       "      <th>timestamp</th>\n",
       "      <th></th>\n",
       "    </tr>\n",
       "  </thead>\n",
       "  <tbody>\n",
       "    <tr>\n",
       "      <th>2014-04-01 00:00:00</th>\n",
       "      <td>-0.858829</td>\n",
       "    </tr>\n",
       "    <tr>\n",
       "      <th>2014-04-01 00:05:00</th>\n",
       "      <td>-0.728993</td>\n",
       "    </tr>\n",
       "    <tr>\n",
       "      <th>2014-04-01 00:10:00</th>\n",
       "      <td>-0.848148</td>\n",
       "    </tr>\n",
       "    <tr>\n",
       "      <th>2014-04-01 00:15:00</th>\n",
       "      <td>-0.729586</td>\n",
       "    </tr>\n",
       "    <tr>\n",
       "      <th>2014-04-01 00:20:00</th>\n",
       "      <td>-0.731173</td>\n",
       "    </tr>\n",
       "  </tbody>\n",
       "</table>\n",
       "</div>"
      ],
      "text/plain": [
       "                        value\n",
       "timestamp                    \n",
       "2014-04-01 00:00:00 -0.858829\n",
       "2014-04-01 00:05:00 -0.728993\n",
       "2014-04-01 00:10:00 -0.848148\n",
       "2014-04-01 00:15:00 -0.729586\n",
       "2014-04-01 00:20:00 -0.731173"
      ]
     },
     "execution_count": 11,
     "metadata": {},
     "output_type": "execute_result"
    }
   ],
   "source": [
    "#Getting mean of the values in no anomaly data and then dividing by standard deviation\n",
    "df_train_vals = (df_small_noise - train_mean) / train_std\n",
    "df_train_vals.head()"
   ]
  },
  {
   "cell_type": "code",
   "execution_count": null,
   "id": "37a2c5a2",
   "metadata": {},
   "outputs": [],
   "source": []
  },
  {
   "cell_type": "code",
   "execution_count": 12,
   "id": "dfd25cf5",
   "metadata": {},
   "outputs": [
    {
     "data": {
      "image/png": "[encoded data removed]",
      "text/plain": [
       "<Figure size 720x288 with 1 Axes>"
      ]
     },
     "metadata": {
      "needs_background": "light"
     },
     "output_type": "display_data"
    }
   ],
   "source": [
    "#This creates a plot and includes a figure size\n",
    "fig,ax = plt.subplots(figsize=(10,4))\n",
    "\n",
    "#Use pandas to plot data frame.\n",
    "df_train_vals.plot(legend=False, ax=ax);"
   ]
  },
  {
   "cell_type": "code",
   "execution_count": 13,
   "id": "adaf05c2",
   "metadata": {},
   "outputs": [
    {
     "data": {
      "text/plain": [
       "(4032, 1)"
      ]
     },
     "execution_count": 13,
     "metadata": {},
     "output_type": "execute_result"
    }
   ],
   "source": [
    "#displays the number of training samples\n",
    "df_train_vals.shape"
   ]
  },
  {
   "cell_type": "code",
   "execution_count": 14,
   "id": "09195d59",
   "metadata": {},
   "outputs": [
    {
     "data": {
      "text/plain": [
       "Index(['value'], dtype='object')"
      ]
     },
     "execution_count": 14,
     "metadata": {},
     "output_type": "execute_result"
    }
   ],
   "source": [
    "#identifying the name of the columns\n",
    "df_train_vals.columns\n"
   ]
  },
  {
   "cell_type": "markdown",
   "id": "0129fe9b",
   "metadata": {},
   "source": [
    "Columns are called value"
   ]
  },
  {
   "cell_type": "code",
   "execution_count": 15,
   "id": "3f085ad0",
   "metadata": {},
   "outputs": [],
   "source": [
    "#Gives the size of the windows\n",
    "window_size = 288"
   ]
  },
  {
   "cell_type": "markdown",
   "id": "052d0913",
   "metadata": {},
   "source": [
    "Window example:\n",
    "```python\n",
    "[1, 1, 2, 4, 5, 6, 7, 1, 2, 3, 4, 5]\n",
    "window_size = 3\n",
    "[1, 1, 2]\n",
    "[1, 2, 4]\n",
    "[2, 4, 5]\n",
    "[4, 5, 6]\n",
    "```"
   ]
  },
  {
   "cell_type": "code",
   "execution_count": 16,
   "id": "bd373994",
   "metadata": {},
   "outputs": [],
   "source": [
    "# Generated training sequences for use in the model.\n",
    "def windows(vals, N=window_size):\n",
    "    #start with an empty list\n",
    "    L = []\n",
    "    #loops through all the possible windows\n",
    "    for i in range(len(vals) - N + 1):\n",
    "    #Append a window to the list\n",
    "        L.append(vals[i:i + N])\n",
    "    #stack them on display\n",
    "    return np.stack(L )"
   ]
  },
  {
   "cell_type": "code",
   "execution_count": 17,
   "id": "c341fb09",
   "metadata": {},
   "outputs": [],
   "source": [
    "#applying windows shape to the data set\n",
    "x_train = windows(df_train_vals)"
   ]
  },
  {
   "cell_type": "code",
   "execution_count": 18,
   "id": "12edecfa",
   "metadata": {},
   "outputs": [
    {
     "data": {
      "text/plain": [
       "(array([-0.85882857]), array([-0.79671155]))"
      ]
     },
     "execution_count": 18,
     "metadata": {},
     "output_type": "execute_result"
    }
   ],
   "source": [
    "#show first and last values\n",
    "x_train[0][0], x_train[0][-1]"
   ]
  },
  {
   "cell_type": "code",
   "execution_count": 19,
   "id": "c4d81dcd",
   "metadata": {},
   "outputs": [
    {
     "data": {
      "text/plain": [
       "(value   -0.858829\n",
       " Name: 2014-04-01 00:00:00, dtype: float64,\n",
       " value   -0.796712\n",
       " Name: 2014-04-01 23:55:00, dtype: float64)"
      ]
     },
     "execution_count": 19,
     "metadata": {},
     "output_type": "execute_result"
    }
   ],
   "source": [
    "#show first and last values using window size \n",
    "df_train_vals.iloc[0], df_train_vals.iloc[window_size -1]"
   ]
  },
  {
   "cell_type": "code",
   "execution_count": 20,
   "id": "3285e40f",
   "metadata": {},
   "outputs": [
    {
     "data": {
      "text/plain": [
       "(3745, 288, 1)"
      ]
     },
     "execution_count": 20,
     "metadata": {},
     "output_type": "execute_result"
    }
   ],
   "source": [
    "#To show how many windows and what size each window\n",
    "x_train.shape"
   ]
  },
  {
   "cell_type": "markdown",
   "id": "24e68dd1",
   "metadata": {},
   "source": [
    "From above we have 3745 windows of 288 size each "
   ]
  },
  {
   "cell_type": "code",
   "execution_count": 21,
   "id": "d394a20d",
   "metadata": {
    "scrolled": true
   },
   "outputs": [],
   "source": [
    "#creating the layers for the model\n",
    "layers = [\n",
    "  #adding attributes to build the keras model\n",
    "  layers.Input(shape=(x_train.shape[1], x_train.shape[2])),\n",
    "  #this creates a 1D convolution layer. \n",
    "  layers.Conv1D(\n",
    "    filters=32, kernel_size=7, padding=\"same\", strides=2, activation=\"relu\"),\n",
    "  #applies dropout to the input at a particular rate\n",
    "  layers.Dropout(rate=0.2),\n",
    "  #this creates a 1D convolution layer\n",
    "  layers.Conv1D(\n",
    "    filters=16, kernel_size=7, padding=\"same\", strides=2, activation=\"relu\"),\n",
    "  #this creates a 1D convolution layer in the opposite direction.\n",
    "  layers.Conv1DTranspose(\n",
    "    filters=16, kernel_size=7, padding=\"same\", strides=2, activation=\"relu\"),   \n",
    "  #applies dropout to the input at a particular rate\n",
    "  layers.Dropout(rate=0.2),\n",
    "  #this creates a 1D convolution layer in the opposite direction\n",
    "  layers.Conv1DTranspose(\n",
    "        filters=32, kernel_size=7, padding=\"same\", strides=2, activation=\"relu\"),  \n",
    "  #this creates a 1D convolution layer in the opposite direction\n",
    "    layers.Conv1DTranspose(filters=1, kernel_size=7, padding=\"same\"),\n",
    "]"
   ]
  },
  {
   "cell_type": "code",
   "execution_count": 22,
   "id": "76bc8718",
   "metadata": {},
   "outputs": [
    {
     "name": "stdout",
     "output_type": "stream",
     "text": [
      "Model: \"sequential\"\n",
      "_________________________________________________________________\n",
      "Layer (type)                 Output Shape              Param #   \n",
      "=================================================================\n",
      "conv1d (Conv1D)              (None, 144, 32)           256       \n",
      "_________________________________________________________________\n",
      "dropout (Dropout)            (None, 144, 32)           0         \n",
      "_________________________________________________________________\n",
      "conv1d_1 (Conv1D)            (None, 72, 16)            3600      \n",
      "_________________________________________________________________\n",
      "conv1d_transpose (Conv1DTran (None, 144, 16)           1808      \n",
      "_________________________________________________________________\n",
      "dropout_1 (Dropout)          (None, 144, 16)           0         \n",
      "_________________________________________________________________\n",
      "conv1d_transpose_1 (Conv1DTr (None, 288, 32)           3616      \n",
      "_________________________________________________________________\n",
      "conv1d_transpose_2 (Conv1DTr (None, 288, 1)            225       \n",
      "=================================================================\n",
      "Total params: 9,505\n",
      "Trainable params: 9,505\n",
      "Non-trainable params: 0\n",
      "_________________________________________________________________\n"
     ]
    }
   ],
   "source": [
    "#putting the layers into the model\n",
    "model = keras.Sequential(layers)\n",
    "#optimizer \n",
    "model.compile(optimizer=keras.optimizers.Adam(learning_rate=0.001), loss=\"mse\")\n",
    "# Gives layers and summary of the information.\n",
    "model.summary()"
   ]
  },
  {
   "cell_type": "code",
   "execution_count": 23,
   "id": "f7f6dcd3",
   "metadata": {},
   "outputs": [
    {
     "name": "stdout",
     "output_type": "stream",
     "text": [
      "Epoch 1/50\n",
      "27/27 [==============================] - 3s 95ms/step - loss: 0.5973 - val_loss: 0.2180\n",
      "Epoch 2/50\n",
      "27/27 [==============================] - 2s 70ms/step - loss: 0.1012 - val_loss: 0.0460\n",
      "Epoch 3/50\n",
      "27/27 [==============================] - 2s 70ms/step - loss: 0.0589 - val_loss: 0.0369\n",
      "Epoch 4/50\n",
      "27/27 [==============================] - 2s 82ms/step - loss: 0.0498 - val_loss: 0.0311\n",
      "Epoch 5/50\n",
      "27/27 [==============================] - 2s 73ms/step - loss: 0.0431 - val_loss: 0.0279\n",
      "Epoch 6/50\n",
      "27/27 [==============================] - 2s 71ms/step - loss: 0.0382 - val_loss: 0.0241\n",
      "Epoch 7/50\n",
      "27/27 [==============================] - 2s 77ms/step - loss: 0.0345 - val_loss: 0.0230\n",
      "Epoch 8/50\n",
      "27/27 [==============================] - 2s 75ms/step - loss: 0.0316 - val_loss: 0.0212\n",
      "Epoch 9/50\n",
      "27/27 [==============================] - 2s 70ms/step - loss: 0.0292 - val_loss: 0.0189\n",
      "Epoch 10/50\n",
      "27/27 [==============================] - 2s 75ms/step - loss: 0.0276 - val_loss: 0.0182\n",
      "Epoch 11/50\n",
      "27/27 [==============================] - 2s 80ms/step - loss: 0.0261 - val_loss: 0.0183\n",
      "Epoch 12/50\n",
      "27/27 [==============================] - 2s 71ms/step - loss: 0.0250 - val_loss: 0.0178\n",
      "Epoch 13/50\n",
      "27/27 [==============================] - 2s 70ms/step - loss: 0.0241 - val_loss: 0.0164\n",
      "Epoch 14/50\n",
      "27/27 [==============================] - 2s 84ms/step - loss: 0.0232 - val_loss: 0.0167\n",
      "Epoch 15/50\n",
      "27/27 [==============================] - 2s 70ms/step - loss: 0.0224 - val_loss: 0.0172\n",
      "Epoch 16/50\n",
      "27/27 [==============================] - 2s 70ms/step - loss: 0.0217 - val_loss: 0.0158\n",
      "Epoch 17/50\n",
      "27/27 [==============================] - 2s 83ms/step - loss: 0.0210 - val_loss: 0.0162\n",
      "Epoch 18/50\n",
      "27/27 [==============================] - 2s 72ms/step - loss: 0.0204 - val_loss: 0.0167\n",
      "Epoch 19/50\n",
      "27/27 [==============================] - 2s 70ms/step - loss: 0.0199 - val_loss: 0.0157\n",
      "Epoch 20/50\n",
      "27/27 [==============================] - 2s 79ms/step - loss: 0.0193 - val_loss: 0.0148\n",
      "Epoch 21/50\n",
      "27/27 [==============================] - 2s 75ms/step - loss: 0.0187 - val_loss: 0.0162\n",
      "Epoch 22/50\n",
      "27/27 [==============================] - 2s 70ms/step - loss: 0.0182 - val_loss: 0.0159\n",
      "Epoch 23/50\n",
      "27/27 [==============================] - 2s 76ms/step - loss: 0.0175 - val_loss: 0.0171\n",
      "Epoch 24/50\n",
      "27/27 [==============================] - 2s 79ms/step - loss: 0.0170 - val_loss: 0.0148\n",
      "Epoch 25/50\n",
      "27/27 [==============================] - 2s 70ms/step - loss: 0.0165 - val_loss: 0.0157\n",
      "Epoch 26/50\n",
      "27/27 [==============================] - 2s 71ms/step - loss: 0.0159 - val_loss: 0.0149\n",
      "Epoch 27/50\n",
      "27/27 [==============================] - 2s 86ms/step - loss: 0.0154 - val_loss: 0.0146\n",
      "Epoch 28/50\n",
      "27/27 [==============================] - 2s 72ms/step - loss: 0.0149 - val_loss: 0.0152\n",
      "Epoch 29/50\n",
      "27/27 [==============================] - 2s 73ms/step - loss: 0.0145 - val_loss: 0.0148\n",
      "Epoch 30/50\n",
      "27/27 [==============================] - 2s 90ms/step - loss: 0.0140 - val_loss: 0.0136\n",
      "Epoch 31/50\n",
      "27/27 [==============================] - 2s 75ms/step - loss: 0.0136 - val_loss: 0.0151\n",
      "Epoch 32/50\n",
      "27/27 [==============================] - 2s 75ms/step - loss: 0.0131 - val_loss: 0.0139\n",
      "Epoch 33/50\n",
      "27/27 [==============================] - 2s 85ms/step - loss: 0.0127 - val_loss: 0.0144\n",
      "Epoch 34/50\n",
      "27/27 [==============================] - 2s 77ms/step - loss: 0.0123 - val_loss: 0.0142\n",
      "Epoch 35/50\n",
      "27/27 [==============================] - 2s 75ms/step - loss: 0.0118 - val_loss: 0.0133\n",
      "Epoch 36/50\n",
      "27/27 [==============================] - 2s 84ms/step - loss: 0.0114 - val_loss: 0.0139\n",
      "Epoch 37/50\n",
      "27/27 [==============================] - 2s 79ms/step - loss: 0.0110 - val_loss: 0.0124\n",
      "Epoch 38/50\n",
      "27/27 [==============================] - 2s 73ms/step - loss: 0.0106 - val_loss: 0.0111\n",
      "Epoch 39/50\n",
      "27/27 [==============================] - 2s 81ms/step - loss: 0.0102 - val_loss: 0.0122\n",
      "Epoch 40/50\n",
      "27/27 [==============================] - 2s 77ms/step - loss: 0.0099 - val_loss: 0.0107\n",
      "Epoch 41/50\n",
      "27/27 [==============================] - 2s 71ms/step - loss: 0.0096 - val_loss: 0.0102\n",
      "Epoch 42/50\n",
      "27/27 [==============================] - 2s 75ms/step - loss: 0.0092 - val_loss: 0.0114\n",
      "Epoch 43/50\n",
      "27/27 [==============================] - 2s 83ms/step - loss: 0.0090 - val_loss: 0.0101\n",
      "Epoch 44/50\n",
      "27/27 [==============================] - 2s 70ms/step - loss: 0.0088 - val_loss: 0.0106\n",
      "Epoch 45/50\n",
      "27/27 [==============================] - 2s 74ms/step - loss: 0.0085 - val_loss: 0.0102\n",
      "Epoch 46/50\n",
      "27/27 [==============================] - 2s 83ms/step - loss: 0.0083 - val_loss: 0.0099\n",
      "Epoch 47/50\n",
      "27/27 [==============================] - 2s 70ms/step - loss: 0.0081 - val_loss: 0.0103\n",
      "Epoch 48/50\n",
      "27/27 [==============================] - 2s 73ms/step - loss: 0.0079 - val_loss: 0.0098\n",
      "Epoch 49/50\n",
      "27/27 [==============================] - 2s 83ms/step - loss: 0.0078 - val_loss: 0.0096\n",
      "Epoch 50/50\n",
      "27/27 [==============================] - 2s 72ms/step - loss: 0.0076 - val_loss: 0.0090\n"
     ]
    }
   ],
   "source": [
    "#part of keras sequential training the model, history is a reocord of values\n",
    "history = model.fit(\n",
    "    x_train,\n",
    "    x_train,\n",
    "    epochs=50,\n",
    "    batch_size=128,\n",
    "    validation_split=0.1,\n",
    "    #this stops code running\n",
    "    callbacks=[\n",
    "        keras.callbacks.EarlyStopping(monitor=\"val_loss\", patience=5, mode=\"min\")\n",
    "    ],\n",
    ")"
   ]
  },
  {
   "cell_type": "markdown",
   "id": "2d5184b0",
   "metadata": {},
   "source": [
    "## Evaluation"
   ]
  },
  {
   "cell_type": "code",
   "execution_count": 24,
   "id": "8723f933",
   "metadata": {},
   "outputs": [
    {
     "data": {
      "image/png": "[encoded data removed]",
      "text/plain": [
       "<Figure size 720x432 with 1 Axes>"
      ]
     },
     "metadata": {
      "needs_background": "light"
     },
     "output_type": "display_data"
    }
   ],
   "source": [
    "# history is displayed graphically of the Training and Validation loss values\n",
    "fig, ax = plt.subplots(figsize=(10,6))\n",
    "ax.plot(history.history[\"loss\"], label=\"Training Loss\")\n",
    "ax.plot(history.history[\"val_loss\"], label=\"Validation Loss\")\n",
    "ax.legend();"
   ]
  },
  {
   "cell_type": "code",
   "execution_count": 25,
   "id": "26613ee8",
   "metadata": {},
   "outputs": [],
   "source": [
    "# Get train MAE loss.\n",
    "x_train_pred = model.predict(x_train)"
   ]
  },
  {
   "cell_type": "code",
   "execution_count": 26,
   "id": "c3a8f405",
   "metadata": {},
   "outputs": [],
   "source": [
    "#Calculate loss\n",
    "train_mae_loss = np.mean(np.abs(x_train_pred - x_train), axis=1)"
   ]
  },
  {
   "cell_type": "code",
   "execution_count": 27,
   "id": "96a60174",
   "metadata": {},
   "outputs": [
    {
     "data": {
      "image/png": "[encoded data removed]",
      "text/plain": [
       "<Figure size 720x432 with 1 Axes>"
      ]
     },
     "metadata": {
      "needs_background": "light"
     },
     "output_type": "display_data"
    }
   ],
   "source": [
    "#Creating diagram\n",
    "fig, ax = plt.subplots(figsize =(10,6))\n",
    "#plotting histogram\n",
    "ax.hist(train_mae_loss, bins=50)\n",
    "# Label for X Axis\n",
    "ax.set_xlabel(\"Train MAE loss\")\n",
    "#Label for Y Axis\n",
    "ax.set_ylabel(\"No of samples\");\n"
   ]
  },
  {
   "cell_type": "code",
   "execution_count": 28,
   "id": "ebeda75e",
   "metadata": {},
   "outputs": [
    {
     "data": {
      "text/plain": [
       "0.08072416305946625"
      ]
     },
     "execution_count": 28,
     "metadata": {},
     "output_type": "execute_result"
    }
   ],
   "source": [
    "# Get reconstruction loss threshold.\n",
    "threshold = np.max(train_mae_loss)\n",
    "#pritn out the threshold\n",
    "threshold"
   ]
  },
  {
   "cell_type": "code",
   "execution_count": 29,
   "id": "eab15de9",
   "metadata": {},
   "outputs": [
    {
     "data": {
      "image/png": "[encoded data removed]",
      "text/plain": [
       "<Figure size 720x432 with 1 Axes>"
      ]
     },
     "metadata": {
      "needs_background": "light"
     },
     "output_type": "display_data"
    }
   ],
   "source": [
    "# Checking how the first sequence is learnt\n",
    "#shaping the plot.\n",
    "fir, ax = plt.subplots(figsize =(10,6))\n",
    "#plotting training data\n",
    "ax.plot(x_train[0])\n",
    "#plotting predicted date\n",
    "ax.plot(x_train_pred[0]);"
   ]
  },
  {
   "cell_type": "code",
   "execution_count": 30,
   "id": "5d651fbf",
   "metadata": {},
   "outputs": [],
   "source": [
    "df_test_value = (df_daily_jumpsup - train_mean) / train_std\n"
   ]
  },
  {
   "cell_type": "code",
   "execution_count": 31,
   "id": "694bb0d5",
   "metadata": {},
   "outputs": [
    {
     "data": {
      "image/png": "[encoded data removed]",
      "text/plain": [
       "<Figure size 432x288 with 1 Axes>"
      ]
     },
     "metadata": {
      "needs_background": "light"
     },
     "output_type": "display_data"
    }
   ],
   "source": [
    "fig, ax = plt.subplots()\n",
    "df_test_value.plot(legend=False, ax=ax);\n"
   ]
  },
  {
   "cell_type": "code",
   "execution_count": 32,
   "id": "419d46fd",
   "metadata": {},
   "outputs": [
    {
     "name": "stdout",
     "output_type": "stream",
     "text": [
      "(3745, 288, 1)\n"
     ]
    }
   ],
   "source": [
    "# Create sequences from test values.\n",
    "x_test = windows(df_test_value.values)\n",
    "print( x_test.shape)"
   ]
  },
  {
   "cell_type": "code",
   "execution_count": 33,
   "id": "b352a8de",
   "metadata": {},
   "outputs": [],
   "source": [
    "# Get test MAE loss.\n",
    "x_test_pred = model.predict(x_test)"
   ]
  },
  {
   "cell_type": "code",
   "execution_count": 34,
   "id": "b4f0f50d",
   "metadata": {},
   "outputs": [
    {
     "data": {
      "text/plain": [
       "array([[0.06514123],\n",
       "       [0.06799821],\n",
       "       [0.06926821],\n",
       "       ...,\n",
       "       [0.06944857],\n",
       "       [0.07034383],\n",
       "       [0.06968768]])"
      ]
     },
     "execution_count": 34,
     "metadata": {},
     "output_type": "execute_result"
    }
   ],
   "source": [
    "test_mae_loss = np.mean(np.abs(x_test_pred - x_test), axis=1)\n",
    "test_mae_loss"
   ]
  },
  {
   "cell_type": "code",
   "execution_count": 35,
   "id": "46f5e6dc",
   "metadata": {},
   "outputs": [
    {
     "data": {
      "text/plain": [
       "array([0.06514123, 0.06799821, 0.06926821, ..., 0.06944857, 0.07034383,\n",
       "       0.06968768])"
      ]
     },
     "execution_count": 35,
     "metadata": {},
     "output_type": "execute_result"
    }
   ],
   "source": [
    "test_mae_loss = test_mae_loss.reshape((-1))\n",
    "\n",
    "test_mae_loss\n",
    "\n"
   ]
  },
  {
   "cell_type": "code",
   "execution_count": 36,
   "id": "e3e20c88",
   "metadata": {},
   "outputs": [
    {
     "data": {
      "image/png": "[encoded data removed]",
      "text/plain": [
       "<Figure size 720x432 with 1 Axes>"
      ]
     },
     "metadata": {
      "needs_background": "light"
     },
     "output_type": "display_data"
    }
   ],
   "source": [
    "#\n",
    "fig, ax = plt.subplots(figsize=(10,6))\n",
    "#\n",
    "ax.hist(test_mae_loss, bins=50)\n",
    "#\n",
    "ax.set_xlabel(\"test MAE loss\")\n",
    "#\n",
    "ax.set_ylabel(\"No of samples\");\n"
   ]
  },
  {
   "cell_type": "code",
   "execution_count": 37,
   "id": "5b17b57f",
   "metadata": {},
   "outputs": [
    {
     "data": {
      "text/plain": [
       "410"
      ]
     },
     "execution_count": 37,
     "metadata": {},
     "output_type": "execute_result"
    }
   ],
   "source": [
    "# Detect all the samples which are anomalies.\n",
    "anomalies = test_mae_loss > threshold\n",
    "#Number of anomalies\n",
    "np.sum(anomalies)\n"
   ]
  },
  {
   "cell_type": "code",
   "execution_count": 38,
   "id": "1db02349",
   "metadata": {},
   "outputs": [
    {
     "data": {
      "text/plain": [
       "(array([ 775,  793,  794,  795, 1942, 1945, 1946, 2121, 2122, 2519, 2521,\n",
       "        2697, 2701, 2702, 2703, 2704, 2705, 2706, 2707, 2708, 2709, 2710,\n",
       "        2711, 2712, 2713, 2714, 2715, 2716, 2717, 2718, 2719, 2720, 2721,\n",
       "        2722, 2723, 2724, 2725, 2726, 2727, 2728, 2729, 2730, 2731, 2732,\n",
       "        2733, 2734, 2735, 2736, 2737, 2738, 2739, 2740, 2741, 2742, 2743,\n",
       "        2744, 2745, 2746, 2747, 2748, 2749, 2750, 2751, 2752, 2753, 2754,\n",
       "        2755, 2756, 2757, 2758, 2759, 2760, 2761, 2762, 2763, 2764, 2765,\n",
       "        2766, 2767, 2768, 2769, 2770, 2771, 2772, 2773, 2774, 2775, 2776,\n",
       "        2777, 2778, 2779, 2780, 2781, 2782, 2783, 2784, 2785, 2786, 2787,\n",
       "        2788, 2789, 2790, 2791, 2792, 2793, 2794, 2795, 2796, 2797, 2798,\n",
       "        2799, 2800, 2801, 2802, 2803, 2804, 2805, 2806, 2807, 2808, 2809,\n",
       "        2810, 2811, 2812, 2813, 2814, 2815, 2816, 2817, 2818, 2819, 2820,\n",
       "        2821, 2822, 2823, 2824, 2825, 2826, 2827, 2828, 2829, 2830, 2831,\n",
       "        2832, 2833, 2834, 2835, 2836, 2837, 2838, 2839, 2840, 2841, 2842,\n",
       "        2843, 2844, 2845, 2846, 2847, 2848, 2849, 2850, 2851, 2852, 2853,\n",
       "        2854, 2855, 2856, 2857, 2858, 2859, 2860, 2861, 2862, 2863, 2864,\n",
       "        2865, 2866, 2867, 2868, 2869, 2870, 2871, 2872, 2873, 2874, 2875,\n",
       "        2876, 2877, 2878, 2879, 2880, 2881, 2882, 2883, 2884, 2885, 2886,\n",
       "        2887, 2888, 2889, 2890, 2891, 2892, 2893, 2894, 2895, 2896, 2897,\n",
       "        2898, 2899, 2900, 2901, 2902, 2903, 2904, 2905, 2906, 2907, 2908,\n",
       "        2909, 2910, 2911, 2912, 2913, 2914, 2915, 2916, 2917, 2918, 2919,\n",
       "        2920, 2921, 2922, 2923, 2924, 2925, 2926, 2927, 2928, 2929, 2930,\n",
       "        2931, 2932, 2933, 2934, 2935, 2936, 2937, 2938, 2939, 2940, 2941,\n",
       "        2942, 2943, 2944, 2945, 2946, 2947, 2948, 2949, 2950, 2951, 2952,\n",
       "        2953, 2954, 2955, 2956, 2957, 2958, 2959, 2960, 2961, 2962, 2963,\n",
       "        2964, 2965, 2966, 2967, 2968, 2969, 2970, 2971, 2972, 2973, 2974,\n",
       "        2975, 2976, 2977, 2978, 2979, 2980, 2981, 2982, 2983, 2984, 2985,\n",
       "        2986, 2987, 2988, 2989, 2990, 2991, 2992, 2993, 2994, 2995, 2996,\n",
       "        2997, 2998, 2999, 3000, 3001, 3002, 3003, 3004, 3005, 3006, 3007,\n",
       "        3008, 3009, 3010, 3011, 3012, 3013, 3014, 3015, 3016, 3017, 3018,\n",
       "        3019, 3020, 3021, 3022, 3023, 3024, 3025, 3026, 3027, 3028, 3029,\n",
       "        3030, 3031, 3032, 3033, 3034, 3035, 3036, 3037, 3038, 3039, 3040,\n",
       "        3041, 3042, 3043, 3044, 3045, 3046, 3047, 3048, 3049, 3050, 3051,\n",
       "        3052, 3053, 3054, 3055, 3056, 3057, 3058, 3059, 3060, 3061, 3062,\n",
       "        3063, 3064, 3065, 3066, 3067, 3068, 3069, 3070, 3071, 3072, 3073,\n",
       "        3074, 3075, 3076, 3077, 3078, 3079, 3080, 3081, 3082, 3083, 3084,\n",
       "        3085, 3086, 3087, 3088, 3089, 3090, 3091, 3092, 3093, 3094, 3095,\n",
       "        3097, 3098, 3099], dtype=int64),)"
      ]
     },
     "execution_count": 38,
     "metadata": {},
     "output_type": "execute_result"
    }
   ],
   "source": [
    "#Indices of anomalies\n",
    "np.where(anomalies)"
   ]
  },
  {
   "cell_type": "code",
   "execution_count": 45,
   "id": "f916c537",
   "metadata": {},
   "outputs": [],
   "source": [
    "# data i is an anomaly if samples [(i - timesteps + 1) to (i)] are anomalies\n",
    "inds = []\n",
    "for i in range(window_size - 1, len(df_test_value) - window_size + 1):\n",
    "    if np.all(anomalies[i - window_size + 1 : i]):\n",
    "        inds.append(i)"
   ]
  },
  {
   "cell_type": "code",
   "execution_count": 53,
   "id": "08eb496b",
   "metadata": {},
   "outputs": [],
   "source": [
    "#\n",
    "df_subset = df_daily_jumpsup.iloc[inds]"
   ]
  },
  {
   "cell_type": "code",
   "execution_count": 55,
   "id": "dae8ece0",
   "metadata": {},
   "outputs": [
    {
     "data": {
      "image/png": "[encoded data removed]",
      "text/plain": [
       "<Figure size 720x432 with 1 Axes>"
      ]
     },
     "metadata": {
      "needs_background": "light"
     },
     "output_type": "display_data"
    }
   ],
   "source": [
    "#\n",
    "fig, ax = plt.subplots(figsize=(10,6))\n",
    "#\n",
    "df_daily_jumpsup.plot(legend=False, ax=ax)\n",
    "#\n",
    "df_subset.plot(legend=False, ax=ax, color=\"r\");"
   ]
  },
  {
   "cell_type": "markdown",
   "id": "b320f52a",
   "metadata": {},
   "source": [
    "## ***References***\n",
    "I used ATU video Lectures by Ian McLoughlin and class notes to complete this work.\n",
    "In addition I searched online using the following websites. \n",
    "\n",
    "\n",
    "1. [Simplilearn](https://www.simplilearn.com/tutorials/deep-learning-tutorial/what-is-keras)\n",
    "\n",
    "\n",
    "2. [Keras Time Series](https://keras.io/examples/timeseries/timeseries_anomaly_detection/)\n",
    "\n",
    "\n",
    "3. [Tensor Flow](https://en.wikipedia.org/wiki/TensorFlow)\n",
    "\n",
    "The Keras user guide was used througout for comments.[Keras](https://keras.io/guides/)\n",
    "\n",
    "\n",
    "\n"
   ]
  },
  {
   "cell_type": "code",
   "execution_count": null,
   "id": "4b2a97af",
   "metadata": {},
   "outputs": [],
   "source": []
  }
 ],
 "metadata": {
  "kernelspec": {
   "display_name": "Python 3",
   "language": "python",
   "name": "python3"
  },
  "language_info": {
   "codemirror_mode": {
    "name": "ipython",
    "version": 3
   },
   "file_extension": ".py",
   "mimetype": "text/x-python",
   "name": "python",
   "nbconvert_exporter": "python",
   "pygments_lexer": "ipython3",
   "version": "3.8.8"
  }
 },
 "nbformat": 4,
 "nbformat_minor": 5
}
