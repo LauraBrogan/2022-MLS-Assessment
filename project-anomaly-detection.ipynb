{
 "cells": [
  {
   "cell_type": "markdown",
   "id": "ff3654b5",
   "metadata": {},
   "source": [
    "# Machine Learning and Statistics 2022 Project\n",
    "<hr style=\"border-top: 1px solid #001a79;\" />\n",
    "<h1 style=\"color: #001a79;\">Anomaly Detection Using Keras</h1>\n",
    "\n",
    "<hr style=\"border-top: 1px solid #001a79;\" /> "
   ]
  },
  {
   "cell_type": "markdown",
   "id": "0819606a",
   "metadata": {},
   "source": [
    "This project looks at the Keras time series anomaly detection. Keras is a high level, deep learning Application Programming Interface (API) developed for implementing neural networks. As it is python fronted it is realtively easy to work with. {*1*}\n",
    "The time series code is taken from here [Keras Time Series](https://keras.io/examples/timeseries/timeseries_anomaly_detection/){*2*} \n",
    "\n",
    "\n",
    "As this code provides limited detail on explaining the code, I will attempt to expand on what is provided to provide a better explanation. \n"
   ]
  },
  {
   "cell_type": "code",
   "execution_count": 66,
   "id": "6117c206",
   "metadata": {},
   "outputs": [],
   "source": [
    "# Numerical arrays.\n",
    "import numpy as np\n",
    "\n",
    "# Spreadsheet-like Data Frames.\n",
    "import pandas as pd\n",
    "\n",
    "# Neural networks.\n",
    "import tensorflow.keras as keras\n",
    "\n",
    "# layers of neural networks\n",
    "from tensorflow.keras import layers\n",
    "\n",
    "# Plotting\n",
    "import matplotlib.pyplot as plt"
   ]
  },
  {
   "cell_type": "markdown",
   "id": "e2d54916",
   "metadata": {},
   "source": [
    "Above is the importation of the libaries and packages needed to run the code. \n",
    "* Matplolib is a Python 20 plotting library which produces publication quality figures in a variety of hardcopy formats and interactive    enviroments across platforms. \n",
    "\n",
    "* NumPy is a library for the Python programming language, adding support for large, multi-dimensional arrays and matrices, along with a large collection of high-level mathematical functions to operate on these arrays.\n",
    "\n",
    "* Pandas is an open source, BDS-licenced libary providing high-oerfimance, easy-to-use data structures and data analysis tools. \n",
    "\n",
    "* TensorFlow is a free and open-source software library for machine learning and artificial intelligence. It can be used across a range of     tasks but has a particular focus on training and inference of deep neural networks.{*3*}\n",
    "\n",
    "\n",
    "\n"
   ]
  },
  {
   "cell_type": "markdown",
   "id": "38625cac",
   "metadata": {},
   "source": [
    "## Data\n",
    "\n",
    "The data used comes from the links below:\n",
    "\n",
    "Kaggle - https://www.kaggle.com/datasets/boltzmannbrain/nab\n",
    "\n",
    "From the Kaggle page \"The Numenta Anomaly Benchmark (NAB) is a novel benchmark for evaluating algorithms for anomaly detection in streaming, online applications. It is comprised of over 50 labeled real-world and artificial timeseries data files plus a novel scoring mechanism designed for real-time applications. All of the data and code is fully open-source, with extensive documentation, and a scoreboard of anomaly detection algorithms.\"\n",
    "The full dataset is included here: Github - https://github.com/numenta/NAB \n",
    "\n",
    "\n",
    "\"It provides artifical timeseries data containing labeled anomalous periods of behavior. Data are ordered, timestamped, single-valued metrics.\n",
    "\n",
    "We will use the art_daily_small_noise.csv file for training and the art_daily_jumpsup.csv file for testing. The simplicity of this dataset allows us to demonstrate anomaly detection effectively.\"{*2*}\n",
    "\n",
    "I read in below using pandas the two data set files."
   ]
  },
  {
   "cell_type": "code",
   "execution_count": 2,
   "id": "28c2636a",
   "metadata": {},
   "outputs": [],
   "source": [
    "#Root of URLs.\n",
    "root_url = 'https://raw.githubusercontent.com/numenta/NAB/master/data/'\n",
    "\n",
    "#Data file without anomaly.\n",
    "no_anomaly_url = root_url +'artificialNoAnomaly/art_daily_small_noise.csv'\n",
    "\n",
    "#Data file with anomaly.\n",
    "with_anomaly_url = root_url +'artificialWithAnomaly/art_daily_jumpsup.csv'\n"
   ]
  },
  {
   "cell_type": "code",
   "execution_count": 3,
   "id": "79720c60",
   "metadata": {},
   "outputs": [
    {
     "data": {
      "text/plain": [
       "'https://raw.githubusercontent.com/numenta/NAB/master/data/artificialNoAnomaly/art_daily_small_noise.csv'"
      ]
     },
     "execution_count": 3,
     "metadata": {},
     "output_type": "execute_result"
    }
   ],
   "source": [
    "#check that url is configured correctly for no anomaly\n",
    "no_anomaly_url"
   ]
  },
  {
   "cell_type": "code",
   "execution_count": 4,
   "id": "49450d5c",
   "metadata": {},
   "outputs": [
    {
     "data": {
      "text/plain": [
       "'https://raw.githubusercontent.com/numenta/NAB/master/data/artificialWithAnomaly/art_daily_jumpsup.csv'"
      ]
     },
     "execution_count": 4,
     "metadata": {},
     "output_type": "execute_result"
    }
   ],
   "source": [
    "#check that url is configured correctly for no anomaly\n",
    "with_anomaly_url"
   ]
  },
  {
   "cell_type": "code",
   "execution_count": 5,
   "id": "79bc42e5",
   "metadata": {},
   "outputs": [],
   "source": [
    "#Reading in of csv file no anomaly with pandas.\n",
    "df_small_noise = pd.read_csv(no_anomaly_url, parse_dates=True, index_col=\"timestamp\")"
   ]
  },
  {
   "cell_type": "code",
   "execution_count": 6,
   "id": "d7d52018",
   "metadata": {},
   "outputs": [
    {
     "data": {
      "text/plain": [
       "(4032, 1)"
      ]
     },
     "execution_count": 6,
     "metadata": {},
     "output_type": "execute_result"
    }
   ],
   "source": [
    "#shows how much data is in the data set and its make up. \n",
    "df_small_noise.shape"
   ]
  },
  {
   "cell_type": "code",
   "execution_count": 7,
   "id": "656ff952",
   "metadata": {
    "scrolled": true
   },
   "outputs": [
    {
     "data": {
      "text/html": [
       "<div>\n",
       "<style scoped>\n",
       "    .dataframe tbody tr th:only-of-type {\n",
       "        vertical-align: middle;\n",
       "    }\n",
       "\n",
       "    .dataframe tbody tr th {\n",
       "        vertical-align: top;\n",
       "    }\n",
       "\n",
       "    .dataframe thead th {\n",
       "        text-align: right;\n",
       "    }\n",
       "</style>\n",
       "<table border=\"1\" class=\"dataframe\">\n",
       "  <thead>\n",
       "    <tr style=\"text-align: right;\">\n",
       "      <th></th>\n",
       "      <th>value</th>\n",
       "    </tr>\n",
       "    <tr>\n",
       "      <th>timestamp</th>\n",
       "      <th></th>\n",
       "    </tr>\n",
       "  </thead>\n",
       "  <tbody>\n",
       "    <tr>\n",
       "      <th>2014-04-01 00:00:00</th>\n",
       "      <td>18.324919</td>\n",
       "    </tr>\n",
       "    <tr>\n",
       "      <th>2014-04-01 00:05:00</th>\n",
       "      <td>21.970327</td>\n",
       "    </tr>\n",
       "    <tr>\n",
       "      <th>2014-04-01 00:10:00</th>\n",
       "      <td>18.624806</td>\n",
       "    </tr>\n",
       "    <tr>\n",
       "      <th>2014-04-01 00:15:00</th>\n",
       "      <td>21.953684</td>\n",
       "    </tr>\n",
       "    <tr>\n",
       "      <th>2014-04-01 00:20:00</th>\n",
       "      <td>21.909120</td>\n",
       "    </tr>\n",
       "  </tbody>\n",
       "</table>\n",
       "</div>"
      ],
      "text/plain": [
       "                         value\n",
       "timestamp                     \n",
       "2014-04-01 00:00:00  18.324919\n",
       "2014-04-01 00:05:00  21.970327\n",
       "2014-04-01 00:10:00  18.624806\n",
       "2014-04-01 00:15:00  21.953684\n",
       "2014-04-01 00:20:00  21.909120"
      ]
     },
     "execution_count": 7,
     "metadata": {},
     "output_type": "execute_result"
    }
   ],
   "source": [
    "df_small_noise.head()\n",
    "#This is the displaying of the first five lines of the small noise csv. "
   ]
  },
  {
   "cell_type": "code",
   "execution_count": 8,
   "id": "f9d8f209",
   "metadata": {},
   "outputs": [
    {
     "data": {
      "text/html": [
       "<div>\n",
       "<style scoped>\n",
       "    .dataframe tbody tr th:only-of-type {\n",
       "        vertical-align: middle;\n",
       "    }\n",
       "\n",
       "    .dataframe tbody tr th {\n",
       "        vertical-align: top;\n",
       "    }\n",
       "\n",
       "    .dataframe thead th {\n",
       "        text-align: right;\n",
       "    }\n",
       "</style>\n",
       "<table border=\"1\" class=\"dataframe\">\n",
       "  <thead>\n",
       "    <tr style=\"text-align: right;\">\n",
       "      <th></th>\n",
       "      <th>value</th>\n",
       "    </tr>\n",
       "  </thead>\n",
       "  <tbody>\n",
       "    <tr>\n",
       "      <th>count</th>\n",
       "      <td>4032.000000</td>\n",
       "    </tr>\n",
       "    <tr>\n",
       "      <th>mean</th>\n",
       "      <td>42.438353</td>\n",
       "    </tr>\n",
       "    <tr>\n",
       "      <th>std</th>\n",
       "      <td>28.077122</td>\n",
       "    </tr>\n",
       "    <tr>\n",
       "      <th>min</th>\n",
       "      <td>18.000964</td>\n",
       "    </tr>\n",
       "    <tr>\n",
       "      <th>25%</th>\n",
       "      <td>19.841390</td>\n",
       "    </tr>\n",
       "    <tr>\n",
       "      <th>50%</th>\n",
       "      <td>21.608487</td>\n",
       "    </tr>\n",
       "    <tr>\n",
       "      <th>75%</th>\n",
       "      <td>75.450282</td>\n",
       "    </tr>\n",
       "    <tr>\n",
       "      <th>max</th>\n",
       "      <td>87.976128</td>\n",
       "    </tr>\n",
       "  </tbody>\n",
       "</table>\n",
       "</div>"
      ],
      "text/plain": [
       "             value\n",
       "count  4032.000000\n",
       "mean     42.438353\n",
       "std      28.077122\n",
       "min      18.000964\n",
       "25%      19.841390\n",
       "50%      21.608487\n",
       "75%      75.450282\n",
       "max      87.976128"
      ]
     },
     "execution_count": 8,
     "metadata": {},
     "output_type": "execute_result"
    }
   ],
   "source": [
    "#the below function list out a summary of the small noise data set. \n",
    "df_small_noise.describe()"
   ]
  },
  {
   "cell_type": "markdown",
   "id": "4300e029",
   "metadata": {},
   "source": [
    "The describe function allows for a quick summary of the large amount of data contained in the data set. "
   ]
  },
  {
   "cell_type": "code",
   "execution_count": 9,
   "id": "b4bb336b",
   "metadata": {},
   "outputs": [
    {
     "data": {
      "text/plain": [
       "18.3249185392"
      ]
     },
     "execution_count": 9,
     "metadata": {},
     "output_type": "execute_result"
    }
   ],
   "source": [
    "# chekcing if the fist figure is correct or rounded\n",
    "df_small_noise.iloc[0].values[0]"
   ]
  },
  {
   "cell_type": "code",
   "execution_count": 10,
   "id": "6f1ac588",
   "metadata": {},
   "outputs": [],
   "source": [
    "#Reading in of csv file with anomaly with pandas.\n",
    "df_daily_jumpsup = pd.read_csv(with_anomaly_url, parse_dates=True, index_col=\"timestamp\")"
   ]
  },
  {
   "cell_type": "code",
   "execution_count": 11,
   "id": "3a07b77b",
   "metadata": {},
   "outputs": [
    {
     "data": {
      "text/plain": [
       "(4032, 1)"
      ]
     },
     "execution_count": 11,
     "metadata": {},
     "output_type": "execute_result"
    }
   ],
   "source": [
    "#shows how much data is in the data set and its make up. \n",
    "df_daily_jumpsup.shape"
   ]
  },
  {
   "cell_type": "code",
   "execution_count": 12,
   "id": "a2d20e3d",
   "metadata": {},
   "outputs": [
    {
     "data": {
      "text/html": [
       "<div>\n",
       "<style scoped>\n",
       "    .dataframe tbody tr th:only-of-type {\n",
       "        vertical-align: middle;\n",
       "    }\n",
       "\n",
       "    .dataframe tbody tr th {\n",
       "        vertical-align: top;\n",
       "    }\n",
       "\n",
       "    .dataframe thead th {\n",
       "        text-align: right;\n",
       "    }\n",
       "</style>\n",
       "<table border=\"1\" class=\"dataframe\">\n",
       "  <thead>\n",
       "    <tr style=\"text-align: right;\">\n",
       "      <th></th>\n",
       "      <th>value</th>\n",
       "    </tr>\n",
       "    <tr>\n",
       "      <th>timestamp</th>\n",
       "      <th></th>\n",
       "    </tr>\n",
       "  </thead>\n",
       "  <tbody>\n",
       "    <tr>\n",
       "      <th>2014-04-01 00:00:00</th>\n",
       "      <td>19.761252</td>\n",
       "    </tr>\n",
       "    <tr>\n",
       "      <th>2014-04-01 00:05:00</th>\n",
       "      <td>20.500833</td>\n",
       "    </tr>\n",
       "    <tr>\n",
       "      <th>2014-04-01 00:10:00</th>\n",
       "      <td>19.961641</td>\n",
       "    </tr>\n",
       "    <tr>\n",
       "      <th>2014-04-01 00:15:00</th>\n",
       "      <td>21.490266</td>\n",
       "    </tr>\n",
       "    <tr>\n",
       "      <th>2014-04-01 00:20:00</th>\n",
       "      <td>20.187739</td>\n",
       "    </tr>\n",
       "  </tbody>\n",
       "</table>\n",
       "</div>"
      ],
      "text/plain": [
       "                         value\n",
       "timestamp                     \n",
       "2014-04-01 00:00:00  19.761252\n",
       "2014-04-01 00:05:00  20.500833\n",
       "2014-04-01 00:10:00  19.961641\n",
       "2014-04-01 00:15:00  21.490266\n",
       "2014-04-01 00:20:00  20.187739"
      ]
     },
     "execution_count": 12,
     "metadata": {},
     "output_type": "execute_result"
    }
   ],
   "source": [
    "df_daily_jumpsup.head()\n",
    "#This is the displaying of the first five lines of the jumpsup csv. "
   ]
  },
  {
   "cell_type": "code",
   "execution_count": 13,
   "id": "a2c14af3",
   "metadata": {},
   "outputs": [
    {
     "data": {
      "text/html": [
       "<div>\n",
       "<style scoped>\n",
       "    .dataframe tbody tr th:only-of-type {\n",
       "        vertical-align: middle;\n",
       "    }\n",
       "\n",
       "    .dataframe tbody tr th {\n",
       "        vertical-align: top;\n",
       "    }\n",
       "\n",
       "    .dataframe thead th {\n",
       "        text-align: right;\n",
       "    }\n",
       "</style>\n",
       "<table border=\"1\" class=\"dataframe\">\n",
       "  <thead>\n",
       "    <tr style=\"text-align: right;\">\n",
       "      <th></th>\n",
       "      <th>value</th>\n",
       "    </tr>\n",
       "  </thead>\n",
       "  <tbody>\n",
       "    <tr>\n",
       "      <th>count</th>\n",
       "      <td>4032.000000</td>\n",
       "    </tr>\n",
       "    <tr>\n",
       "      <th>mean</th>\n",
       "      <td>44.494254</td>\n",
       "    </tr>\n",
       "    <tr>\n",
       "      <th>std</th>\n",
       "      <td>32.432473</td>\n",
       "    </tr>\n",
       "    <tr>\n",
       "      <th>min</th>\n",
       "      <td>18.001010</td>\n",
       "    </tr>\n",
       "    <tr>\n",
       "      <th>25%</th>\n",
       "      <td>19.991382</td>\n",
       "    </tr>\n",
       "    <tr>\n",
       "      <th>50%</th>\n",
       "      <td>21.648503</td>\n",
       "    </tr>\n",
       "    <tr>\n",
       "      <th>75%</th>\n",
       "      <td>76.435943</td>\n",
       "    </tr>\n",
       "    <tr>\n",
       "      <th>max</th>\n",
       "      <td>164.947481</td>\n",
       "    </tr>\n",
       "  </tbody>\n",
       "</table>\n",
       "</div>"
      ],
      "text/plain": [
       "             value\n",
       "count  4032.000000\n",
       "mean     44.494254\n",
       "std      32.432473\n",
       "min      18.001010\n",
       "25%      19.991382\n",
       "50%      21.648503\n",
       "75%      76.435943\n",
       "max     164.947481"
      ]
     },
     "execution_count": 13,
     "metadata": {},
     "output_type": "execute_result"
    }
   ],
   "source": [
    "#the below function lists out a summary of the daily jumpsup data set. \n",
    "df_daily_jumpsup.describe()"
   ]
  },
  {
   "cell_type": "code",
   "execution_count": 14,
   "id": "c55993c1",
   "metadata": {},
   "outputs": [
    {
     "data": {
      "text/plain": [
       "19.761251903"
      ]
     },
     "execution_count": 14,
     "metadata": {},
     "output_type": "execute_result"
    }
   ],
   "source": [
    "# chekcing if the fist figure is correct or rounded\n",
    "df_daily_jumpsup.iloc[0].values[0]"
   ]
  },
  {
   "cell_type": "markdown",
   "id": "d67396f2",
   "metadata": {},
   "source": [
    "The iloc function shows that both data sets have been rounded when the head function was used afert it being read in. \n",
    "small noise 18.3249185392 to 18.324919\n",
    "daily jumpsup 19.761251903 to 19.761252"
   ]
  },
  {
   "cell_type": "markdown",
   "id": "c6803dd8",
   "metadata": {},
   "source": [
    "Below Pandas and Pyplot are used to display the data graphyically which makes it easier to see fluctuations.  "
   ]
  },
  {
   "cell_type": "code",
   "execution_count": 15,
   "id": "baf05d9e",
   "metadata": {},
   "outputs": [
    {
     "data": {
      "image/png": "[encoded data removed]",
      "text/plain": [
       "<Figure size 720x288 with 1 Axes>"
      ]
     },
     "metadata": {
      "needs_background": "light"
     },
     "output_type": "display_data"
    }
   ],
   "source": [
    "#This creates a plot and includes a figure size\n",
    "fig, ax = plt.subplots(figsize=(10,4))\n",
    "#Use pandas to plot data frame.\n",
    "df_small_noise.plot(legend=False, ax=ax);"
   ]
  },
  {
   "cell_type": "code",
   "execution_count": 16,
   "id": "d2d6191a",
   "metadata": {},
   "outputs": [
    {
     "data": {
      "image/png": "[encoded data removed]",
      "text/plain": [
       "<Figure size 720x288 with 1 Axes>"
      ]
     },
     "metadata": {
      "needs_background": "light"
     },
     "output_type": "display_data"
    }
   ],
   "source": [
    "#This creates a plot and includes a figure size\n",
    "fig, ax = plt.subplots(figsize=(10,4))\n",
    "#Use pandas to plot data frame.\n",
    "df_daily_jumpsup.plot(legend=False, ax=ax);"
   ]
  },
  {
   "cell_type": "markdown",
   "id": "4cabf416",
   "metadata": {},
   "source": [
    "## Preprocessing"
   ]
  },
  {
   "cell_type": "markdown",
   "id": "2a5b6432",
   "metadata": {},
   "source": [
    "Here we are preparing the data of analysis."
   ]
  },
  {
   "cell_type": "code",
   "execution_count": 17,
   "id": "b7882614",
   "metadata": {},
   "outputs": [
    {
     "data": {
      "text/plain": [
       "value    42.438353\n",
       "dtype: float64"
      ]
     },
     "execution_count": 17,
     "metadata": {},
     "output_type": "execute_result"
    }
   ],
   "source": [
    "# identifying the mean of the data set\n",
    "train_mean = df_small_noise.mean()\n",
    "\n",
    "train_mean"
   ]
  },
  {
   "cell_type": "code",
   "execution_count": 18,
   "id": "660e547f",
   "metadata": {},
   "outputs": [
    {
     "data": {
      "text/plain": [
       "value    28.077122\n",
       "dtype: float64"
      ]
     },
     "execution_count": 18,
     "metadata": {},
     "output_type": "execute_result"
    }
   ],
   "source": [
    "# identifying the standard deviation of the data set\n",
    "train_std = df_small_noise.std()\n",
    "\n",
    "train_std"
   ]
  },
  {
   "cell_type": "code",
   "execution_count": 19,
   "id": "142de6b7",
   "metadata": {},
   "outputs": [
    {
     "data": {
      "text/html": [
       "<div>\n",
       "<style scoped>\n",
       "    .dataframe tbody tr th:only-of-type {\n",
       "        vertical-align: middle;\n",
       "    }\n",
       "\n",
       "    .dataframe tbody tr th {\n",
       "        vertical-align: top;\n",
       "    }\n",
       "\n",
       "    .dataframe thead th {\n",
       "        text-align: right;\n",
       "    }\n",
       "</style>\n",
       "<table border=\"1\" class=\"dataframe\">\n",
       "  <thead>\n",
       "    <tr style=\"text-align: right;\">\n",
       "      <th></th>\n",
       "      <th>value</th>\n",
       "    </tr>\n",
       "    <tr>\n",
       "      <th>timestamp</th>\n",
       "      <th></th>\n",
       "    </tr>\n",
       "  </thead>\n",
       "  <tbody>\n",
       "    <tr>\n",
       "      <th>2014-04-01 00:00:00</th>\n",
       "      <td>-0.858829</td>\n",
       "    </tr>\n",
       "    <tr>\n",
       "      <th>2014-04-01 00:05:00</th>\n",
       "      <td>-0.728993</td>\n",
       "    </tr>\n",
       "    <tr>\n",
       "      <th>2014-04-01 00:10:00</th>\n",
       "      <td>-0.848148</td>\n",
       "    </tr>\n",
       "    <tr>\n",
       "      <th>2014-04-01 00:15:00</th>\n",
       "      <td>-0.729586</td>\n",
       "    </tr>\n",
       "    <tr>\n",
       "      <th>2014-04-01 00:20:00</th>\n",
       "      <td>-0.731173</td>\n",
       "    </tr>\n",
       "  </tbody>\n",
       "</table>\n",
       "</div>"
      ],
      "text/plain": [
       "                        value\n",
       "timestamp                    \n",
       "2014-04-01 00:00:00 -0.858829\n",
       "2014-04-01 00:05:00 -0.728993\n",
       "2014-04-01 00:10:00 -0.848148\n",
       "2014-04-01 00:15:00 -0.729586\n",
       "2014-04-01 00:20:00 -0.731173"
      ]
     },
     "execution_count": 19,
     "metadata": {},
     "output_type": "execute_result"
    }
   ],
   "source": [
    "#Getting mean of the values in no anomaly data and then dividing by standard deviation\n",
    "df_train_vals = (df_small_noise - train_mean) / train_std\n",
    "df_train_vals.head()"
   ]
  },
  {
   "cell_type": "code",
   "execution_count": 20,
   "id": "37a2c5a2",
   "metadata": {},
   "outputs": [
    {
     "data": {
      "text/html": [
       "<div>\n",
       "<style scoped>\n",
       "    .dataframe tbody tr th:only-of-type {\n",
       "        vertical-align: middle;\n",
       "    }\n",
       "\n",
       "    .dataframe tbody tr th {\n",
       "        vertical-align: top;\n",
       "    }\n",
       "\n",
       "    .dataframe thead th {\n",
       "        text-align: right;\n",
       "    }\n",
       "</style>\n",
       "<table border=\"1\" class=\"dataframe\">\n",
       "  <thead>\n",
       "    <tr style=\"text-align: right;\">\n",
       "      <th></th>\n",
       "      <th>value</th>\n",
       "      <th>less_mean</th>\n",
       "      <th>div_std</th>\n",
       "    </tr>\n",
       "    <tr>\n",
       "      <th>timestamp</th>\n",
       "      <th></th>\n",
       "      <th></th>\n",
       "      <th></th>\n",
       "    </tr>\n",
       "  </thead>\n",
       "  <tbody>\n",
       "    <tr>\n",
       "      <th>2014-04-01 00:00:00</th>\n",
       "      <td>18.324919</td>\n",
       "      <td>-24.113435</td>\n",
       "      <td>-0.858829</td>\n",
       "    </tr>\n",
       "    <tr>\n",
       "      <th>2014-04-01 00:05:00</th>\n",
       "      <td>21.970327</td>\n",
       "      <td>-20.468026</td>\n",
       "      <td>-0.728993</td>\n",
       "    </tr>\n",
       "    <tr>\n",
       "      <th>2014-04-01 00:10:00</th>\n",
       "      <td>18.624806</td>\n",
       "      <td>-23.813547</td>\n",
       "      <td>-0.848148</td>\n",
       "    </tr>\n",
       "    <tr>\n",
       "      <th>2014-04-01 00:15:00</th>\n",
       "      <td>21.953684</td>\n",
       "      <td>-20.484669</td>\n",
       "      <td>-0.729586</td>\n",
       "    </tr>\n",
       "    <tr>\n",
       "      <th>2014-04-01 00:20:00</th>\n",
       "      <td>21.909120</td>\n",
       "      <td>-20.529234</td>\n",
       "      <td>-0.731173</td>\n",
       "    </tr>\n",
       "    <tr>\n",
       "      <th>...</th>\n",
       "      <td>...</td>\n",
       "      <td>...</td>\n",
       "      <td>...</td>\n",
       "    </tr>\n",
       "    <tr>\n",
       "      <th>2014-04-14 23:35:00</th>\n",
       "      <td>20.211195</td>\n",
       "      <td>-22.227159</td>\n",
       "      <td>-0.791647</td>\n",
       "    </tr>\n",
       "    <tr>\n",
       "      <th>2014-04-14 23:40:00</th>\n",
       "      <td>20.531041</td>\n",
       "      <td>-21.907313</td>\n",
       "      <td>-0.780255</td>\n",
       "    </tr>\n",
       "    <tr>\n",
       "      <th>2014-04-14 23:45:00</th>\n",
       "      <td>19.032127</td>\n",
       "      <td>-23.406226</td>\n",
       "      <td>-0.833640</td>\n",
       "    </tr>\n",
       "    <tr>\n",
       "      <th>2014-04-14 23:50:00</th>\n",
       "      <td>21.798801</td>\n",
       "      <td>-20.639552</td>\n",
       "      <td>-0.735102</td>\n",
       "    </tr>\n",
       "    <tr>\n",
       "      <th>2014-04-14 23:55:00</th>\n",
       "      <td>18.682620</td>\n",
       "      <td>-23.755733</td>\n",
       "      <td>-0.846089</td>\n",
       "    </tr>\n",
       "  </tbody>\n",
       "</table>\n",
       "<p>4032 rows × 3 columns</p>\n",
       "</div>"
      ],
      "text/plain": [
       "                         value  less_mean   div_std\n",
       "timestamp                                          \n",
       "2014-04-01 00:00:00  18.324919 -24.113435 -0.858829\n",
       "2014-04-01 00:05:00  21.970327 -20.468026 -0.728993\n",
       "2014-04-01 00:10:00  18.624806 -23.813547 -0.848148\n",
       "2014-04-01 00:15:00  21.953684 -20.484669 -0.729586\n",
       "2014-04-01 00:20:00  21.909120 -20.529234 -0.731173\n",
       "...                        ...        ...       ...\n",
       "2014-04-14 23:35:00  20.211195 -22.227159 -0.791647\n",
       "2014-04-14 23:40:00  20.531041 -21.907313 -0.780255\n",
       "2014-04-14 23:45:00  19.032127 -23.406226 -0.833640\n",
       "2014-04-14 23:50:00  21.798801 -20.639552 -0.735102\n",
       "2014-04-14 23:55:00  18.682620 -23.755733 -0.846089\n",
       "\n",
       "[4032 rows x 3 columns]"
      ]
     },
     "execution_count": 20,
     "metadata": {},
     "output_type": "execute_result"
    }
   ],
   "source": [
    "#\n",
    "df_small_noise['less_mean'] = df_small_noise['value'] - df_small_noise['value'].mean()\n",
    "df_small_noise['div_std'] = df_small_noise['less_mean'] / df_small_noise['value'].std()\n",
    "df_small_noise"
   ]
  },
  {
   "cell_type": "code",
   "execution_count": 21,
   "id": "84e91b3d",
   "metadata": {},
   "outputs": [
    {
     "data": {
      "text/plain": [
       "(42.438353335806646, -7.342627387941552e-14, -2.616541242931684e-15)"
      ]
     },
     "execution_count": 21,
     "metadata": {},
     "output_type": "execute_result"
    }
   ],
   "source": [
    "df_small_noise['value'].mean(), df_small_noise['less_mean'].mean(), df_small_noise['div_std'].mean()"
   ]
  },
  {
   "cell_type": "code",
   "execution_count": 22,
   "id": "f5886700",
   "metadata": {},
   "outputs": [
    {
     "data": {
      "text/plain": [
       "(28.077122281262515, 28.077122281262508, 1.0000000000000018)"
      ]
     },
     "execution_count": 22,
     "metadata": {},
     "output_type": "execute_result"
    }
   ],
   "source": [
    "df_small_noise['value'].std(), df_small_noise['less_mean'].std(), df_small_noise['div_std'].std()"
   ]
  },
  {
   "cell_type": "code",
   "execution_count": 23,
   "id": "dfd25cf5",
   "metadata": {},
   "outputs": [
    {
     "data": {
      "image/png": "[encoded data removed]",
      "text/plain": [
       "<Figure size 720x288 with 1 Axes>"
      ]
     },
     "metadata": {
      "needs_background": "light"
     },
     "output_type": "display_data"
    }
   ],
   "source": [
    "#This creates a plot and includes a figure size\n",
    "fig,ax = plt.subplots(figsize=(10,4))\n",
    "\n",
    "#Use pandas to plot data frame.\n",
    "df_train_vals.plot(legend=False, ax=ax);"
   ]
  },
  {
   "cell_type": "code",
   "execution_count": 24,
   "id": "adaf05c2",
   "metadata": {},
   "outputs": [
    {
     "data": {
      "text/plain": [
       "(4032, 1)"
      ]
     },
     "execution_count": 24,
     "metadata": {},
     "output_type": "execute_result"
    }
   ],
   "source": [
    "#displays the number of training samples\n",
    "df_train_vals.shape"
   ]
  },
  {
   "cell_type": "code",
   "execution_count": 25,
   "id": "09195d59",
   "metadata": {},
   "outputs": [
    {
     "data": {
      "text/plain": [
       "Index(['value'], dtype='object')"
      ]
     },
     "execution_count": 25,
     "metadata": {},
     "output_type": "execute_result"
    }
   ],
   "source": [
    "#identifying the name of the columns\n",
    "df_train_vals.columns\n"
   ]
  },
  {
   "cell_type": "markdown",
   "id": "0129fe9b",
   "metadata": {},
   "source": [
    "Columns are called value"
   ]
  },
  {
   "cell_type": "code",
   "execution_count": 26,
   "id": "3f085ad0",
   "metadata": {},
   "outputs": [],
   "source": [
    "#Gives the size of the windows\n",
    "window_size = 288"
   ]
  },
  {
   "cell_type": "markdown",
   "id": "052d0913",
   "metadata": {},
   "source": [
    "Window example:\n",
    "```python\n",
    "[1, 1, 2, 4, 5, 6, 7, 1, 2, 3, 4, 5]\n",
    "window_size = 3\n",
    "[1, 1, 2]\n",
    "[1, 2, 4]\n",
    "[2, 4, 5]\n",
    "[4, 5, 6]\n",
    "...\n",
    "```"
   ]
  },
  {
   "cell_type": "code",
   "execution_count": 27,
   "id": "9e23b698",
   "metadata": {},
   "outputs": [
    {
     "data": {
      "text/plain": [
       "12"
      ]
     },
     "execution_count": 27,
     "metadata": {},
     "output_type": "execute_result"
    }
   ],
   "source": [
    "#Window list example.\n",
    "L = [1, 1, 2, 4, 5, 6, 7, 1, 2, 3, 4, 5]\n",
    "#Example window size.\n",
    "win_size = 3\n",
    "#length of L.\n",
    "len(L)"
   ]
  },
  {
   "cell_type": "code",
   "execution_count": 28,
   "id": "178f371d",
   "metadata": {},
   "outputs": [
    {
     "data": {
      "text/plain": [
       "10"
      ]
     },
     "execution_count": 28,
     "metadata": {},
     "output_type": "execute_result"
    }
   ],
   "source": [
    "#number of windows from L.\n",
    "len(L) - (win_size - 1)"
   ]
  },
  {
   "cell_type": "code",
   "execution_count": 29,
   "id": "31ff4b6a",
   "metadata": {},
   "outputs": [
    {
     "data": {
      "text/plain": [
       "10"
      ]
     },
     "execution_count": 29,
     "metadata": {},
     "output_type": "execute_result"
    }
   ],
   "source": [
    "#remove brackets.\n",
    "len(L) - win_size + 1"
   ]
  },
  {
   "cell_type": "code",
   "execution_count": 30,
   "id": "1e0dfabf",
   "metadata": {},
   "outputs": [
    {
     "name": "stdout",
     "output_type": "stream",
     "text": [
      "[1, 1, 2]\n",
      "[1, 2, 4]\n",
      "[2, 4, 5]\n",
      "[4, 5, 6]\n",
      "[5, 6, 7]\n",
      "[6, 7, 1]\n",
      "[7, 1, 2]\n",
      "[1, 2, 3]\n",
      "[2, 3, 4]\n",
      "[3, 4, 5]\n"
     ]
    }
   ],
   "source": [
    "#Print the windows.\n",
    "for i in range (len(L) - win_size + 1):\n",
    "    print (L[i:i +win_size])"
   ]
  },
  {
   "cell_type": "code",
   "execution_count": 31,
   "id": "4f91e613",
   "metadata": {},
   "outputs": [
    {
     "data": {
      "text/plain": [
       "[[1, 1, 2],\n",
       " [1, 2, 4],\n",
       " [2, 4, 5],\n",
       " [4, 5, 6],\n",
       " [5, 6, 7],\n",
       " [6, 7, 1],\n",
       " [7, 1, 2],\n",
       " [1, 2, 3],\n",
       " [2, 3, 4],\n",
       " [3, 4, 5]]"
      ]
     },
     "execution_count": 31,
     "metadata": {},
     "output_type": "execute_result"
    }
   ],
   "source": [
    "#For accumulating the windows.\n",
    "wins = []\n",
    "#Generate the windows\n",
    "for i in range (len(L) - win_size + 1):\n",
    "    wins.append(L[i:i + win_size])\n",
    "wins"
   ]
  },
  {
   "cell_type": "code",
   "execution_count": 32,
   "id": "6d9e0083",
   "metadata": {},
   "outputs": [
    {
     "data": {
      "text/plain": [
       "array([[1, 1, 2],\n",
       "       [1, 2, 4],\n",
       "       [2, 4, 5],\n",
       "       [4, 5, 6],\n",
       "       [5, 6, 7],\n",
       "       [6, 7, 1],\n",
       "       [7, 1, 2],\n",
       "       [1, 2, 3],\n",
       "       [2, 3, 4],\n",
       "       [3, 4, 5]])"
      ]
     },
     "execution_count": 32,
     "metadata": {},
     "output_type": "execute_result"
    }
   ],
   "source": [
    "#Create 2D array from wins\n",
    "np.stack(wins)"
   ]
  },
  {
   "cell_type": "code",
   "execution_count": 33,
   "id": "bd373994",
   "metadata": {},
   "outputs": [],
   "source": [
    "# Generated training sequences for use in the model.\n",
    "def windows(vals, N=window_size):\n",
    "    #start with an empty list\n",
    "    L = []\n",
    "    #loops through all the possible windows\n",
    "    for i in range(len(vals) - N + 1):\n",
    "    #Append a window to the list\n",
    "        L.append(vals[i:i + N])\n",
    "    #stack them on display\n",
    "    return np.stack(L )"
   ]
  },
  {
   "cell_type": "code",
   "execution_count": 34,
   "id": "c341fb09",
   "metadata": {},
   "outputs": [],
   "source": [
    "#applying windows shape to the data set\n",
    "x_train = windows(df_train_vals)"
   ]
  },
  {
   "cell_type": "code",
   "execution_count": 35,
   "id": "12edecfa",
   "metadata": {},
   "outputs": [
    {
     "data": {
      "text/plain": [
       "(array([-0.85882857]), array([-0.79671155]))"
      ]
     },
     "execution_count": 35,
     "metadata": {},
     "output_type": "execute_result"
    }
   ],
   "source": [
    "#show first and last values\n",
    "x_train[0][0], x_train[0][-1]"
   ]
  },
  {
   "cell_type": "code",
   "execution_count": 36,
   "id": "c4d81dcd",
   "metadata": {},
   "outputs": [
    {
     "data": {
      "text/plain": [
       "(value   -0.858829\n",
       " Name: 2014-04-01 00:00:00, dtype: float64,\n",
       " value   -0.796712\n",
       " Name: 2014-04-01 23:55:00, dtype: float64)"
      ]
     },
     "execution_count": 36,
     "metadata": {},
     "output_type": "execute_result"
    }
   ],
   "source": [
    "#show first and last values using window size \n",
    "df_train_vals.iloc[0], df_train_vals.iloc[window_size -1]"
   ]
  },
  {
   "cell_type": "markdown",
   "id": "24e68dd1",
   "metadata": {},
   "source": []
  },
  {
   "cell_type": "code",
   "execution_count": 38,
   "id": "ac0f8531",
   "metadata": {},
   "outputs": [
    {
     "data": {
      "text/plain": [
       "array([-0.85882857, -0.72899302, -0.84814772, -0.72958579, -0.731173  ,\n",
       "       -0.75730984, -0.77645641, -0.7880838 , -0.747012  , -0.829166  ,\n",
       "       -0.80377285, -0.7821597 , -0.81182078, -0.80949918, -0.82334701,\n",
       "       -0.79001779, -0.74922405, -0.84169024, -0.73727717, -0.77223023,\n",
       "       -0.75311352, -0.79116337, -0.75934728, -0.86809294, -0.75381057,\n",
       "       -0.86468256, -0.74361965, -0.72908121, -0.82850668, -0.84043795,\n",
       "       -0.76136364, -0.8343536 , -0.74708881, -0.85574949, -0.85245676,\n",
       "       -0.73090636, -0.77440264, -0.74974936, -0.82419543, -0.77402585,\n",
       "       -0.78574242, -0.7844733 , -0.77316412, -0.78843253, -0.80927467,\n",
       "       -0.83109167, -0.76090519, -0.83816509, -0.77176485, -0.83715923,\n",
       "       -0.78131343, -0.76396862, -0.83924191, -0.86186112, -0.85174179,\n",
       "       -0.78406773, -0.74938477, -0.86399047, -0.76581026, -0.82177506,\n",
       "       -0.80222751, -0.73807119, -0.82310669, -0.80410682, -0.86845167,\n",
       "       -0.85877599, -0.83356075, -0.86643297, -0.78045221, -0.8096542 ,\n",
       "       -0.79230956, -0.84551986, -0.82824105, -0.77582935, -0.73287933,\n",
       "       -0.86321832, -0.74355256, -0.7882157 , -0.79006227, -0.79912888,\n",
       "       -0.86051472, -0.85759665, -0.78479216, -0.82182635, -0.73972257,\n",
       "       -0.81247611, -0.84998837, -0.76857869, -0.82860841, -0.79553994,\n",
       "       -0.77098436, -0.74214503, -0.75754161, -0.77404332, -0.77357716,\n",
       "       -0.73564002, -0.82825643, -0.8702425 , -0.83165699, -0.83935909,\n",
       "       -0.77611284, -0.78011937, -0.78585361, -0.86808681, -0.76657575,\n",
       "       -0.82430925, -0.7756539 , -0.79110813,  0.83423034,  0.73340436,\n",
       "        0.71395293,  1.07098925,  1.11307181,  0.98296271,  0.71831972,\n",
       "        0.86295228,  1.02130195,  1.04594803,  0.72548104,  0.66823317,\n",
       "        1.36958529,  1.17305538,  1.11661005,  0.98307138,  1.27459976,\n",
       "        1.44642694,  1.50528567,  1.28866513,  1.26031743,  1.02295817,\n",
       "        1.27933882,  1.18598059,  1.3813925 ,  1.25767699,  1.1736019 ,\n",
       "        1.09127902,  1.21586925,  1.09223039,  1.13768838,  1.59675342,\n",
       "        1.28904484,  1.33876025,  1.53233922,  1.60141677,  1.38146244,\n",
       "        1.51223576,  1.23588256,  1.22381772,  1.2790048 ,  1.43257027,\n",
       "        1.43808241,  1.22922231,  1.12561563,  1.40974009,  1.12283575,\n",
       "        1.37905941,  1.44731563,  1.45141157,  1.48152744,  1.54954504,\n",
       "        1.33709539,  1.46829683,  1.4050141 ,  1.15859057,  1.06689361,\n",
       "        1.21436719,  1.30466379,  1.40383661,  1.53708371,  1.16457702,\n",
       "        1.12429225,  1.60177134,  1.11431721,  1.32540935,  1.38642273,\n",
       "        1.36124227,  1.10177385,  1.08524575,  1.1128578 ,  1.38643638,\n",
       "        1.36304532,  1.18604649,  1.41628631,  1.52016681,  1.07654239,\n",
       "        1.33670957,  1.44565443,  1.19662931,  1.22823281,  1.40253218,\n",
       "        1.56454005,  1.51438674,  1.38516952,  1.46899077,  1.26076513,\n",
       "        1.41812743,  1.31852542,  1.16110478,  1.45275926,  1.36997393,\n",
       "        1.25723151,  1.57220199,  1.06479764,  1.23281399,  1.08528647,\n",
       "        1.48968441,  1.45297419,  1.24169607,  1.43790453,  1.2785004 ,\n",
       "        1.48382995,  1.31169265,  1.28781332,  1.58553613,  1.19583776,\n",
       "        1.12151008, -0.35250349, -0.26479567, -0.39962031, -0.47160544,\n",
       "       -0.40840388, -0.37042247, -0.44883702, -0.33573617, -0.25831579,\n",
       "       -0.38277522, -0.40488824, -0.39440839, -0.77509723, -0.65253443,\n",
       "       -0.72728022, -0.73167631, -0.6882095 , -0.72293893, -0.69003755,\n",
       "       -0.78366561, -0.6636319 , -0.64340272, -0.68995268, -0.64115899,\n",
       "       -0.83292321, -0.78536741, -0.76722084, -0.77014874, -0.79644794,\n",
       "       -0.80569367, -0.83651316, -0.79786583, -0.83128515, -0.74788262,\n",
       "       -0.82454968, -0.84647101, -0.78825327, -0.78211741, -0.74251058,\n",
       "       -0.7847296 , -0.8178686 , -0.75237369, -0.78998354, -0.85597483,\n",
       "       -0.78632299, -0.73734213, -0.81059211, -0.82490508, -0.84932652,\n",
       "       -0.84818912, -0.80807162, -0.78484064, -0.8582896 , -0.73580158,\n",
       "       -0.76210229, -0.78613203, -0.75164888, -0.85835073, -0.80178754,\n",
       "       -0.77993325, -0.75220135, -0.75863962, -0.83079766, -0.73620985,\n",
       "       -0.85255954, -0.74557822, -0.73192653, -0.84503486, -0.76738913,\n",
       "       -0.86453747, -0.81250829, -0.79671155])"
      ]
     },
     "execution_count": 38,
     "metadata": {},
     "output_type": "execute_result"
    }
   ],
   "source": [
    "#\n",
    "x_train[0].flatten()"
   ]
  },
  {
   "cell_type": "code",
   "execution_count": 62,
   "id": "12ae7db0",
   "metadata": {},
   "outputs": [
    {
     "data": {
      "image/png": "[encoded data removed]",
      "text/plain": [
       "<Figure size 864x432 with 1 Axes>"
      ]
     },
     "metadata": {
      "needs_background": "light"
     },
     "output_type": "display_data"
    }
   ],
   "source": [
    "#Select the 100th window\n",
    "window_no = 100\n",
    "#size of plot\n",
    "fig, ax =plt.subplots(figsize=(12,6))\n",
    "#\n",
    "y = df_train_vals['value'].values[:1200]\n",
    "\n",
    "#plot the standardise data\n",
    "ax.plot(np.arange(y.shape[0]), y, label ='signal')\n",
    "#the fist window\n",
    "w = x_train[0].flatten()\n",
    "#plot the window data on top of the standardised data\n",
    "ax.plot(np.arange(w.shape[0]) + window_no, w, label='window')\n",
    "ax.legend();"
   ]
  },
  {
   "cell_type": "markdown",
   "id": "2173abf2",
   "metadata": {},
   "source": [
    "# Neural Newtork"
   ]
  },
  {
   "cell_type": "code",
   "execution_count": 37,
   "id": "3285e40f",
   "metadata": {},
   "outputs": [
    {
     "data": {
      "text/plain": [
       "(3745, 288, 1)"
      ]
     },
     "execution_count": 37,
     "metadata": {},
     "output_type": "execute_result"
    }
   ],
   "source": [
    "#To show how many windows and what size each window\n",
    "x_train.shape"
   ]
  },
  {
   "cell_type": "markdown",
   "id": "970a8271",
   "metadata": {},
   "source": [
    "From above we have 3745 windows of 288 size each "
   ]
  },
  {
   "cell_type": "code",
   "execution_count": 40,
   "id": "d394a20d",
   "metadata": {
    "scrolled": true
   },
   "outputs": [],
   "source": [
    "#creating the layers for the model\n",
    "layers = [\n",
    "  #adding attributes to build the keras model\n",
    "  layers.Input(shape=(x_train.shape[1], x_train.shape[2])),\n",
    "  #this creates a 1D convolution layer. \n",
    "  layers.Conv1D(\n",
    "    filters=32, kernel_size=7, padding=\"same\", strides=2, activation=\"relu\"),\n",
    "  #applies dropout to the input at a particular rate\n",
    "  layers.Dropout(rate=0.2),\n",
    "  #this creates a 1D convolution layer\n",
    "  layers.Conv1D(\n",
    "    filters=16, kernel_size=7, padding=\"same\", strides=2, activation=\"relu\"),\n",
    "  #this creates a 1D convolution layer in the opposite direction.\n",
    "  layers.Conv1DTranspose(\n",
    "    filters=16, kernel_size=7, padding=\"same\", strides=2, activation=\"relu\"),   \n",
    "  #applies dropout to the input at a particular rate\n",
    "  layers.Dropout(rate=0.2),\n",
    "  #this creates a 1D convolution layer in the opposite direction\n",
    "  layers.Conv1DTranspose(\n",
    "        filters=32, kernel_size=7, padding=\"same\", strides=2, activation=\"relu\"),  \n",
    "  #this creates a 1D convolution layer in the opposite direction\n",
    "    layers.Conv1DTranspose(filters=1, kernel_size=7, padding=\"same\"),\n",
    "]"
   ]
  },
  {
   "cell_type": "code",
   "execution_count": 41,
   "id": "76bc8718",
   "metadata": {},
   "outputs": [
    {
     "name": "stdout",
     "output_type": "stream",
     "text": [
      "Model: \"sequential\"\n",
      "_________________________________________________________________\n",
      "Layer (type)                 Output Shape              Param #   \n",
      "=================================================================\n",
      "conv1d (Conv1D)              (None, 144, 32)           256       \n",
      "_________________________________________________________________\n",
      "dropout (Dropout)            (None, 144, 32)           0         \n",
      "_________________________________________________________________\n",
      "conv1d_1 (Conv1D)            (None, 72, 16)            3600      \n",
      "_________________________________________________________________\n",
      "conv1d_transpose (Conv1DTran (None, 144, 16)           1808      \n",
      "_________________________________________________________________\n",
      "dropout_1 (Dropout)          (None, 144, 16)           0         \n",
      "_________________________________________________________________\n",
      "conv1d_transpose_1 (Conv1DTr (None, 288, 32)           3616      \n",
      "_________________________________________________________________\n",
      "conv1d_transpose_2 (Conv1DTr (None, 288, 1)            225       \n",
      "=================================================================\n",
      "Total params: 9,505\n",
      "Trainable params: 9,505\n",
      "Non-trainable params: 0\n",
      "_________________________________________________________________\n"
     ]
    }
   ],
   "source": [
    "#putting the layers into the model\n",
    "model = keras.Sequential(layers)\n",
    "#optimizer \n",
    "model.compile(optimizer=keras.optimizers.Adam(learning_rate=0.001), loss=\"mse\")\n",
    "# Gives layers and summary of the information.\n",
    "model.summary()"
   ]
  },
  {
   "cell_type": "code",
   "execution_count": 42,
   "id": "f7f6dcd3",
   "metadata": {},
   "outputs": [
    {
     "name": "stdout",
     "output_type": "stream",
     "text": [
      "Epoch 1/50\n",
      "27/27 [==============================] - 2s 89ms/step - loss: 0.5032 - val_loss: 0.0482\n",
      "Epoch 2/50\n",
      "27/27 [==============================] - 2s 72ms/step - loss: 0.0758 - val_loss: 0.0436\n",
      "Epoch 3/50\n",
      "27/27 [==============================] - 2s 77ms/step - loss: 0.0553 - val_loss: 0.0336\n",
      "Epoch 4/50\n",
      "27/27 [==============================] - 2s 76ms/step - loss: 0.0465 - val_loss: 0.0284\n",
      "Epoch 5/50\n",
      "27/27 [==============================] - 2s 73ms/step - loss: 0.0400 - val_loss: 0.0251\n",
      "Epoch 6/50\n",
      "27/27 [==============================] - 2s 82ms/step - loss: 0.0354 - val_loss: 0.0223\n",
      "Epoch 7/50\n",
      "27/27 [==============================] - 2s 76ms/step - loss: 0.0316 - val_loss: 0.0203\n",
      "Epoch 8/50\n",
      "27/27 [==============================] - 2s 80ms/step - loss: 0.0287 - val_loss: 0.0189\n",
      "Epoch 9/50\n",
      "27/27 [==============================] - 2s 84ms/step - loss: 0.0264 - val_loss: 0.0190\n",
      "Epoch 10/50\n",
      "27/27 [==============================] - 2s 75ms/step - loss: 0.0245 - val_loss: 0.0178\n",
      "Epoch 11/50\n",
      "27/27 [==============================] - 2s 71ms/step - loss: 0.0232 - val_loss: 0.0193\n",
      "Epoch 12/50\n",
      "27/27 [==============================] - 2s 79ms/step - loss: 0.0222 - val_loss: 0.0182\n",
      "Epoch 13/50\n",
      "27/27 [==============================] - 2s 75ms/step - loss: 0.0212 - val_loss: 0.0184\n",
      "Epoch 14/50\n",
      "27/27 [==============================] - 2s 76ms/step - loss: 0.0203 - val_loss: 0.0195\n",
      "Epoch 15/50\n",
      "27/27 [==============================] - 2s 80ms/step - loss: 0.0197 - val_loss: 0.0193\n"
     ]
    }
   ],
   "source": [
    "#part of keras sequential training the model, history is a reocord of values\n",
    "history = model.fit(\n",
    "    x_train,\n",
    "    x_train,\n",
    "    epochs=50,\n",
    "    batch_size=128,\n",
    "    validation_split=0.1,\n",
    "    #this stops code running if it finds loss is not decreasing much\n",
    "    callbacks=[\n",
    "        keras.callbacks.EarlyStopping(monitor=\"val_loss\", patience=5, mode=\"min\")\n",
    "    ],\n",
    ")"
   ]
  },
  {
   "cell_type": "markdown",
   "id": "2d5184b0",
   "metadata": {},
   "source": [
    "## Evaluation"
   ]
  },
  {
   "cell_type": "code",
   "execution_count": 63,
   "id": "8723f933",
   "metadata": {},
   "outputs": [
    {
     "data": {
      "image/png": "[encoded data removed]",
      "text/plain": [
       "<Figure size 720x432 with 1 Axes>"
      ]
     },
     "metadata": {
      "needs_background": "light"
     },
     "output_type": "display_data"
    }
   ],
   "source": [
    "# history is displayed graphically of the Training and Validation loss values\n",
    "fig, ax = plt.subplots(figsize=(10,6))\n",
    "ax.plot(history.history[\"loss\"], label=\"Training Loss\")\n",
    "ax.plot(history.history[\"val_loss\"], label=\"Validation Loss\")\n",
    "ax.legend();"
   ]
  },
  {
   "cell_type": "code",
   "execution_count": 64,
   "id": "26613ee8",
   "metadata": {},
   "outputs": [],
   "source": [
    "# Get train MAE loss.\n",
    "x_train_pred = model.predict(x_train)"
   ]
  },
  {
   "cell_type": "code",
   "execution_count": 65,
   "id": "c3a8f405",
   "metadata": {},
   "outputs": [],
   "source": [
    "#Calculate loss\n",
    "train_mae_loss = np.mean(np.abs(x_train_pred - x_train), axis=1)"
   ]
  },
  {
   "cell_type": "code",
   "execution_count": 46,
   "id": "96a60174",
   "metadata": {},
   "outputs": [
    {
     "data": {
      "image/png": "[encoded data removed]",
      "text/plain": [
       "<Figure size 720x432 with 1 Axes>"
      ]
     },
     "metadata": {
      "needs_background": "light"
     },
     "output_type": "display_data"
    }
   ],
   "source": [
    "#Creating diagram\n",
    "fig, ax = plt.subplots(figsize =(10,6))\n",
    "#plotting histogram\n",
    "ax.hist(train_mae_loss, bins=50)\n",
    "# Label for X Axis\n",
    "ax.set_xlabel(\"Train MAE loss\")\n",
    "#Label for Y Axis\n",
    "ax.set_ylabel(\"No of samples\");\n"
   ]
  },
  {
   "cell_type": "code",
   "execution_count": 47,
   "id": "ebeda75e",
   "metadata": {},
   "outputs": [
    {
     "data": {
      "text/plain": [
       "0.12592562830592907"
      ]
     },
     "execution_count": 47,
     "metadata": {},
     "output_type": "execute_result"
    }
   ],
   "source": [
    "# Get reconstruction loss threshold.\n",
    "threshold = np.max(train_mae_loss)\n",
    "#pritn out the threshold\n",
    "threshold"
   ]
  },
  {
   "cell_type": "code",
   "execution_count": 48,
   "id": "eab15de9",
   "metadata": {},
   "outputs": [
    {
     "data": {
      "image/png": "[encoded data removed]",
      "text/plain": [
       "<Figure size 720x432 with 1 Axes>"
      ]
     },
     "metadata": {
      "needs_background": "light"
     },
     "output_type": "display_data"
    }
   ],
   "source": [
    "# Checking how the first sequence is learnt\n",
    "#shaping the plot.\n",
    "fir, ax = plt.subplots(figsize =(10,6))\n",
    "#plotting training data\n",
    "ax.plot(x_train[0])\n",
    "#plotting predicted date\n",
    "ax.plot(x_train_pred[0]);"
   ]
  },
  {
   "cell_type": "code",
   "execution_count": 49,
   "id": "5d651fbf",
   "metadata": {},
   "outputs": [],
   "source": [
    "df_test_value = (df_daily_jumpsup - train_mean) / train_std\n"
   ]
  },
  {
   "cell_type": "code",
   "execution_count": 50,
   "id": "694bb0d5",
   "metadata": {},
   "outputs": [
    {
     "data": {
      "image/png": "[encoded data removed]",
      "text/plain": [
       "<Figure size 432x288 with 1 Axes>"
      ]
     },
     "metadata": {
      "needs_background": "light"
     },
     "output_type": "display_data"
    }
   ],
   "source": [
    "fig, ax = plt.subplots()\n",
    "df_test_value.plot(legend=False, ax=ax);\n"
   ]
  },
  {
   "cell_type": "code",
   "execution_count": 51,
   "id": "419d46fd",
   "metadata": {},
   "outputs": [
    {
     "name": "stdout",
     "output_type": "stream",
     "text": [
      "(3745, 288, 1)\n"
     ]
    }
   ],
   "source": [
    "# Create sequences from test values.\n",
    "x_test = windows(df_test_value.values)\n",
    "print( x_test.shape)"
   ]
  },
  {
   "cell_type": "code",
   "execution_count": 52,
   "id": "b352a8de",
   "metadata": {},
   "outputs": [],
   "source": [
    "# Get test MAE loss.\n",
    "x_test_pred = model.predict(x_test)"
   ]
  },
  {
   "cell_type": "code",
   "execution_count": 53,
   "id": "b4f0f50d",
   "metadata": {},
   "outputs": [
    {
     "data": {
      "text/plain": [
       "array([[0.1056133 ],\n",
       "       [0.10566647],\n",
       "       [0.10711026],\n",
       "       ...,\n",
       "       [0.10778704],\n",
       "       [0.10716552],\n",
       "       [0.10705313]])"
      ]
     },
     "execution_count": 53,
     "metadata": {},
     "output_type": "execute_result"
    }
   ],
   "source": [
    "test_mae_loss = np.mean(np.abs(x_test_pred - x_test), axis=1)\n",
    "test_mae_loss"
   ]
  },
  {
   "cell_type": "code",
   "execution_count": 54,
   "id": "46f5e6dc",
   "metadata": {},
   "outputs": [
    {
     "data": {
      "text/plain": [
       "array([0.1056133 , 0.10566647, 0.10711026, ..., 0.10778704, 0.10716552,\n",
       "       0.10705313])"
      ]
     },
     "execution_count": 54,
     "metadata": {},
     "output_type": "execute_result"
    }
   ],
   "source": [
    "test_mae_loss = test_mae_loss.reshape((-1))\n",
    "\n",
    "test_mae_loss\n",
    "\n"
   ]
  },
  {
   "cell_type": "code",
   "execution_count": 55,
   "id": "e3e20c88",
   "metadata": {},
   "outputs": [
    {
     "data": {
      "image/png": "[encoded data removed]",
      "text/plain": [
       "<Figure size 720x432 with 1 Axes>"
      ]
     },
     "metadata": {
      "needs_background": "light"
     },
     "output_type": "display_data"
    }
   ],
   "source": [
    "#\n",
    "fig, ax = plt.subplots(figsize=(10,6))\n",
    "#\n",
    "ax.hist(test_mae_loss, bins=50)\n",
    "#\n",
    "ax.set_xlabel(\"test MAE loss\")\n",
    "#\n",
    "ax.set_ylabel(\"No of samples\");\n"
   ]
  },
  {
   "cell_type": "code",
   "execution_count": 56,
   "id": "5b17b57f",
   "metadata": {},
   "outputs": [
    {
     "data": {
      "text/plain": [
       "401"
      ]
     },
     "execution_count": 56,
     "metadata": {},
     "output_type": "execute_result"
    }
   ],
   "source": [
    "# Detect all the samples which are anomalies.\n",
    "anomalies = test_mae_loss > threshold\n",
    "#Number of anomalies\n",
    "np.sum(anomalies)\n"
   ]
  },
  {
   "cell_type": "code",
   "execution_count": 57,
   "id": "1db02349",
   "metadata": {},
   "outputs": [
    {
     "data": {
      "text/plain": [
       "(array([ 789, 1652, 1653, 1654, 2517, 2696, 2697, 2702, 2703, 2704, 2705,\n",
       "        2706, 2707, 2708, 2709, 2710, 2711, 2712, 2713, 2714, 2715, 2716,\n",
       "        2717, 2718, 2719, 2720, 2721, 2722, 2723, 2724, 2725, 2726, 2727,\n",
       "        2728, 2729, 2730, 2731, 2732, 2733, 2734, 2735, 2736, 2737, 2738,\n",
       "        2739, 2740, 2741, 2742, 2743, 2744, 2745, 2746, 2747, 2748, 2749,\n",
       "        2750, 2751, 2752, 2753, 2754, 2755, 2756, 2757, 2758, 2759, 2760,\n",
       "        2761, 2762, 2763, 2764, 2765, 2766, 2767, 2768, 2769, 2770, 2771,\n",
       "        2772, 2773, 2774, 2775, 2776, 2777, 2778, 2779, 2780, 2781, 2782,\n",
       "        2783, 2784, 2785, 2786, 2787, 2788, 2789, 2790, 2791, 2792, 2793,\n",
       "        2794, 2795, 2796, 2797, 2798, 2799, 2800, 2801, 2802, 2803, 2804,\n",
       "        2805, 2806, 2807, 2808, 2809, 2810, 2811, 2812, 2813, 2814, 2815,\n",
       "        2816, 2817, 2818, 2819, 2820, 2821, 2822, 2823, 2824, 2825, 2826,\n",
       "        2827, 2828, 2829, 2830, 2831, 2832, 2833, 2834, 2835, 2836, 2837,\n",
       "        2838, 2839, 2840, 2841, 2842, 2843, 2844, 2845, 2846, 2847, 2848,\n",
       "        2849, 2850, 2851, 2852, 2853, 2854, 2855, 2856, 2857, 2858, 2859,\n",
       "        2860, 2861, 2862, 2863, 2864, 2865, 2866, 2867, 2868, 2869, 2870,\n",
       "        2871, 2872, 2873, 2874, 2875, 2876, 2877, 2878, 2879, 2880, 2881,\n",
       "        2882, 2883, 2884, 2885, 2886, 2887, 2888, 2889, 2890, 2891, 2892,\n",
       "        2893, 2894, 2895, 2896, 2897, 2898, 2899, 2900, 2901, 2902, 2903,\n",
       "        2904, 2905, 2906, 2907, 2908, 2909, 2910, 2911, 2912, 2913, 2914,\n",
       "        2915, 2916, 2917, 2918, 2919, 2920, 2921, 2922, 2923, 2924, 2925,\n",
       "        2926, 2927, 2928, 2929, 2930, 2931, 2932, 2933, 2934, 2935, 2936,\n",
       "        2937, 2938, 2939, 2940, 2941, 2942, 2943, 2944, 2945, 2946, 2947,\n",
       "        2948, 2949, 2950, 2951, 2952, 2953, 2954, 2955, 2956, 2957, 2958,\n",
       "        2959, 2960, 2961, 2962, 2963, 2964, 2965, 2966, 2967, 2968, 2969,\n",
       "        2970, 2971, 2972, 2973, 2974, 2975, 2976, 2977, 2978, 2979, 2980,\n",
       "        2981, 2982, 2983, 2984, 2985, 2986, 2987, 2988, 2989, 2990, 2991,\n",
       "        2992, 2993, 2994, 2995, 2996, 2997, 2998, 2999, 3000, 3001, 3002,\n",
       "        3003, 3004, 3005, 3006, 3007, 3008, 3009, 3010, 3011, 3012, 3013,\n",
       "        3014, 3015, 3016, 3017, 3018, 3019, 3020, 3021, 3022, 3023, 3024,\n",
       "        3025, 3026, 3027, 3028, 3029, 3030, 3031, 3032, 3033, 3034, 3035,\n",
       "        3036, 3037, 3038, 3039, 3040, 3041, 3042, 3043, 3044, 3045, 3046,\n",
       "        3047, 3048, 3049, 3050, 3051, 3052, 3053, 3054, 3055, 3056, 3057,\n",
       "        3058, 3059, 3060, 3061, 3062, 3063, 3064, 3065, 3066, 3067, 3068,\n",
       "        3069, 3070, 3071, 3072, 3073, 3074, 3075, 3076, 3077, 3078, 3079,\n",
       "        3080, 3081, 3082, 3083, 3084, 3085, 3086, 3087, 3088, 3089, 3090,\n",
       "        3091, 3092, 3093, 3094, 3095], dtype=int64),)"
      ]
     },
     "execution_count": 57,
     "metadata": {},
     "output_type": "execute_result"
    }
   ],
   "source": [
    "#Indices of anomalies\n",
    "np.where(anomalies)"
   ]
  },
  {
   "cell_type": "code",
   "execution_count": 58,
   "id": "f916c537",
   "metadata": {},
   "outputs": [],
   "source": [
    "# data i is an anomaly if samples [(i - timesteps + 1) to (i)] are anomalies\n",
    "inds = []\n",
    "for i in range(window_size - 1, len(df_test_value) - window_size + 1):\n",
    "    if np.all(anomalies[i - window_size + 1 : i]):\n",
    "        inds.append(i)"
   ]
  },
  {
   "cell_type": "code",
   "execution_count": 59,
   "id": "08eb496b",
   "metadata": {},
   "outputs": [],
   "source": [
    "#\n",
    "df_subset = df_daily_jumpsup.iloc[inds]"
   ]
  },
  {
   "cell_type": "code",
   "execution_count": 60,
   "id": "dae8ece0",
   "metadata": {},
   "outputs": [
    {
     "data": {
      "image/png": "[encoded data removed]",
      "text/plain": [
       "<Figure size 720x432 with 1 Axes>"
      ]
     },
     "metadata": {
      "needs_background": "light"
     },
     "output_type": "display_data"
    }
   ],
   "source": [
    "#\n",
    "fig, ax = plt.subplots(figsize=(10,6))\n",
    "#\n",
    "df_daily_jumpsup.plot(legend=False, ax=ax)\n",
    "#\n",
    "df_subset.plot(legend=False, ax=ax, color=\"r\");"
   ]
  },
  {
   "cell_type": "markdown",
   "id": "b320f52a",
   "metadata": {},
   "source": [
    "## ***References***\n",
    "I used ATU video Lectures by Ian McLoughlin and class notes to complete this work.\n",
    "In addition I searched online using the following websites. \n",
    "\n",
    "\n",
    "1. [Simplilearn](https://www.simplilearn.com/tutorials/deep-learning-tutorial/what-is-keras)\n",
    "\n",
    "\n",
    "2. [Keras Time Series](https://keras.io/examples/timeseries/timeseries_anomaly_detection/)\n",
    "\n",
    "\n",
    "3. [Tensor Flow](https://en.wikipedia.org/wiki/TensorFlow)\n",
    "\n",
    "The Keras user guide was used througout for comments.[Keras](https://keras.io/guides/)\n",
    "\n",
    "\n",
    "\n"
   ]
  },
  {
   "cell_type": "markdown",
   "id": "cb6bd6ad",
   "metadata": {},
   "source": [
    "***Laura Brogan 06/01/23***"
   ]
  }
 ],
 "metadata": {
  "kernelspec": {
   "display_name": "Python 3",
   "language": "python",
   "name": "python3"
  },
  "language_info": {
   "codemirror_mode": {
    "name": "ipython",
    "version": 3
   },
   "file_extension": ".py",
   "mimetype": "text/x-python",
   "name": "python",
   "nbconvert_exporter": "python",
   "pygments_lexer": "ipython3",
   "version": "3.8.8"
  }
 },
 "nbformat": 4,
 "nbformat_minor": 5
}
