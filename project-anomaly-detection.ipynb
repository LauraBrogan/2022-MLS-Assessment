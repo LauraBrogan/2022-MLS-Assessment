{
 "cells": [
  {
   "cell_type": "markdown",
   "id": "ff3654b5",
   "metadata": {},
   "source": [
    "# Machine Learning and Statistics 2022 Project\n",
    "<hr style=\"border-top: 1px solid #001a79;\" />\n",
    "<h1 style=\"color: #001a79;\">Anomaly Detection Using Keras</h1>\n",
    "\n",
    "<hr style=\"border-top: 1px solid #001a79;\" /> "
   ]
  },
  {
   "cell_type": "markdown",
   "id": "0819606a",
   "metadata": {},
   "source": [
    "This project looks at the Keras time series anomaly detection. Keras is a high level, deep learning Application Programming Interface (API) developed for implementing neural networks. As it is python fronted it is realtively easy to work with. {*1*}\n",
    "The time series code is taken from here [Keras Time Series](https://keras.io/examples/timeseries/timeseries_anomaly_detection/){*2*} \n",
    "\n",
    "As this code provides limited detail on explaining the code, I will attempt to expand on what is provided to provide a better explanation. \n"
   ]
  },
  {
   "cell_type": "code",
   "execution_count": 1,
   "id": "6117c206",
   "metadata": {},
   "outputs": [],
   "source": [
    "# Numerical arrays.\n",
    "import numpy as np\n",
    "\n",
    "# Spreadsheet-like Data Frames.\n",
    "import pandas as pd\n",
    "\n",
    "# Neural networks.\n",
    "import tensorflow.keras as keras\n",
    "\n",
    "# layers of neural networks\n",
    "from tensorflow.keras import layers\n",
    "\n",
    "# Plotting\n",
    "import matplotlib.pyplot as plt"
   ]
  },
  {
   "cell_type": "markdown",
   "id": "e2d54916",
   "metadata": {},
   "source": [
    "Above is the importation of the libaries and packages needed to run the code. \n",
    "* Matplolib is a Python 20 plotting library which produces publication quality figures in a variety of hardcopy formats and interactive    enviroments across platforms. \n",
    "\n",
    "* NumPy is a library for the Python programming language, adding support for large, multi-dimensional arrays and matrices, along with a large collection of high-level mathematical functions to operate on these arrays.\n",
    "\n",
    "* Pandas is an open source, BDS-licenced libary providing high-oerfimance, easy-to-use data structures and data analysis tools. \n",
    "\n",
    "* TensorFlow is a free and open-source software library for machine learning and artificial intelligence. It can be used across a range of     tasks but has a particular focus on training and inference of deep neural networks.{*3*}\n",
    "\n",
    "\n",
    "\n"
   ]
  },
  {
   "cell_type": "markdown",
   "id": "38625cac",
   "metadata": {},
   "source": [
    "## Data\n",
    "\n",
    "The data used comes from the links below:\n",
    "\n",
    "Kaggle - https://www.kaggle.com/datasets/boltzmannbrain/nab\n",
    "\n",
    "From the Kaggle page \"The Numenta Anomaly Benchmark (NAB) is a novel benchmark for evaluating algorithms for anomaly detection in streaming, online applications. It is comprised of over 50 labeled real-world and artificial timeseries data files plus a novel scoring mechanism designed for real-time applications. All of the data and code is fully open-source, with extensive documentation, and a scoreboard of anomaly detection algorithms.\"\n",
    "The full dataset is included here: Github - https://github.com/numenta/NAB \n",
    "\n",
    "\n",
    "The data set contains 2 CSV files small noise csv file and jumpsup csv file which are read in below using pandas"
   ]
  },
  {
   "cell_type": "code",
   "execution_count": 2,
   "id": "28c2636a",
   "metadata": {},
   "outputs": [],
   "source": [
    "#Root of URLs.\n",
    "root_url = 'https://raw.githubusercontent.com/numenta/NAB/master/data/'\n",
    "\n",
    "#Data file without anomaly.\n",
    "no_anomaly_url = root_url +'artificialNoAnomaly/art_daily_small_noise.csv'\n",
    "\n",
    "#Data file with anomaly.\n",
    "with_anomaly_url = root_url +'artificialWithAnomaly/art_daily_jumpsup.csv'\n"
   ]
  },
  {
   "cell_type": "code",
   "execution_count": 3,
   "id": "79720c60",
   "metadata": {},
   "outputs": [
    {
     "data": {
      "text/plain": [
       "'https://raw.githubusercontent.com/numenta/NAB/master/data/artificialNoAnomaly/art_daily_small_noise.csv'"
      ]
     },
     "execution_count": 3,
     "metadata": {},
     "output_type": "execute_result"
    }
   ],
   "source": [
    "#check that url is configured correctly for no anomaly\n",
    "no_anomaly_url"
   ]
  },
  {
   "cell_type": "code",
   "execution_count": 4,
   "id": "49450d5c",
   "metadata": {},
   "outputs": [
    {
     "data": {
      "text/plain": [
       "'https://raw.githubusercontent.com/numenta/NAB/master/data/artificialWithAnomaly/art_daily_jumpsup.csv'"
      ]
     },
     "execution_count": 4,
     "metadata": {},
     "output_type": "execute_result"
    }
   ],
   "source": [
    "#check that url is configured correctly for no anomaly\n",
    "with_anomaly_url"
   ]
  },
  {
   "cell_type": "markdown",
   "id": "53f0cd1b",
   "metadata": {},
   "source": [
    "Look at Ians vidoe for narrative........."
   ]
  },
  {
   "cell_type": "code",
   "execution_count": 5,
   "id": "79bc42e5",
   "metadata": {},
   "outputs": [],
   "source": [
    "#Reading in of csv file no anomaly with pandas.\n",
    "df_small_noise = pd.read_csv(no_anomaly_url, parse_dates=True, index_col=\"timestamp\")"
   ]
  },
  {
   "cell_type": "code",
   "execution_count": 6,
   "id": "d7d52018",
   "metadata": {},
   "outputs": [
    {
     "data": {
      "text/plain": [
       "(4032, 1)"
      ]
     },
     "execution_count": 6,
     "metadata": {},
     "output_type": "execute_result"
    }
   ],
   "source": [
    "#shows how much data is in the data set and its make up. \n",
    "df_small_noise.shape"
   ]
  },
  {
   "cell_type": "code",
   "execution_count": 7,
   "id": "656ff952",
   "metadata": {
    "scrolled": true
   },
   "outputs": [
    {
     "data": {
      "text/html": [
       "<div>\n",
       "<style scoped>\n",
       "    .dataframe tbody tr th:only-of-type {\n",
       "        vertical-align: middle;\n",
       "    }\n",
       "\n",
       "    .dataframe tbody tr th {\n",
       "        vertical-align: top;\n",
       "    }\n",
       "\n",
       "    .dataframe thead th {\n",
       "        text-align: right;\n",
       "    }\n",
       "</style>\n",
       "<table border=\"1\" class=\"dataframe\">\n",
       "  <thead>\n",
       "    <tr style=\"text-align: right;\">\n",
       "      <th></th>\n",
       "      <th>value</th>\n",
       "    </tr>\n",
       "    <tr>\n",
       "      <th>timestamp</th>\n",
       "      <th></th>\n",
       "    </tr>\n",
       "  </thead>\n",
       "  <tbody>\n",
       "    <tr>\n",
       "      <th>2014-04-01 00:00:00</th>\n",
       "      <td>18.324919</td>\n",
       "    </tr>\n",
       "    <tr>\n",
       "      <th>2014-04-01 00:05:00</th>\n",
       "      <td>21.970327</td>\n",
       "    </tr>\n",
       "    <tr>\n",
       "      <th>2014-04-01 00:10:00</th>\n",
       "      <td>18.624806</td>\n",
       "    </tr>\n",
       "    <tr>\n",
       "      <th>2014-04-01 00:15:00</th>\n",
       "      <td>21.953684</td>\n",
       "    </tr>\n",
       "    <tr>\n",
       "      <th>2014-04-01 00:20:00</th>\n",
       "      <td>21.909120</td>\n",
       "    </tr>\n",
       "  </tbody>\n",
       "</table>\n",
       "</div>"
      ],
      "text/plain": [
       "                         value\n",
       "timestamp                     \n",
       "2014-04-01 00:00:00  18.324919\n",
       "2014-04-01 00:05:00  21.970327\n",
       "2014-04-01 00:10:00  18.624806\n",
       "2014-04-01 00:15:00  21.953684\n",
       "2014-04-01 00:20:00  21.909120"
      ]
     },
     "execution_count": 7,
     "metadata": {},
     "output_type": "execute_result"
    }
   ],
   "source": [
    "df_small_noise.head()\n",
    "#This is the displaying of the first five lines of the small noise csv. "
   ]
  },
  {
   "cell_type": "code",
   "execution_count": 8,
   "id": "f9d8f209",
   "metadata": {},
   "outputs": [
    {
     "data": {
      "text/html": [
       "<div>\n",
       "<style scoped>\n",
       "    .dataframe tbody tr th:only-of-type {\n",
       "        vertical-align: middle;\n",
       "    }\n",
       "\n",
       "    .dataframe tbody tr th {\n",
       "        vertical-align: top;\n",
       "    }\n",
       "\n",
       "    .dataframe thead th {\n",
       "        text-align: right;\n",
       "    }\n",
       "</style>\n",
       "<table border=\"1\" class=\"dataframe\">\n",
       "  <thead>\n",
       "    <tr style=\"text-align: right;\">\n",
       "      <th></th>\n",
       "      <th>value</th>\n",
       "    </tr>\n",
       "  </thead>\n",
       "  <tbody>\n",
       "    <tr>\n",
       "      <th>count</th>\n",
       "      <td>4032.000000</td>\n",
       "    </tr>\n",
       "    <tr>\n",
       "      <th>mean</th>\n",
       "      <td>42.438353</td>\n",
       "    </tr>\n",
       "    <tr>\n",
       "      <th>std</th>\n",
       "      <td>28.077122</td>\n",
       "    </tr>\n",
       "    <tr>\n",
       "      <th>min</th>\n",
       "      <td>18.000964</td>\n",
       "    </tr>\n",
       "    <tr>\n",
       "      <th>25%</th>\n",
       "      <td>19.841390</td>\n",
       "    </tr>\n",
       "    <tr>\n",
       "      <th>50%</th>\n",
       "      <td>21.608487</td>\n",
       "    </tr>\n",
       "    <tr>\n",
       "      <th>75%</th>\n",
       "      <td>75.450282</td>\n",
       "    </tr>\n",
       "    <tr>\n",
       "      <th>max</th>\n",
       "      <td>87.976128</td>\n",
       "    </tr>\n",
       "  </tbody>\n",
       "</table>\n",
       "</div>"
      ],
      "text/plain": [
       "             value\n",
       "count  4032.000000\n",
       "mean     42.438353\n",
       "std      28.077122\n",
       "min      18.000964\n",
       "25%      19.841390\n",
       "50%      21.608487\n",
       "75%      75.450282\n",
       "max      87.976128"
      ]
     },
     "execution_count": 8,
     "metadata": {},
     "output_type": "execute_result"
    }
   ],
   "source": [
    "#the below function list out a summary of the small noise data set. \n",
    "df_small_noise.describe()"
   ]
  },
  {
   "cell_type": "markdown",
   "id": "4300e029",
   "metadata": {},
   "source": [
    "The describe function allows for a quick summary of the large amount of data contained in the data set. "
   ]
  },
  {
   "cell_type": "code",
   "execution_count": 9,
   "id": "b4bb336b",
   "metadata": {},
   "outputs": [
    {
     "data": {
      "text/plain": [
       "18.3249185392"
      ]
     },
     "execution_count": 9,
     "metadata": {},
     "output_type": "execute_result"
    }
   ],
   "source": [
    "# chekcing if the fist figure is correct or rounded\n",
    "df_small_noise.iloc[0].values[0]"
   ]
  },
  {
   "cell_type": "code",
   "execution_count": 10,
   "id": "6f1ac588",
   "metadata": {},
   "outputs": [],
   "source": [
    "#Reading in of csv file with anomaly with pandas.\n",
    "df_daily_jumpsup = pd.read_csv(with_anomaly_url, parse_dates=True, index_col=\"timestamp\")"
   ]
  },
  {
   "cell_type": "code",
   "execution_count": 11,
   "id": "3a07b77b",
   "metadata": {},
   "outputs": [
    {
     "data": {
      "text/plain": [
       "(4032, 1)"
      ]
     },
     "execution_count": 11,
     "metadata": {},
     "output_type": "execute_result"
    }
   ],
   "source": [
    "#shows how much data is in the data set and its make up. \n",
    "df_daily_jumpsup.shape"
   ]
  },
  {
   "cell_type": "code",
   "execution_count": 12,
   "id": "a2d20e3d",
   "metadata": {},
   "outputs": [
    {
     "data": {
      "text/html": [
       "<div>\n",
       "<style scoped>\n",
       "    .dataframe tbody tr th:only-of-type {\n",
       "        vertical-align: middle;\n",
       "    }\n",
       "\n",
       "    .dataframe tbody tr th {\n",
       "        vertical-align: top;\n",
       "    }\n",
       "\n",
       "    .dataframe thead th {\n",
       "        text-align: right;\n",
       "    }\n",
       "</style>\n",
       "<table border=\"1\" class=\"dataframe\">\n",
       "  <thead>\n",
       "    <tr style=\"text-align: right;\">\n",
       "      <th></th>\n",
       "      <th>value</th>\n",
       "    </tr>\n",
       "    <tr>\n",
       "      <th>timestamp</th>\n",
       "      <th></th>\n",
       "    </tr>\n",
       "  </thead>\n",
       "  <tbody>\n",
       "    <tr>\n",
       "      <th>2014-04-01 00:00:00</th>\n",
       "      <td>19.761252</td>\n",
       "    </tr>\n",
       "    <tr>\n",
       "      <th>2014-04-01 00:05:00</th>\n",
       "      <td>20.500833</td>\n",
       "    </tr>\n",
       "    <tr>\n",
       "      <th>2014-04-01 00:10:00</th>\n",
       "      <td>19.961641</td>\n",
       "    </tr>\n",
       "    <tr>\n",
       "      <th>2014-04-01 00:15:00</th>\n",
       "      <td>21.490266</td>\n",
       "    </tr>\n",
       "    <tr>\n",
       "      <th>2014-04-01 00:20:00</th>\n",
       "      <td>20.187739</td>\n",
       "    </tr>\n",
       "  </tbody>\n",
       "</table>\n",
       "</div>"
      ],
      "text/plain": [
       "                         value\n",
       "timestamp                     \n",
       "2014-04-01 00:00:00  19.761252\n",
       "2014-04-01 00:05:00  20.500833\n",
       "2014-04-01 00:10:00  19.961641\n",
       "2014-04-01 00:15:00  21.490266\n",
       "2014-04-01 00:20:00  20.187739"
      ]
     },
     "execution_count": 12,
     "metadata": {},
     "output_type": "execute_result"
    }
   ],
   "source": [
    "df_daily_jumpsup.head()\n",
    "#This is the displaying of the first five lines of the jumpsup csv. "
   ]
  },
  {
   "cell_type": "code",
   "execution_count": 13,
   "id": "a2c14af3",
   "metadata": {},
   "outputs": [
    {
     "data": {
      "text/html": [
       "<div>\n",
       "<style scoped>\n",
       "    .dataframe tbody tr th:only-of-type {\n",
       "        vertical-align: middle;\n",
       "    }\n",
       "\n",
       "    .dataframe tbody tr th {\n",
       "        vertical-align: top;\n",
       "    }\n",
       "\n",
       "    .dataframe thead th {\n",
       "        text-align: right;\n",
       "    }\n",
       "</style>\n",
       "<table border=\"1\" class=\"dataframe\">\n",
       "  <thead>\n",
       "    <tr style=\"text-align: right;\">\n",
       "      <th></th>\n",
       "      <th>value</th>\n",
       "    </tr>\n",
       "  </thead>\n",
       "  <tbody>\n",
       "    <tr>\n",
       "      <th>count</th>\n",
       "      <td>4032.000000</td>\n",
       "    </tr>\n",
       "    <tr>\n",
       "      <th>mean</th>\n",
       "      <td>44.494254</td>\n",
       "    </tr>\n",
       "    <tr>\n",
       "      <th>std</th>\n",
       "      <td>32.432473</td>\n",
       "    </tr>\n",
       "    <tr>\n",
       "      <th>min</th>\n",
       "      <td>18.001010</td>\n",
       "    </tr>\n",
       "    <tr>\n",
       "      <th>25%</th>\n",
       "      <td>19.991382</td>\n",
       "    </tr>\n",
       "    <tr>\n",
       "      <th>50%</th>\n",
       "      <td>21.648503</td>\n",
       "    </tr>\n",
       "    <tr>\n",
       "      <th>75%</th>\n",
       "      <td>76.435943</td>\n",
       "    </tr>\n",
       "    <tr>\n",
       "      <th>max</th>\n",
       "      <td>164.947481</td>\n",
       "    </tr>\n",
       "  </tbody>\n",
       "</table>\n",
       "</div>"
      ],
      "text/plain": [
       "             value\n",
       "count  4032.000000\n",
       "mean     44.494254\n",
       "std      32.432473\n",
       "min      18.001010\n",
       "25%      19.991382\n",
       "50%      21.648503\n",
       "75%      76.435943\n",
       "max     164.947481"
      ]
     },
     "execution_count": 13,
     "metadata": {},
     "output_type": "execute_result"
    }
   ],
   "source": [
    "#the below function lists out a summary of the daily jumpsup data set. \n",
    "df_daily_jumpsup.describe()"
   ]
  },
  {
   "cell_type": "code",
   "execution_count": 14,
   "id": "c55993c1",
   "metadata": {},
   "outputs": [
    {
     "data": {
      "text/plain": [
       "19.761251903"
      ]
     },
     "execution_count": 14,
     "metadata": {},
     "output_type": "execute_result"
    }
   ],
   "source": [
    "# chekcing if the fist figure is correct or rounded\n",
    "df_daily_jumpsup.iloc[0].values[0]"
   ]
  },
  {
   "cell_type": "markdown",
   "id": "d67396f2",
   "metadata": {},
   "source": [
    "The iloc function shows that both data sets have been rounded when the head function was used afert it being read in. \n",
    "small noise 18.3249185392 to 18.324919\n",
    "daily jumpsup 19.761251903 to 19.761252"
   ]
  },
  {
   "cell_type": "markdown",
   "id": "c6803dd8",
   "metadata": {},
   "source": [
    "Below Pandas and Pyplot are used to display the data graphyically which makes it easier to see fluctuations.  "
   ]
  },
  {
   "cell_type": "code",
   "execution_count": 15,
   "id": "baf05d9e",
   "metadata": {},
   "outputs": [
    {
     "data": {
      "image/png": "[encoded data removed]",
      "text/plain": [
       "<Figure size 720x288 with 1 Axes>"
      ]
     },
     "metadata": {
      "needs_background": "light"
     },
     "output_type": "display_data"
    }
   ],
   "source": [
    "#This creates a plot and includes a figure size\n",
    "fig, ax = plt.subplots(figsize=(10,4))\n",
    "#Use pandas to plot data frame.\n",
    "df_small_noise.plot(legend=False, ax=ax);"
   ]
  },
  {
   "cell_type": "code",
   "execution_count": 16,
   "id": "d2d6191a",
   "metadata": {},
   "outputs": [
    {
     "data": {
      "image/png": "[encoded data removed]",
      "text/plain": [
       "<Figure size 720x288 with 1 Axes>"
      ]
     },
     "metadata": {
      "needs_background": "light"
     },
     "output_type": "display_data"
    }
   ],
   "source": [
    "#This creates a plot and includes a figure size\n",
    "fig, ax = plt.subplots(figsize=(10,4))\n",
    "#Use pandas to plot data frame.\n",
    "df_daily_jumpsup.plot(legend=False, ax=ax);"
   ]
  },
  {
   "cell_type": "markdown",
   "id": "4cabf416",
   "metadata": {},
   "source": [
    "## Preprocessing"
   ]
  },
  {
   "cell_type": "markdown",
   "id": "2a5b6432",
   "metadata": {},
   "source": [
    "Here we are preparing the data of analysis."
   ]
  },
  {
   "cell_type": "code",
   "execution_count": 17,
   "id": "b7882614",
   "metadata": {},
   "outputs": [
    {
     "data": {
      "text/plain": [
       "value    42.438353\n",
       "dtype: float64"
      ]
     },
     "execution_count": 17,
     "metadata": {},
     "output_type": "execute_result"
    }
   ],
   "source": [
    "# identifying the mean of the data set\n",
    "train_mean = df_small_noise.mean()\n",
    "\n",
    "train_mean"
   ]
  },
  {
   "cell_type": "code",
   "execution_count": 18,
   "id": "660e547f",
   "metadata": {},
   "outputs": [
    {
     "data": {
      "text/plain": [
       "value    28.077122\n",
       "dtype: float64"
      ]
     },
     "execution_count": 18,
     "metadata": {},
     "output_type": "execute_result"
    }
   ],
   "source": [
    "# identifying the standard deviation of the data set\n",
    "train_std = df_small_noise.std()\n",
    "\n",
    "train_std"
   ]
  },
  {
   "cell_type": "code",
   "execution_count": 19,
   "id": "142de6b7",
   "metadata": {},
   "outputs": [
    {
     "data": {
      "text/html": [
       "<div>\n",
       "<style scoped>\n",
       "    .dataframe tbody tr th:only-of-type {\n",
       "        vertical-align: middle;\n",
       "    }\n",
       "\n",
       "    .dataframe tbody tr th {\n",
       "        vertical-align: top;\n",
       "    }\n",
       "\n",
       "    .dataframe thead th {\n",
       "        text-align: right;\n",
       "    }\n",
       "</style>\n",
       "<table border=\"1\" class=\"dataframe\">\n",
       "  <thead>\n",
       "    <tr style=\"text-align: right;\">\n",
       "      <th></th>\n",
       "      <th>value</th>\n",
       "    </tr>\n",
       "    <tr>\n",
       "      <th>timestamp</th>\n",
       "      <th></th>\n",
       "    </tr>\n",
       "  </thead>\n",
       "  <tbody>\n",
       "    <tr>\n",
       "      <th>2014-04-01 00:00:00</th>\n",
       "      <td>-0.858829</td>\n",
       "    </tr>\n",
       "    <tr>\n",
       "      <th>2014-04-01 00:05:00</th>\n",
       "      <td>-0.728993</td>\n",
       "    </tr>\n",
       "    <tr>\n",
       "      <th>2014-04-01 00:10:00</th>\n",
       "      <td>-0.848148</td>\n",
       "    </tr>\n",
       "    <tr>\n",
       "      <th>2014-04-01 00:15:00</th>\n",
       "      <td>-0.729586</td>\n",
       "    </tr>\n",
       "    <tr>\n",
       "      <th>2014-04-01 00:20:00</th>\n",
       "      <td>-0.731173</td>\n",
       "    </tr>\n",
       "  </tbody>\n",
       "</table>\n",
       "</div>"
      ],
      "text/plain": [
       "                        value\n",
       "timestamp                    \n",
       "2014-04-01 00:00:00 -0.858829\n",
       "2014-04-01 00:05:00 -0.728993\n",
       "2014-04-01 00:10:00 -0.848148\n",
       "2014-04-01 00:15:00 -0.729586\n",
       "2014-04-01 00:20:00 -0.731173"
      ]
     },
     "execution_count": 19,
     "metadata": {},
     "output_type": "execute_result"
    }
   ],
   "source": [
    "#Getting mean of the values in no anomaly data and then dividing by standard deviation\n",
    "df_train_vals = (df_small_noise - train_mean) / train_std\n",
    "df_train_vals.head()"
   ]
  },
  {
   "cell_type": "code",
   "execution_count": 20,
   "id": "37a2c5a2",
   "metadata": {},
   "outputs": [
    {
     "data": {
      "text/html": [
       "<div>\n",
       "<style scoped>\n",
       "    .dataframe tbody tr th:only-of-type {\n",
       "        vertical-align: middle;\n",
       "    }\n",
       "\n",
       "    .dataframe tbody tr th {\n",
       "        vertical-align: top;\n",
       "    }\n",
       "\n",
       "    .dataframe thead th {\n",
       "        text-align: right;\n",
       "    }\n",
       "</style>\n",
       "<table border=\"1\" class=\"dataframe\">\n",
       "  <thead>\n",
       "    <tr style=\"text-align: right;\">\n",
       "      <th></th>\n",
       "      <th>value</th>\n",
       "      <th>less_mean</th>\n",
       "      <th>div_std</th>\n",
       "    </tr>\n",
       "    <tr>\n",
       "      <th>timestamp</th>\n",
       "      <th></th>\n",
       "      <th></th>\n",
       "      <th></th>\n",
       "    </tr>\n",
       "  </thead>\n",
       "  <tbody>\n",
       "    <tr>\n",
       "      <th>2014-04-01 00:00:00</th>\n",
       "      <td>18.324919</td>\n",
       "      <td>-24.113435</td>\n",
       "      <td>-0.858829</td>\n",
       "    </tr>\n",
       "    <tr>\n",
       "      <th>2014-04-01 00:05:00</th>\n",
       "      <td>21.970327</td>\n",
       "      <td>-20.468026</td>\n",
       "      <td>-0.728993</td>\n",
       "    </tr>\n",
       "    <tr>\n",
       "      <th>2014-04-01 00:10:00</th>\n",
       "      <td>18.624806</td>\n",
       "      <td>-23.813547</td>\n",
       "      <td>-0.848148</td>\n",
       "    </tr>\n",
       "    <tr>\n",
       "      <th>2014-04-01 00:15:00</th>\n",
       "      <td>21.953684</td>\n",
       "      <td>-20.484669</td>\n",
       "      <td>-0.729586</td>\n",
       "    </tr>\n",
       "    <tr>\n",
       "      <th>2014-04-01 00:20:00</th>\n",
       "      <td>21.909120</td>\n",
       "      <td>-20.529234</td>\n",
       "      <td>-0.731173</td>\n",
       "    </tr>\n",
       "    <tr>\n",
       "      <th>...</th>\n",
       "      <td>...</td>\n",
       "      <td>...</td>\n",
       "      <td>...</td>\n",
       "    </tr>\n",
       "    <tr>\n",
       "      <th>2014-04-14 23:35:00</th>\n",
       "      <td>20.211195</td>\n",
       "      <td>-22.227159</td>\n",
       "      <td>-0.791647</td>\n",
       "    </tr>\n",
       "    <tr>\n",
       "      <th>2014-04-14 23:40:00</th>\n",
       "      <td>20.531041</td>\n",
       "      <td>-21.907313</td>\n",
       "      <td>-0.780255</td>\n",
       "    </tr>\n",
       "    <tr>\n",
       "      <th>2014-04-14 23:45:00</th>\n",
       "      <td>19.032127</td>\n",
       "      <td>-23.406226</td>\n",
       "      <td>-0.833640</td>\n",
       "    </tr>\n",
       "    <tr>\n",
       "      <th>2014-04-14 23:50:00</th>\n",
       "      <td>21.798801</td>\n",
       "      <td>-20.639552</td>\n",
       "      <td>-0.735102</td>\n",
       "    </tr>\n",
       "    <tr>\n",
       "      <th>2014-04-14 23:55:00</th>\n",
       "      <td>18.682620</td>\n",
       "      <td>-23.755733</td>\n",
       "      <td>-0.846089</td>\n",
       "    </tr>\n",
       "  </tbody>\n",
       "</table>\n",
       "<p>4032 rows × 3 columns</p>\n",
       "</div>"
      ],
      "text/plain": [
       "                         value  less_mean   div_std\n",
       "timestamp                                          \n",
       "2014-04-01 00:00:00  18.324919 -24.113435 -0.858829\n",
       "2014-04-01 00:05:00  21.970327 -20.468026 -0.728993\n",
       "2014-04-01 00:10:00  18.624806 -23.813547 -0.848148\n",
       "2014-04-01 00:15:00  21.953684 -20.484669 -0.729586\n",
       "2014-04-01 00:20:00  21.909120 -20.529234 -0.731173\n",
       "...                        ...        ...       ...\n",
       "2014-04-14 23:35:00  20.211195 -22.227159 -0.791647\n",
       "2014-04-14 23:40:00  20.531041 -21.907313 -0.780255\n",
       "2014-04-14 23:45:00  19.032127 -23.406226 -0.833640\n",
       "2014-04-14 23:50:00  21.798801 -20.639552 -0.735102\n",
       "2014-04-14 23:55:00  18.682620 -23.755733 -0.846089\n",
       "\n",
       "[4032 rows x 3 columns]"
      ]
     },
     "execution_count": 20,
     "metadata": {},
     "output_type": "execute_result"
    }
   ],
   "source": [
    "#\n",
    "df_small_noise['less_mean'] = df_small_noise['value'] - df_small_noise['value'].mean()\n",
    "df_small_noise['div_std'] = df_small_noise['less_mean'] / df_small_noise['value'].std()\n",
    "df_small_noise"
   ]
  },
  {
   "cell_type": "code",
   "execution_count": 21,
   "id": "84e91b3d",
   "metadata": {},
   "outputs": [
    {
     "data": {
      "text/plain": [
       "(42.438353335806646, -7.342627387941552e-14, -2.616541242931684e-15)"
      ]
     },
     "execution_count": 21,
     "metadata": {},
     "output_type": "execute_result"
    }
   ],
   "source": [
    "df_small_noise['value'].mean(), df_small_noise['less_mean'].mean(), df_small_noise['div_std'].mean()"
   ]
  },
  {
   "cell_type": "code",
   "execution_count": 22,
   "id": "f5886700",
   "metadata": {},
   "outputs": [
    {
     "data": {
      "text/plain": [
       "(28.077122281262515, 28.077122281262508, 1.0000000000000018)"
      ]
     },
     "execution_count": 22,
     "metadata": {},
     "output_type": "execute_result"
    }
   ],
   "source": [
    "df_small_noise['value'].std(), df_small_noise['less_mean'].std(), df_small_noise['div_std'].std()"
   ]
  },
  {
   "cell_type": "code",
   "execution_count": 23,
   "id": "dfd25cf5",
   "metadata": {},
   "outputs": [
    {
     "data": {
      "image/png": "[encoded data removed]",
      "text/plain": [
       "<Figure size 720x288 with 1 Axes>"
      ]
     },
     "metadata": {
      "needs_background": "light"
     },
     "output_type": "display_data"
    }
   ],
   "source": [
    "#This creates a plot and includes a figure size\n",
    "fig,ax = plt.subplots(figsize=(10,4))\n",
    "\n",
    "#Use pandas to plot data frame.\n",
    "df_train_vals.plot(legend=False, ax=ax);"
   ]
  },
  {
   "cell_type": "code",
   "execution_count": 24,
   "id": "adaf05c2",
   "metadata": {},
   "outputs": [
    {
     "data": {
      "text/plain": [
       "(4032, 1)"
      ]
     },
     "execution_count": 24,
     "metadata": {},
     "output_type": "execute_result"
    }
   ],
   "source": [
    "#displays the number of training samples\n",
    "df_train_vals.shape"
   ]
  },
  {
   "cell_type": "code",
   "execution_count": 25,
   "id": "09195d59",
   "metadata": {},
   "outputs": [
    {
     "data": {
      "text/plain": [
       "Index(['value'], dtype='object')"
      ]
     },
     "execution_count": 25,
     "metadata": {},
     "output_type": "execute_result"
    }
   ],
   "source": [
    "#identifying the name of the columns\n",
    "df_train_vals.columns\n"
   ]
  },
  {
   "cell_type": "markdown",
   "id": "0129fe9b",
   "metadata": {},
   "source": [
    "Columns are called value"
   ]
  },
  {
   "cell_type": "code",
   "execution_count": 26,
   "id": "3f085ad0",
   "metadata": {},
   "outputs": [],
   "source": [
    "#Gives the size of the windows\n",
    "window_size = 288"
   ]
  },
  {
   "cell_type": "markdown",
   "id": "052d0913",
   "metadata": {},
   "source": [
    "Window example:\n",
    "```python\n",
    "[1, 1, 2, 4, 5, 6, 7, 1, 2, 3, 4, 5]\n",
    "window_size = 3\n",
    "[1, 1, 2]\n",
    "[1, 2, 4]\n",
    "[2, 4, 5]\n",
    "[4, 5, 6]\n",
    "...\n",
    "```"
   ]
  },
  {
   "cell_type": "code",
   "execution_count": 56,
   "id": "9e23b698",
   "metadata": {},
   "outputs": [
    {
     "data": {
      "text/plain": [
       "12"
      ]
     },
     "execution_count": 56,
     "metadata": {},
     "output_type": "execute_result"
    }
   ],
   "source": [
    "#Window list example.\n",
    "L = [1, 1, 2, 4, 5, 6, 7, 1, 2, 3, 4, 5]\n",
    "#Example window size.\n",
    "win_size = 3\n",
    "#length of L.\n",
    "len(L)"
   ]
  },
  {
   "cell_type": "code",
   "execution_count": 57,
   "id": "178f371d",
   "metadata": {},
   "outputs": [
    {
     "data": {
      "text/plain": [
       "10"
      ]
     },
     "execution_count": 57,
     "metadata": {},
     "output_type": "execute_result"
    }
   ],
   "source": [
    "#number of windows from L.\n",
    "len(L) - (win_size - 1)"
   ]
  },
  {
   "cell_type": "code",
   "execution_count": 59,
   "id": "31ff4b6a",
   "metadata": {},
   "outputs": [
    {
     "data": {
      "text/plain": [
       "10"
      ]
     },
     "execution_count": 59,
     "metadata": {},
     "output_type": "execute_result"
    }
   ],
   "source": [
    "#remove brackets.\n",
    "len(L) - win_size + 1"
   ]
  },
  {
   "cell_type": "code",
   "execution_count": 60,
   "id": "1e0dfabf",
   "metadata": {},
   "outputs": [
    {
     "name": "stdout",
     "output_type": "stream",
     "text": [
      "[1, 1, 2]\n",
      "[1, 2, 4]\n",
      "[2, 4, 5]\n",
      "[4, 5, 6]\n",
      "[5, 6, 7]\n",
      "[6, 7, 1]\n",
      "[7, 1, 2]\n",
      "[1, 2, 3]\n",
      "[2, 3, 4]\n",
      "[3, 4, 5]\n"
     ]
    }
   ],
   "source": [
    "#Print the windows.\n",
    "for i in range (len(L) - win_size + 1):\n",
    "    print (L[i:i +win_size])"
   ]
  },
  {
   "cell_type": "code",
   "execution_count": 61,
   "id": "4f91e613",
   "metadata": {},
   "outputs": [
    {
     "data": {
      "text/plain": [
       "[[1, 1, 2],\n",
       " [1, 2, 4],\n",
       " [2, 4, 5],\n",
       " [4, 5, 6],\n",
       " [5, 6, 7],\n",
       " [6, 7, 1],\n",
       " [7, 1, 2],\n",
       " [1, 2, 3],\n",
       " [2, 3, 4],\n",
       " [3, 4, 5]]"
      ]
     },
     "execution_count": 61,
     "metadata": {},
     "output_type": "execute_result"
    }
   ],
   "source": [
    "#For accumulating the windows.\n",
    "wins = []\n",
    "#Generate the windows\n",
    "for i in range (len(L) - win_size + 1):\n",
    "    wins.append(L[i:i + win_size])\n",
    "wins"
   ]
  },
  {
   "cell_type": "code",
   "execution_count": 62,
   "id": "6d9e0083",
   "metadata": {},
   "outputs": [
    {
     "data": {
      "text/plain": [
       "array([[1, 1, 2],\n",
       "       [1, 2, 4],\n",
       "       [2, 4, 5],\n",
       "       [4, 5, 6],\n",
       "       [5, 6, 7],\n",
       "       [6, 7, 1],\n",
       "       [7, 1, 2],\n",
       "       [1, 2, 3],\n",
       "       [2, 3, 4],\n",
       "       [3, 4, 5]])"
      ]
     },
     "execution_count": 62,
     "metadata": {},
     "output_type": "execute_result"
    }
   ],
   "source": [
    "#Create 2D array from wins\n",
    "np.stack(wins)"
   ]
  },
  {
   "cell_type": "code",
   "execution_count": 27,
   "id": "bd373994",
   "metadata": {},
   "outputs": [],
   "source": [
    "# Generated training sequences for use in the model.\n",
    "def windows(vals, N=window_size):\n",
    "    #start with an empty list\n",
    "    L = []\n",
    "    #loops through all the possible windows\n",
    "    for i in range(len(vals) - N + 1):\n",
    "    #Append a window to the list\n",
    "        L.append(vals[i:i + N])\n",
    "    #stack them on display\n",
    "    return np.stack(L )"
   ]
  },
  {
   "cell_type": "code",
   "execution_count": 28,
   "id": "c341fb09",
   "metadata": {},
   "outputs": [],
   "source": [
    "#applying windows shape to the data set\n",
    "x_train = windows(df_train_vals)"
   ]
  },
  {
   "cell_type": "code",
   "execution_count": 29,
   "id": "12edecfa",
   "metadata": {},
   "outputs": [
    {
     "data": {
      "text/plain": [
       "(array([-0.85882857]), array([-0.79671155]))"
      ]
     },
     "execution_count": 29,
     "metadata": {},
     "output_type": "execute_result"
    }
   ],
   "source": [
    "#show first and last values\n",
    "x_train[0][0], x_train[0][-1]"
   ]
  },
  {
   "cell_type": "code",
   "execution_count": 30,
   "id": "c4d81dcd",
   "metadata": {},
   "outputs": [
    {
     "data": {
      "text/plain": [
       "(value   -0.858829\n",
       " Name: 2014-04-01 00:00:00, dtype: float64,\n",
       " value   -0.796712\n",
       " Name: 2014-04-01 23:55:00, dtype: float64)"
      ]
     },
     "execution_count": 30,
     "metadata": {},
     "output_type": "execute_result"
    }
   ],
   "source": [
    "#show first and last values using window size \n",
    "df_train_vals.iloc[0], df_train_vals.iloc[window_size -1]"
   ]
  },
  {
   "cell_type": "code",
   "execution_count": 31,
   "id": "3285e40f",
   "metadata": {},
   "outputs": [
    {
     "data": {
      "text/plain": [
       "(3745, 288, 1)"
      ]
     },
     "execution_count": 31,
     "metadata": {},
     "output_type": "execute_result"
    }
   ],
   "source": [
    "#To show how many windows and what size each window\n",
    "x_train.shape"
   ]
  },
  {
   "cell_type": "markdown",
   "id": "24e68dd1",
   "metadata": {},
   "source": [
    "From above we have 3745 windows of 288 size each "
   ]
  },
  {
   "cell_type": "markdown",
   "id": "2173abf2",
   "metadata": {},
   "source": [
    "# Neural Newtork"
   ]
  },
  {
   "cell_type": "code",
   "execution_count": 32,
   "id": "d394a20d",
   "metadata": {
    "scrolled": true
   },
   "outputs": [],
   "source": [
    "#creating the layers for the model\n",
    "layers = [\n",
    "  #adding attributes to build the keras model\n",
    "  layers.Input(shape=(x_train.shape[1], x_train.shape[2])),\n",
    "  #this creates a 1D convolution layer. \n",
    "  layers.Conv1D(\n",
    "    filters=32, kernel_size=7, padding=\"same\", strides=2, activation=\"relu\"),\n",
    "  #applies dropout to the input at a particular rate\n",
    "  layers.Dropout(rate=0.2),\n",
    "  #this creates a 1D convolution layer\n",
    "  layers.Conv1D(\n",
    "    filters=16, kernel_size=7, padding=\"same\", strides=2, activation=\"relu\"),\n",
    "  #this creates a 1D convolution layer in the opposite direction.\n",
    "  layers.Conv1DTranspose(\n",
    "    filters=16, kernel_size=7, padding=\"same\", strides=2, activation=\"relu\"),   \n",
    "  #applies dropout to the input at a particular rate\n",
    "  layers.Dropout(rate=0.2),\n",
    "  #this creates a 1D convolution layer in the opposite direction\n",
    "  layers.Conv1DTranspose(\n",
    "        filters=32, kernel_size=7, padding=\"same\", strides=2, activation=\"relu\"),  \n",
    "  #this creates a 1D convolution layer in the opposite direction\n",
    "    layers.Conv1DTranspose(filters=1, kernel_size=7, padding=\"same\"),\n",
    "]"
   ]
  },
  {
   "cell_type": "code",
   "execution_count": 33,
   "id": "76bc8718",
   "metadata": {},
   "outputs": [
    {
     "name": "stdout",
     "output_type": "stream",
     "text": [
      "Model: \"sequential\"\n",
      "_________________________________________________________________\n",
      "Layer (type)                 Output Shape              Param #   \n",
      "=================================================================\n",
      "conv1d (Conv1D)              (None, 144, 32)           256       \n",
      "_________________________________________________________________\n",
      "dropout (Dropout)            (None, 144, 32)           0         \n",
      "_________________________________________________________________\n",
      "conv1d_1 (Conv1D)            (None, 72, 16)            3600      \n",
      "_________________________________________________________________\n",
      "conv1d_transpose (Conv1DTran (None, 144, 16)           1808      \n",
      "_________________________________________________________________\n",
      "dropout_1 (Dropout)          (None, 144, 16)           0         \n",
      "_________________________________________________________________\n",
      "conv1d_transpose_1 (Conv1DTr (None, 288, 32)           3616      \n",
      "_________________________________________________________________\n",
      "conv1d_transpose_2 (Conv1DTr (None, 288, 1)            225       \n",
      "=================================================================\n",
      "Total params: 9,505\n",
      "Trainable params: 9,505\n",
      "Non-trainable params: 0\n",
      "_________________________________________________________________\n"
     ]
    }
   ],
   "source": [
    "#putting the layers into the model\n",
    "model = keras.Sequential(layers)\n",
    "#optimizer \n",
    "model.compile(optimizer=keras.optimizers.Adam(learning_rate=0.001), loss=\"mse\")\n",
    "# Gives layers and summary of the information.\n",
    "model.summary()"
   ]
  },
  {
   "cell_type": "code",
   "execution_count": 34,
   "id": "f7f6dcd3",
   "metadata": {},
   "outputs": [
    {
     "name": "stdout",
     "output_type": "stream",
     "text": [
      "Epoch 1/50\n",
      "27/27 [==============================] - 3s 110ms/step - loss: 0.4820 - val_loss: 0.0569\n",
      "Epoch 2/50\n",
      "27/27 [==============================] - 2s 82ms/step - loss: 0.0763 - val_loss: 0.0423\n",
      "Epoch 3/50\n",
      "27/27 [==============================] - 2s 81ms/step - loss: 0.0575 - val_loss: 0.0377\n",
      "Epoch 4/50\n",
      "27/27 [==============================] - 3s 100ms/step - loss: 0.0492 - val_loss: 0.0321\n",
      "Epoch 5/50\n",
      "27/27 [==============================] - 2s 75ms/step - loss: 0.0419 - val_loss: 0.0286\n",
      "Epoch 6/50\n",
      "27/27 [==============================] - 2s 80ms/step - loss: 0.0370 - val_loss: 0.0263\n",
      "Epoch 7/50\n",
      "27/27 [==============================] - 3s 128ms/step - loss: 0.0332 - val_loss: 0.0250\n",
      "Epoch 8/50\n",
      "27/27 [==============================] - 3s 94ms/step - loss: 0.0301 - val_loss: 0.0226TA: 0s - loss: 0.0\n",
      "Epoch 9/50\n",
      "27/27 [==============================] - 3s 93ms/step - loss: 0.0276 - val_loss: 0.0217\n",
      "Epoch 10/50\n",
      "27/27 [==============================] - 3s 107ms/step - loss: 0.0258 - val_loss: 0.0207\n",
      "Epoch 11/50\n",
      "27/27 [==============================] - 2s 89ms/step - loss: 0.0242 - val_loss: 0.0208\n",
      "Epoch 12/50\n",
      "27/27 [==============================] - 3s 97ms/step - loss: 0.0228 - val_loss: 0.0209\n",
      "Epoch 13/50\n",
      "27/27 [==============================] - 3s 101ms/step - loss: 0.0216 - val_loss: 0.0196\n",
      "Epoch 14/50\n",
      "27/27 [==============================] - 2s 91ms/step - loss: 0.0206 - val_loss: 0.0205\n",
      "Epoch 15/50\n",
      "27/27 [==============================] - 3s 104ms/step - loss: 0.0196 - val_loss: 0.0192\n",
      "Epoch 16/50\n",
      "27/27 [==============================] - 3s 96ms/step - loss: 0.0187 - val_loss: 0.0204\n",
      "Epoch 17/50\n",
      "27/27 [==============================] - 3s 94ms/step - loss: 0.0181 - val_loss: 0.0220\n",
      "Epoch 18/50\n",
      "27/27 [==============================] - 4s 141ms/step - loss: 0.0174 - val_loss: 0.0200\n",
      "Epoch 19/50\n",
      "27/27 [==============================] - 3s 115ms/step - loss: 0.0167 - val_loss: 0.0214\n",
      "Epoch 20/50\n",
      "27/27 [==============================] - 3s 99ms/step - loss: 0.0161 - val_loss: 0.0233\n"
     ]
    }
   ],
   "source": [
    "#part of keras sequential training the model, history is a reocord of values\n",
    "history = model.fit(\n",
    "    x_train,\n",
    "    x_train,\n",
    "    epochs=50,\n",
    "    batch_size=128,\n",
    "    validation_split=0.1,\n",
    "    #this stops code running\n",
    "    callbacks=[\n",
    "        keras.callbacks.EarlyStopping(monitor=\"val_loss\", patience=5, mode=\"min\")\n",
    "    ],\n",
    ")"
   ]
  },
  {
   "cell_type": "markdown",
   "id": "2d5184b0",
   "metadata": {},
   "source": [
    "## Evaluation"
   ]
  },
  {
   "cell_type": "code",
   "execution_count": 35,
   "id": "8723f933",
   "metadata": {},
   "outputs": [
    {
     "data": {
      "image/png": "[encoded data removed]",
      "text/plain": [
       "<Figure size 720x432 with 1 Axes>"
      ]
     },
     "metadata": {
      "needs_background": "light"
     },
     "output_type": "display_data"
    }
   ],
   "source": [
    "# history is displayed graphically of the Training and Validation loss values\n",
    "fig, ax = plt.subplots(figsize=(10,6))\n",
    "ax.plot(history.history[\"loss\"], label=\"Training Loss\")\n",
    "ax.plot(history.history[\"val_loss\"], label=\"Validation Loss\")\n",
    "ax.legend();"
   ]
  },
  {
   "cell_type": "code",
   "execution_count": 36,
   "id": "26613ee8",
   "metadata": {},
   "outputs": [],
   "source": [
    "# Get train MAE loss.\n",
    "x_train_pred = model.predict(x_train)"
   ]
  },
  {
   "cell_type": "code",
   "execution_count": 37,
   "id": "c3a8f405",
   "metadata": {},
   "outputs": [],
   "source": [
    "#Calculate loss\n",
    "train_mae_loss = np.mean(np.abs(x_train_pred - x_train), axis=1)"
   ]
  },
  {
   "cell_type": "code",
   "execution_count": 38,
   "id": "96a60174",
   "metadata": {},
   "outputs": [
    {
     "data": {
      "image/png": "[encoded data removed]",
      "text/plain": [
       "<Figure size 720x432 with 1 Axes>"
      ]
     },
     "metadata": {
      "needs_background": "light"
     },
     "output_type": "display_data"
    }
   ],
   "source": [
    "#Creating diagram\n",
    "fig, ax = plt.subplots(figsize =(10,6))\n",
    "#plotting histogram\n",
    "ax.hist(train_mae_loss, bins=50)\n",
    "# Label for X Axis\n",
    "ax.set_xlabel(\"Train MAE loss\")\n",
    "#Label for Y Axis\n",
    "ax.set_ylabel(\"No of samples\");\n"
   ]
  },
  {
   "cell_type": "code",
   "execution_count": 39,
   "id": "ebeda75e",
   "metadata": {},
   "outputs": [
    {
     "data": {
      "text/plain": [
       "0.12160845998235491"
      ]
     },
     "execution_count": 39,
     "metadata": {},
     "output_type": "execute_result"
    }
   ],
   "source": [
    "# Get reconstruction loss threshold.\n",
    "threshold = np.max(train_mae_loss)\n",
    "#pritn out the threshold\n",
    "threshold"
   ]
  },
  {
   "cell_type": "code",
   "execution_count": 40,
   "id": "eab15de9",
   "metadata": {},
   "outputs": [
    {
     "data": {
      "image/png": "[encoded data removed]",
      "text/plain": [
       "<Figure size 720x432 with 1 Axes>"
      ]
     },
     "metadata": {
      "needs_background": "light"
     },
     "output_type": "display_data"
    }
   ],
   "source": [
    "# Checking how the first sequence is learnt\n",
    "#shaping the plot.\n",
    "fir, ax = plt.subplots(figsize =(10,6))\n",
    "#plotting training data\n",
    "ax.plot(x_train[0])\n",
    "#plotting predicted date\n",
    "ax.plot(x_train_pred[0]);"
   ]
  },
  {
   "cell_type": "code",
   "execution_count": 41,
   "id": "5d651fbf",
   "metadata": {},
   "outputs": [],
   "source": [
    "df_test_value = (df_daily_jumpsup - train_mean) / train_std\n"
   ]
  },
  {
   "cell_type": "code",
   "execution_count": 42,
   "id": "694bb0d5",
   "metadata": {},
   "outputs": [
    {
     "data": {
      "image/png": "[encoded data removed]",
      "text/plain": [
       "<Figure size 432x288 with 1 Axes>"
      ]
     },
     "metadata": {
      "needs_background": "light"
     },
     "output_type": "display_data"
    }
   ],
   "source": [
    "fig, ax = plt.subplots()\n",
    "df_test_value.plot(legend=False, ax=ax);\n"
   ]
  },
  {
   "cell_type": "code",
   "execution_count": 43,
   "id": "419d46fd",
   "metadata": {},
   "outputs": [
    {
     "name": "stdout",
     "output_type": "stream",
     "text": [
      "(3745, 288, 1)\n"
     ]
    }
   ],
   "source": [
    "# Create sequences from test values.\n",
    "x_test = windows(df_test_value.values)\n",
    "print( x_test.shape)"
   ]
  },
  {
   "cell_type": "code",
   "execution_count": 44,
   "id": "b352a8de",
   "metadata": {},
   "outputs": [],
   "source": [
    "# Get test MAE loss.\n",
    "x_test_pred = model.predict(x_test)"
   ]
  },
  {
   "cell_type": "code",
   "execution_count": 45,
   "id": "b4f0f50d",
   "metadata": {},
   "outputs": [
    {
     "data": {
      "text/plain": [
       "array([[0.10257929],\n",
       "       [0.10529808],\n",
       "       [0.10455864],\n",
       "       ...,\n",
       "       [0.10771103],\n",
       "       [0.10943752],\n",
       "       [0.10808017]])"
      ]
     },
     "execution_count": 45,
     "metadata": {},
     "output_type": "execute_result"
    }
   ],
   "source": [
    "test_mae_loss = np.mean(np.abs(x_test_pred - x_test), axis=1)\n",
    "test_mae_loss"
   ]
  },
  {
   "cell_type": "code",
   "execution_count": 46,
   "id": "46f5e6dc",
   "metadata": {},
   "outputs": [
    {
     "data": {
      "text/plain": [
       "array([0.10257929, 0.10529808, 0.10455864, ..., 0.10771103, 0.10943752,\n",
       "       0.10808017])"
      ]
     },
     "execution_count": 46,
     "metadata": {},
     "output_type": "execute_result"
    }
   ],
   "source": [
    "test_mae_loss = test_mae_loss.reshape((-1))\n",
    "\n",
    "test_mae_loss\n",
    "\n"
   ]
  },
  {
   "cell_type": "code",
   "execution_count": 47,
   "id": "e3e20c88",
   "metadata": {},
   "outputs": [
    {
     "data": {
      "image/png": "[encoded data removed]",
      "text/plain": [
       "<Figure size 720x432 with 1 Axes>"
      ]
     },
     "metadata": {
      "needs_background": "light"
     },
     "output_type": "display_data"
    }
   ],
   "source": [
    "#\n",
    "fig, ax = plt.subplots(figsize=(10,6))\n",
    "#\n",
    "ax.hist(test_mae_loss, bins=50)\n",
    "#\n",
    "ax.set_xlabel(\"test MAE loss\")\n",
    "#\n",
    "ax.set_ylabel(\"No of samples\");\n"
   ]
  },
  {
   "cell_type": "code",
   "execution_count": 48,
   "id": "5b17b57f",
   "metadata": {},
   "outputs": [
    {
     "data": {
      "text/plain": [
       "396"
      ]
     },
     "execution_count": 48,
     "metadata": {},
     "output_type": "execute_result"
    }
   ],
   "source": [
    "# Detect all the samples which are anomalies.\n",
    "anomalies = test_mae_loss > threshold\n",
    "#Number of anomalies\n",
    "np.sum(anomalies)\n"
   ]
  },
  {
   "cell_type": "code",
   "execution_count": 49,
   "id": "1db02349",
   "metadata": {},
   "outputs": [
    {
     "data": {
      "text/plain": [
       "(array([2522, 2698, 2702, 2703, 2704, 2705, 2706, 2707, 2708, 2709, 2710,\n",
       "        2711, 2712, 2713, 2714, 2715, 2716, 2717, 2718, 2719, 2720, 2721,\n",
       "        2722, 2723, 2724, 2725, 2726, 2727, 2728, 2729, 2730, 2731, 2732,\n",
       "        2733, 2734, 2735, 2736, 2737, 2738, 2739, 2740, 2741, 2742, 2743,\n",
       "        2744, 2745, 2746, 2747, 2748, 2749, 2750, 2751, 2752, 2753, 2754,\n",
       "        2755, 2756, 2757, 2758, 2759, 2760, 2761, 2762, 2763, 2764, 2765,\n",
       "        2766, 2767, 2768, 2769, 2770, 2771, 2772, 2773, 2774, 2775, 2776,\n",
       "        2777, 2778, 2779, 2780, 2781, 2782, 2783, 2784, 2785, 2786, 2787,\n",
       "        2788, 2789, 2790, 2791, 2792, 2793, 2794, 2795, 2796, 2797, 2798,\n",
       "        2799, 2800, 2801, 2802, 2803, 2804, 2805, 2806, 2807, 2808, 2809,\n",
       "        2810, 2811, 2812, 2813, 2814, 2815, 2816, 2817, 2818, 2819, 2820,\n",
       "        2821, 2822, 2823, 2824, 2825, 2826, 2827, 2828, 2829, 2830, 2831,\n",
       "        2832, 2833, 2834, 2835, 2836, 2837, 2838, 2839, 2840, 2841, 2842,\n",
       "        2843, 2844, 2845, 2846, 2847, 2848, 2849, 2850, 2851, 2852, 2853,\n",
       "        2854, 2855, 2856, 2857, 2858, 2859, 2860, 2861, 2862, 2863, 2864,\n",
       "        2865, 2866, 2867, 2868, 2869, 2870, 2871, 2872, 2873, 2874, 2875,\n",
       "        2876, 2877, 2878, 2879, 2880, 2881, 2882, 2883, 2884, 2885, 2886,\n",
       "        2887, 2888, 2889, 2890, 2891, 2892, 2893, 2894, 2895, 2896, 2897,\n",
       "        2898, 2899, 2900, 2901, 2902, 2903, 2904, 2905, 2906, 2907, 2908,\n",
       "        2909, 2910, 2911, 2912, 2913, 2914, 2915, 2916, 2917, 2918, 2919,\n",
       "        2920, 2921, 2922, 2923, 2924, 2925, 2926, 2927, 2928, 2929, 2930,\n",
       "        2931, 2932, 2933, 2934, 2935, 2936, 2937, 2938, 2939, 2940, 2941,\n",
       "        2942, 2943, 2944, 2945, 2946, 2947, 2948, 2949, 2950, 2951, 2952,\n",
       "        2953, 2954, 2955, 2956, 2957, 2958, 2959, 2960, 2961, 2962, 2963,\n",
       "        2964, 2965, 2966, 2967, 2968, 2969, 2970, 2971, 2972, 2973, 2974,\n",
       "        2975, 2976, 2977, 2978, 2979, 2980, 2981, 2982, 2983, 2984, 2985,\n",
       "        2986, 2987, 2988, 2989, 2990, 2991, 2992, 2993, 2994, 2995, 2996,\n",
       "        2997, 2998, 2999, 3000, 3001, 3002, 3003, 3004, 3005, 3006, 3007,\n",
       "        3008, 3009, 3010, 3011, 3012, 3013, 3014, 3015, 3016, 3017, 3018,\n",
       "        3019, 3020, 3021, 3022, 3023, 3024, 3025, 3026, 3027, 3028, 3029,\n",
       "        3030, 3031, 3032, 3033, 3034, 3035, 3036, 3037, 3038, 3039, 3040,\n",
       "        3041, 3042, 3043, 3044, 3045, 3046, 3047, 3048, 3049, 3050, 3051,\n",
       "        3052, 3053, 3054, 3055, 3056, 3057, 3058, 3059, 3060, 3061, 3062,\n",
       "        3063, 3064, 3065, 3066, 3067, 3068, 3069, 3070, 3071, 3072, 3073,\n",
       "        3074, 3075, 3076, 3077, 3078, 3079, 3080, 3081, 3082, 3083, 3084,\n",
       "        3085, 3086, 3087, 3088, 3089, 3090, 3091, 3092, 3093, 3094, 3095],\n",
       "       dtype=int64),)"
      ]
     },
     "execution_count": 49,
     "metadata": {},
     "output_type": "execute_result"
    }
   ],
   "source": [
    "#Indices of anomalies\n",
    "np.where(anomalies)"
   ]
  },
  {
   "cell_type": "code",
   "execution_count": 50,
   "id": "f916c537",
   "metadata": {},
   "outputs": [],
   "source": [
    "# data i is an anomaly if samples [(i - timesteps + 1) to (i)] are anomalies\n",
    "inds = []\n",
    "for i in range(window_size - 1, len(df_test_value) - window_size + 1):\n",
    "    if np.all(anomalies[i - window_size + 1 : i]):\n",
    "        inds.append(i)"
   ]
  },
  {
   "cell_type": "code",
   "execution_count": 51,
   "id": "08eb496b",
   "metadata": {},
   "outputs": [],
   "source": [
    "#\n",
    "df_subset = df_daily_jumpsup.iloc[inds]"
   ]
  },
  {
   "cell_type": "code",
   "execution_count": 52,
   "id": "dae8ece0",
   "metadata": {},
   "outputs": [
    {
     "data": {
      "image/png": "[encoded data removed]",
      "text/plain": [
       "<Figure size 720x432 with 1 Axes>"
      ]
     },
     "metadata": {
      "needs_background": "light"
     },
     "output_type": "display_data"
    }
   ],
   "source": [
    "#\n",
    "fig, ax = plt.subplots(figsize=(10,6))\n",
    "#\n",
    "df_daily_jumpsup.plot(legend=False, ax=ax)\n",
    "#\n",
    "df_subset.plot(legend=False, ax=ax, color=\"r\");"
   ]
  },
  {
   "cell_type": "markdown",
   "id": "b320f52a",
   "metadata": {},
   "source": [
    "## ***References***\n",
    "I used ATU video Lectures by Ian McLoughlin and class notes to complete this work.\n",
    "In addition I searched online using the following websites. \n",
    "\n",
    "\n",
    "1. [Simplilearn](https://www.simplilearn.com/tutorials/deep-learning-tutorial/what-is-keras)\n",
    "\n",
    "\n",
    "2. [Keras Time Series](https://keras.io/examples/timeseries/timeseries_anomaly_detection/)\n",
    "\n",
    "\n",
    "3. [Tensor Flow](https://en.wikipedia.org/wiki/TensorFlow)\n",
    "\n",
    "The Keras user guide was used througout for comments.[Keras](https://keras.io/guides/)\n",
    "\n",
    "\n",
    "\n"
   ]
  },
  {
   "cell_type": "code",
   "execution_count": null,
   "id": "4b2a97af",
   "metadata": {},
   "outputs": [],
   "source": []
  }
 ],
 "metadata": {
  "kernelspec": {
   "display_name": "Python 3",
   "language": "python",
   "name": "python3"
  },
  "language_info": {
   "codemirror_mode": {
    "name": "ipython",
    "version": 3
   },
   "file_extension": ".py",
   "mimetype": "text/x-python",
   "name": "python",
   "nbconvert_exporter": "python",
   "pygments_lexer": "ipython3",
   "version": "3.8.8"
  }
 },
 "nbformat": 4,
 "nbformat_minor": 5
}
