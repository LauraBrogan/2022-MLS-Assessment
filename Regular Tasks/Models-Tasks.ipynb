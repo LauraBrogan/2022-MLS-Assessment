{
 "cells": [
  {
   "cell_type": "markdown",
   "id": "88854690",
   "metadata": {},
   "source": [
    "# Regular Tasks for Machine Learning and Statistics 2022\n",
    "<hr style=\"border-top: 1px solid #001a79;\" />\n",
    "<h1 style=\"color: #001a79;\">Models Exercises</h1>\n",
    "\n",
    "<hr style=\"border-top: 1px solid #001a79;\" /> "
   ]
  },
  {
   "cell_type": "markdown",
   "id": "40c46320",
   "metadata": {},
   "source": [
    "need narrate code and amend code on this"
   ]
  },
  {
   "cell_type": "markdown",
   "id": "6258ba9f",
   "metadata": {},
   "source": [
    "<h3 style=\"color: #001a79;\">Exercise 2.1</h3>\n",
    "\n",
    "Use numpy and matplotlib to plot the absolute value function.\n",
    "\n",
    "Research and explain why the absolute value function is not typically used in fitting straight lines to data."
   ]
  },
  {
   "cell_type": "code",
   "execution_count": 7,
   "id": "3ec0e5ae",
   "metadata": {},
   "outputs": [],
   "source": [
    "import matplotlib.pyplot as plt\n",
    "import numpy as np"
   ]
  },
  {
   "cell_type": "code",
   "execution_count": 8,
   "id": "18fce429",
   "metadata": {},
   "outputs": [],
   "source": [
    "w = np.arange(0.0, 21.0, 1.0)\n",
    "d = 5.0 * w + 10.0 + np.random.normal(0.0, 5.0, w.size)"
   ]
  },
  {
   "cell_type": "code",
   "execution_count": null,
   "id": "45de6728",
   "metadata": {},
   "outputs": [],
   "source": []
  },
  {
   "cell_type": "code",
   "execution_count": 9,
   "id": "07f8e9fd",
   "metadata": {},
   "outputs": [
    {
     "data": {
      "image/png": "[encoded data removed]",
      "text/plain": [
       "<Figure size 432x288 with 1 Axes>"
      ]
     },
     "metadata": {
      "needs_background": "light"
     },
     "output_type": "display_data"
    }
   ],
   "source": [
    "# Plot w versus d with black dots.\n",
    "plt.plot(w, d, 'k.', label=\"Data\")\n",
    "\n",
    "# Overlay some lines on the plot.\n",
    "x = np.arange(0.0, 21.0, 1.0)\n",
    "plt.plot(x, 5.0 * x + 10.0, 'r-', label=r\"$5x + 10$\")\n",
    "plt.plot(x, 6.0 * x +  5.0, 'g-', label=r\"$6x +  5$\")\n",
    "plt.plot(x, 5.0 * x + 15.0, 'b-', label=r\"$5x + 15$\")\n",
    "\n",
    "# Add a legend.\n",
    "plt.legend()\n",
    "\n",
    "# Add axis labels.\n",
    "plt.xlabel('Weight (KG)')\n",
    "plt.ylabel('Distance (CM)')\n",
    "\n",
    "# Show the plot.\n",
    "plt.show()"
   ]
  },
  {
   "cell_type": "code",
   "execution_count": null,
   "id": "be2933ba",
   "metadata": {},
   "outputs": [],
   "source": []
  },
  {
   "cell_type": "code",
   "execution_count": 10,
   "id": "551698b8",
   "metadata": {},
   "outputs": [
    {
     "name": "stdout",
     "output_type": "stream",
     "text": [
      "Cost with m =  5.00 and c = 10.00:   503.92\n",
      "Cost with m =  6.00 and c =  5.00:  1894.29\n",
      "Cost with m =  5.00 and c = 15.00:   799.15\n"
     ]
    }
   ],
   "source": [
    "# Calculate the cost of the lines above for the data above.\n",
    "# Code adapted from: https://github.com/ianmcloughlin/2223-S1-machine-learn-stats/blob/main/notebooks/02-models.ipynb\n",
    "cost = lambda m,c: np.sum([(d[i] - m * w[i] - c)**2 for i in range(w.size)])\n",
    "\n",
    "print(\"Cost with m = %5.2f and c = %5.2f: %8.2f\" % (5.0, 10.0, cost(5.0, 10.0)))\n",
    "print(\"Cost with m = %5.2f and c = %5.2f: %8.2f\" % (6.0,  5.0, cost(6.0,  5.0)))\n",
    "print(\"Cost with m = %5.2f and c = %5.2f: %8.2f\" % (5.0, 15.0, cost(5.0, 15.0)))"
   ]
  },
  {
   "cell_type": "code",
   "execution_count": null,
   "id": "a72d1123",
   "metadata": {},
   "outputs": [],
   "source": []
  },
  {
   "cell_type": "code",
   "execution_count": null,
   "id": "6cf0c0d4",
   "metadata": {},
   "outputs": [],
   "source": []
  },
  {
   "cell_type": "markdown",
   "id": "6c70e95d",
   "metadata": {},
   "source": [
    "<h3 style=\"color: #001a79;\">Exercise 2.2</h3>\n",
    "\n",
    "Fit a straight line to the following data points, using all three methods used above.\n",
    "\n",
    "Do you think a straight line is a good model for these points?\n",
    "\n",
    "x = [2.0, 3.0, 4.0, 5.0, 6.0, 7.0, 8.0, 9.0, 10.0, 11.0, 12.0, 13.0, 14.0, 15.0, 16.0, 17.0, 18.0, 19.0, 20.0]\n",
    "\n",
    "y = [0.7, 1.1, 1.5, 1.6, 1.7, 2.0, 2.3, 2.4, 2.2, 2.1, 2.4, 2.6, 2.2, 2.7, 2.5, 2.7, 2.8, 2.9, 3.1]\n"
   ]
  },
  {
   "cell_type": "code",
   "execution_count": 20,
   "id": "514c760e",
   "metadata": {},
   "outputs": [],
   "source": [
    "# Optimization.\n",
    "import scipy.optimize as so\n",
    "import numpy as np\n",
    "import matplotlib.pyplot as plt"
   ]
  },
  {
   "cell_type": "code",
   "execution_count": 24,
   "id": "179d4217",
   "metadata": {},
   "outputs": [
    {
     "data": {
      "text/plain": [
       "[<matplotlib.lines.Line2D at 0x1a1c7978d00>]"
      ]
     },
     "execution_count": 24,
     "metadata": {},
     "output_type": "execute_result"
    },
    {
     "data": {
      "image/png": "[encoded data removed]",
      "text/plain": [
       "<Figure size 432x288 with 1 Axes>"
      ]
     },
     "metadata": {
      "needs_background": "light"
     },
     "output_type": "display_data"
    }
   ],
   "source": [
    "#Plotting the provided points.\n",
    "x = np.array([2.0, 3.0, 4.0, 5.0, 6.0, 7.0, 8.0, 9.0, 10.0, 11.0, 12.0, 13.0, 14.0, 15.0, 16.0, 17.0, 18.0, 19.0, 20.0])\n",
    "y = np.array([0.7, 1.1, 1.5, 1.6, 1.7, 2.0, 2.3, 2.4, 2.2, 2.1, 2.4, 2.6, 2.2, 2.7, 2.5, 2.7, 2.8, 2.9, 3.1])\n",
    "#converted to np arrays\n",
    "plt.plot(x, y, \"o\")"
   ]
  },
  {
   "cell_type": "code",
   "execution_count": 15,
   "id": "927aedf6",
   "metadata": {},
   "outputs": [
    {
     "data": {
      "text/plain": [
       "array([0.10315789, 1.04947368])"
      ]
     },
     "execution_count": 15,
     "metadata": {},
     "output_type": "execute_result"
    }
   ],
   "source": [
    "np.polyfit(x,y,1)"
   ]
  },
  {
   "cell_type": "code",
   "execution_count": 27,
   "id": "e76e8f2b",
   "metadata": {},
   "outputs": [
    {
     "data": {
      "text/plain": [
       "(0.10315789473684209, 1.0494736842105263)"
      ]
     },
     "execution_count": 27,
     "metadata": {},
     "output_type": "execute_result"
    }
   ],
   "source": [
    "# Previous, analytical result.\n",
    "m_a, c_a = np.polyfit(x, y, 1)\n",
    "# Print analytical results.\n",
    "m_a, c_a"
   ]
  },
  {
   "cell_type": "code",
   "execution_count": 28,
   "id": "96358166",
   "metadata": {},
   "outputs": [
    {
     "data": {
      "image/png": "[encoded data removed]",
      "text/plain": [
       "<Figure size 432x288 with 1 Axes>"
      ]
     },
     "metadata": {
      "needs_background": "light"
     },
     "output_type": "display_data"
    }
   ],
   "source": [
    "# Plot the best fit line from the optimization.\n",
    "#fig, ax = plt.subplots(figsize=(8, 6))\n",
    "plt.plot(x, y, 'k.', label='Original data')\n",
    "#ax.plot(x, m_o * x + c_o, 'b-', label='Optimized line')\n",
    "plt.plot(x, m_a * x + c_a, 'b-', label='Analytical line')\n",
    "plt.legend()\n",
    "\n",
    "# Show the plot.\n",
    "plt.show()"
   ]
  },
  {
   "cell_type": "code",
   "execution_count": 29,
   "id": "7949a330",
   "metadata": {},
   "outputs": [],
   "source": [
    "# We are going to use minimize function in scipy.optimize.\n",
    "# So - what do we need? First we need a function to minimze.\n",
    "\n",
    "# x and y are have fixed values in this scenario as above.\n",
    "\n",
    "# The function to be minimized - the cost function.\n",
    "# It must take a single argument! But our cost function takes 2: m and c.\n",
    "# So, we'll put them in a list called MC. e.g. MC = (5, 10)\n",
    "def cost(MC):\n",
    "    # Unpack the values m and c.\n",
    "    m, c = MC\n",
    "    # We need the data points in this function.\n",
    "    cost = np.sum((y - m * x - c)**2)\n",
    "    # Return that value.\n",
    "    return cost"
   ]
  },
  {
   "cell_type": "code",
   "execution_count": 30,
   "id": "3e7fce67",
   "metadata": {},
   "outputs": [
    {
     "data": {
      "text/plain": [
       "      fun: 1.0395789473691037\n",
       " hess_inv: array([[ 0.00087719, -0.00964912],\n",
       "       [-0.00964912,  0.13245614]])\n",
       "      jac: array([2.98023224e-08, 0.00000000e+00])\n",
       "  message: 'Optimization terminated successfully.'\n",
       "     nfev: 21\n",
       "      nit: 5\n",
       "     njev: 7\n",
       "   status: 0\n",
       "  success: True\n",
       "        x: array([0.10315786, 1.04947406])"
      ]
     },
     "execution_count": 30,
     "metadata": {},
     "output_type": "execute_result"
    }
   ],
   "source": [
    "# https://docs.scipy.org/doc/scipy/reference/generated/scipy.optimize.minimize.html#scipy.optimize.minimize\n",
    "result = so.minimize(cost, (2.0, 2.0))\n",
    "# Show the results.\n",
    "result"
   ]
  },
  {
   "cell_type": "code",
   "execution_count": 31,
   "id": "01ddd82b",
   "metadata": {},
   "outputs": [
    {
     "data": {
      "text/plain": [
       "(0.10315786014998399, 1.04947405671058)"
      ]
     },
     "execution_count": 31,
     "metadata": {},
     "output_type": "execute_result"
    }
   ],
   "source": [
    "# Extract the optimized m and c.\n",
    "m_o, c_o = result.x\n",
    "# Print them.\n",
    "m_o, c_o"
   ]
  },
  {
   "cell_type": "code",
   "execution_count": 32,
   "id": "ef9d4c08",
   "metadata": {},
   "outputs": [
    {
     "data": {
      "image/png": "[encoded data removed]",
      "text/plain": [
       "<Figure size 576x432 with 1 Axes>"
      ]
     },
     "metadata": {
      "needs_background": "light"
     },
     "output_type": "display_data"
    }
   ],
   "source": [
    "# Plot the best fit line from the optimization.\n",
    "fig, ax = plt.subplots(figsize=(8, 6))\n",
    "ax.plot(x, y, 'k.', label='Original data')\n",
    "ax.plot(x, m_o * x + c_o, 'b-', label='Optimized line')\n",
    "ax.plot(x, m_a * x + c_a, 'g-', label='Analytical line')\n",
    "ax.legend()\n",
    "\n",
    "# Show the plot.\n",
    "plt.show()"
   ]
  },
  {
   "cell_type": "markdown",
   "id": "b2e26efa",
   "metadata": {},
   "source": [
    "## ***References***\n",
    "I used ATU video Lectures by Ian McLoughlin and class notes to complete this work.\n",
    "In addition I searched online using the following websites which were used for the relevant sections of this assessment as detailed.\n",
    "- ***Exercise 1.1***\n",
    "\n",
    "[Stack Overflow](https://stackoverflow.com/a/4941932)\n",
    "\n",
    "[Python](https://docs.python.org/3/library/math.html)\n",
    "\n",
    "- ***Exercise 1.1 Bonus***\n",
    "\n"
   ]
  },
  {
   "cell_type": "code",
   "execution_count": null,
   "id": "1ea49738",
   "metadata": {},
   "outputs": [],
   "source": []
  }
 ],
 "metadata": {
  "kernelspec": {
   "display_name": "Python 3",
   "language": "python",
   "name": "python3"
  },
  "language_info": {
   "codemirror_mode": {
    "name": "ipython",
    "version": 3
   },
   "file_extension": ".py",
   "mimetype": "text/x-python",
   "name": "python",
   "nbconvert_exporter": "python",
   "pygments_lexer": "ipython3",
   "version": "3.8.8"
  }
 },
 "nbformat": 4,
 "nbformat_minor": 5
}
