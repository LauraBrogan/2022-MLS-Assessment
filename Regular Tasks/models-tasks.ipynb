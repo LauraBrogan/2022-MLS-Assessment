{
 "cells": [
  {
   "cell_type": "markdown",
   "id": "88854690",
   "metadata": {},
   "source": [
    "# Regular Tasks for Machine Learning and Statistics 2022\n",
    "<hr style=\"border-top: 1px solid #001a79;\" />\n",
    "<h1 style=\"color: #001a79;\">Models Exercises</h1>\n",
    "\n",
    "<hr style=\"border-top: 1px solid #001a79;\" /> "
   ]
  },
  {
   "cell_type": "markdown",
   "id": "6258ba9f",
   "metadata": {},
   "source": [
    "<h3 style=\"color: #001a79;\">Exercise 2.1</h3>\n",
    "\n",
    "Use numpy and matplotlib to plot the absolute value function.\n",
    "\n",
    "Research and explain why the absolute value function is not typically used in fitting straight lines to data."
   ]
  },
  {
   "cell_type": "code",
   "execution_count": 1,
   "id": "3ec0e5ae",
   "metadata": {},
   "outputs": [],
   "source": [
    "#Import matplotlib.\n",
    "import matplotlib.pyplot as plt\n",
    "import numpy as np"
   ]
  },
  {
   "cell_type": "code",
   "execution_count": 2,
   "id": "18fce429",
   "metadata": {},
   "outputs": [],
   "source": [
    "#Return evenly spaced values within a given interval\n",
    "t = np.arange(0.0, 21.0, 1.0)\n",
    "#np.random - Draw random samples from a normal distribution.\n",
    "r = 5 * t + 10.0 + np.random.normal(0.0, 5.0, t.size)"
   ]
  },
  {
   "cell_type": "code",
   "execution_count": 3,
   "id": "95f9f09d",
   "metadata": {},
   "outputs": [
    {
     "data": {
      "text/plain": [
       "array([ 0.,  1.,  2.,  3.,  4.,  5.,  6.,  7.,  8.,  9., 10., 11., 12.,\n",
       "       13., 14., 15., 16., 17., 18., 19., 20.])"
      ]
     },
     "execution_count": 3,
     "metadata": {},
     "output_type": "execute_result"
    }
   ],
   "source": [
    "# looking at what is contained in t\n",
    "t "
   ]
  },
  {
   "cell_type": "code",
   "execution_count": 4,
   "id": "b3070519",
   "metadata": {},
   "outputs": [
    {
     "data": {
      "text/plain": [
       "array([ 18.93333489,  10.1059154 ,  17.40220278,  20.93176048,\n",
       "        29.76788708,  33.03506922,  41.82910545,  44.08090523,\n",
       "        45.00910683,  63.11520792,  64.40813742,  67.4718115 ,\n",
       "        64.39623537,  76.56456667,  81.26644882,  95.6712072 ,\n",
       "        88.64722481,  89.34684799, 104.99985266, 103.91677211,\n",
       "       105.99903561])"
      ]
     },
     "execution_count": 4,
     "metadata": {},
     "output_type": "execute_result"
    }
   ],
   "source": [
    "# looking ayt what is contained in r\n",
    "r"
   ]
  },
  {
   "cell_type": "code",
   "execution_count": 5,
   "id": "07f8e9fd",
   "metadata": {},
   "outputs": [
    {
     "data": {
      "image/png": "[encoded data removed]",
      "text/plain": [
       "<Figure size 432x288 with 1 Axes>"
      ]
     },
     "metadata": {
      "needs_background": "light"
     },
     "output_type": "display_data"
    }
   ],
   "source": [
    "# Plot t versus r with black dots.\n",
    "plt.plot(t, r, 'k.', label=\"Data\")\n",
    "\n",
    "# Overlay some lines on the plot.\n",
    "x = np.arange(0.0, 21.0, 1.0)\n",
    "plt.plot(x, 5.0 * x + 10.0, 'r-', label=r\"$5x + 10$\")\n",
    "plt.plot(x, 6.0 * x +  5.0, 'g-', label=r\"$6x +  5$\")\n",
    "plt.plot(x, 5.0 * x + 15.0, 'b-', label=r\"$5x + 15$\")\n",
    "\n",
    "# Add a legend.\n",
    "plt.legend()\n",
    "\n",
    "# Add axis labels.\n",
    "plt.xlabel('X Axis')\n",
    "plt.ylabel('Y Axis')\n",
    "\n",
    "# Show the plot.\n",
    "plt.show()"
   ]
  },
  {
   "cell_type": "code",
   "execution_count": 6,
   "id": "551698b8",
   "metadata": {},
   "outputs": [
    {
     "name": "stdout",
     "output_type": "stream",
     "text": [
      "Cost with m =  5.00 and c = 10.00:   476.76\n",
      "Cost with m =  6.00 and c =  5.00:  1683.92\n",
      "Cost with m =  5.00 and c = 15.00:   932.78\n"
     ]
    }
   ],
   "source": [
    "# Calculate the cost of the lines above for the data above.\n",
    "# Code adapted from: https://github.com/ianmcloughlin/2223-S1-machine-learn-stats/blob/main/notebooks/02-models.ipynb\n",
    "cost = lambda m,c: np.sum([(r[i] - m * t[i] - c)**2 for i in range(t.size)])\n",
    "\n",
    "print(\"Cost with m = %5.2f and c = %5.2f: %8.2f\" % (5.0, 10.0, cost(5.0, 10.0)))\n",
    "print(\"Cost with m = %5.2f and c = %5.2f: %8.2f\" % (6.0,  5.0, cost(6.0,  5.0)))\n",
    "print(\"Cost with m = %5.2f and c = %5.2f: %8.2f\" % (5.0, 15.0, cost(5.0, 15.0)))"
   ]
  },
  {
   "cell_type": "markdown",
   "id": "b478bc7b",
   "metadata": {},
   "source": [
    "When using absolute values you have to draw many different regression lines and measure the error distances for each observation to the regression line but you can never be sure that you find the best fitting regression line. \n",
    "A simplier way to find the best fitting regression line is to use the squared values.\n",
    "\n",
    "[*Bradthiessen*]"
   ]
  },
  {
   "cell_type": "markdown",
   "id": "6c70e95d",
   "metadata": {},
   "source": [
    "<h3 style=\"color: #001a79;\">Exercise 2.2</h3>\n",
    "\n",
    "Fit a straight line to the following data points, using all three methods used above.\n",
    "\n",
    "Do you think a straight line is a good model for these points?\n",
    "\n",
    "x = [2.0, 3.0, 4.0, 5.0, 6.0, 7.0, 8.0, 9.0, 10.0, 11.0, 12.0, 13.0, 14.0, 15.0, 16.0, 17.0, 18.0, 19.0, 20.0]\n",
    "\n",
    "y = [0.7, 1.1, 1.5, 1.6, 1.7, 2.0, 2.3, 2.4, 2.2, 2.1, 2.4, 2.6, 2.2, 2.7, 2.5, 2.7, 2.8, 2.9, 3.1]\n"
   ]
  },
  {
   "cell_type": "code",
   "execution_count": 7,
   "id": "514c760e",
   "metadata": {},
   "outputs": [],
   "source": [
    "# Optimization.\n",
    "import scipy.optimize as so\n",
    "import numpy as np\n",
    "import matplotlib.pyplot as plt"
   ]
  },
  {
   "cell_type": "code",
   "execution_count": 8,
   "id": "179d4217",
   "metadata": {},
   "outputs": [
    {
     "data": {
      "text/plain": [
       "[<matplotlib.lines.Line2D at 0x1b1b9f75520>]"
      ]
     },
     "execution_count": 8,
     "metadata": {},
     "output_type": "execute_result"
    },
    {
     "data": {
      "image/png": "[encoded data removed]",
      "text/plain": [
       "<Figure size 432x288 with 1 Axes>"
      ]
     },
     "metadata": {
      "needs_background": "light"
     },
     "output_type": "display_data"
    }
   ],
   "source": [
    "#Plotting the provided points.\n",
    "x = np.array([2.0, 3.0, 4.0, 5.0, 6.0, 7.0, 8.0, 9.0, 10.0, 11.0, 12.0, 13.0, 14.0, 15.0, 16.0, 17.0, 18.0, 19.0, 20.0])\n",
    "y = np.array([0.7, 1.1, 1.5, 1.6, 1.7, 2.0, 2.3, 2.4, 2.2, 2.1, 2.4, 2.6, 2.2, 2.7, 2.5, 2.7, 2.8, 2.9, 3.1])\n",
    "#converted to np arrays\n",
    "plt.plot(x, y, \"o\")"
   ]
  },
  {
   "cell_type": "markdown",
   "id": "88bb60bc",
   "metadata": {},
   "source": [
    "## Best Fit Line"
   ]
  },
  {
   "cell_type": "markdown",
   "id": "57e74a91",
   "metadata": {},
   "source": [
    "Below I will plot the best fit line to the data. "
   ]
  },
  {
   "cell_type": "code",
   "execution_count": 9,
   "id": "9267ff3b",
   "metadata": {},
   "outputs": [
    {
     "data": {
      "text/plain": [
       "array([0.10315789, 1.04947368])"
      ]
     },
     "execution_count": 9,
     "metadata": {},
     "output_type": "execute_result"
    }
   ],
   "source": [
    "np.polyfit(x, y, 1)"
   ]
  },
  {
   "cell_type": "code",
   "execution_count": 10,
   "id": "5b9c162f",
   "metadata": {},
   "outputs": [
    {
     "data": {
      "text/plain": [
       "(0.10315789473684209, 1.0494736842105263)"
      ]
     },
     "execution_count": 10,
     "metadata": {},
     "output_type": "execute_result"
    }
   ],
   "source": [
    "m_b, c_b = np.polyfit(x, y, 1)\n",
    "m_b, c_b\n"
   ]
  },
  {
   "cell_type": "code",
   "execution_count": 11,
   "id": "4bd987c2",
   "metadata": {},
   "outputs": [
    {
     "data": {
      "image/png": "[encoded data removed]",
      "text/plain": [
       "<Figure size 576x432 with 1 Axes>"
      ]
     },
     "metadata": {
      "needs_background": "light"
     },
     "output_type": "display_data"
    }
   ],
   "source": [
    "# Plot the best fit line \n",
    "fig, ax = plt.subplots(figsize=(8, 6))\n",
    "ax.plot(x, y, 'k.', label='Original data')\n",
    "ax.plot(x, m_b * x + c_b, 'g-', label='Best Fit')\n",
    "\n",
    "ax.legend()\n",
    "\n",
    "# Show the plot.\n",
    "plt.show()"
   ]
  },
  {
   "cell_type": "markdown",
   "id": "d773e13e",
   "metadata": {},
   "source": [
    "## Optimization"
   ]
  },
  {
   "cell_type": "code",
   "execution_count": 12,
   "id": "7949a330",
   "metadata": {},
   "outputs": [],
   "source": [
    "# We are going to use minimize function in scipy.optimize.\n",
    "# So - what do we need? First we need a function to minimze.\n",
    "\n",
    "# x and y have fixed values in this scenario as above.\n",
    "\n",
    "# The function to be minimized - the cost function.\n",
    "# It must take a single argument! But our cost function takes 2: m and c.\n",
    "# So, we'll put them in a list called MC. e.g. MC = (5, 10)\n",
    "def cost(MC):\n",
    "    # Unpack the values m and c.\n",
    "    m, c = MC\n",
    "    # We need the data points in this function.\n",
    "    cost = np.sum((y - m * x - c)**2)\n",
    "    # Return that value.\n",
    "    return cost"
   ]
  },
  {
   "cell_type": "code",
   "execution_count": 13,
   "id": "3e7fce67",
   "metadata": {},
   "outputs": [
    {
     "data": {
      "text/plain": [
       "      fun: 1.0395789473691037\n",
       " hess_inv: array([[ 0.00087719, -0.00964912],\n",
       "       [-0.00964912,  0.13245614]])\n",
       "      jac: array([2.98023224e-08, 0.00000000e+00])\n",
       "  message: 'Optimization terminated successfully.'\n",
       "     nfev: 21\n",
       "      nit: 5\n",
       "     njev: 7\n",
       "   status: 0\n",
       "  success: True\n",
       "        x: array([0.10315786, 1.04947406])"
      ]
     },
     "execution_count": 13,
     "metadata": {},
     "output_type": "execute_result"
    }
   ],
   "source": [
    "# https://docs.scipy.org/doc/scipy/reference/generated/scipy.optimize.minimize.html#scipy.optimize.minimize\n",
    "result = so.minimize(cost, (2.0, 2.0))\n",
    "# Show the results.\n",
    "result"
   ]
  },
  {
   "cell_type": "code",
   "execution_count": 14,
   "id": "01ddd82b",
   "metadata": {},
   "outputs": [
    {
     "data": {
      "text/plain": [
       "(0.10315786014998399, 1.04947405671058)"
      ]
     },
     "execution_count": 14,
     "metadata": {},
     "output_type": "execute_result"
    }
   ],
   "source": [
    "# Extract the optimized m and c.\n",
    "m_o, c_o = result.x\n",
    "# Print them.\n",
    "m_o, c_o"
   ]
  },
  {
   "cell_type": "code",
   "execution_count": 15,
   "id": "ef9d4c08",
   "metadata": {},
   "outputs": [
    {
     "data": {
      "image/png": "[encoded data removed]",
      "text/plain": [
       "<Figure size 576x432 with 1 Axes>"
      ]
     },
     "metadata": {
      "needs_background": "light"
     },
     "output_type": "display_data"
    }
   ],
   "source": [
    "# Plot the best fit line from the optimization.\n",
    "fig, ax = plt.subplots(figsize=(8, 6))\n",
    "ax.plot(x, y, 'k.', label='Original data')\n",
    "ax.plot(x, m_o * x + c_o, 'b-', label='Optimized line')\n",
    "\n",
    "ax.legend()\n",
    "\n",
    "# Show the plot.\n",
    "plt.show()"
   ]
  },
  {
   "cell_type": "markdown",
   "id": "db011457",
   "metadata": {},
   "source": [
    "##  Curve Line"
   ]
  },
  {
   "cell_type": "code",
   "execution_count": 16,
   "id": "0ed5ccce",
   "metadata": {},
   "outputs": [
    {
     "data": {
      "image/png": "[encoded data removed]",
      "text/plain": [
       "<Figure size 576x432 with 1 Axes>"
      ]
     },
     "metadata": {
      "needs_background": "light"
     },
     "output_type": "display_data"
    }
   ],
   "source": [
    "# https://docs.scipy.org/doc/scipy/reference/generated/scipy.optimize.curve_fit.html\n",
    "# Create the model function.\n",
    "def f(x, m, c):\n",
    "    return m * x + c\n",
    "\n",
    "\n",
    "# Run curve_fit.\n",
    "result = so.curve_fit(f, x, y)\n",
    "\n",
    "# Look at the result.\n",
    "result\n",
    "\n",
    "# Pull out the parameters.\n",
    "m_f, c_f = result[0]\n",
    "# Print values.\n",
    "m_f, c_f\n",
    "\n",
    "# Plot the best fit line from the optimization.\n",
    "fig, ax = plt.subplots(figsize=(8, 6))\n",
    "ax.plot(x, y, 'k.', label='Original data')\n",
    "ax.plot(x, m_f * x + c_f, 'r-', label='Curve Fit line')\n",
    "\n",
    "ax.legend()\n",
    "\n",
    "# Show the plot.\n",
    "plt.show()"
   ]
  },
  {
   "cell_type": "markdown",
   "id": "7e2be066",
   "metadata": {},
   "source": [
    "## All 3 Together \n",
    "\n",
    "Below I plot all 3 methods together to see the outcome. "
   ]
  },
  {
   "cell_type": "code",
   "execution_count": 17,
   "id": "a3887841",
   "metadata": {},
   "outputs": [
    {
     "data": {
      "image/png": "[encoded data removed]",
      "text/plain": [
       "<Figure size 576x432 with 1 Axes>"
      ]
     },
     "metadata": {
      "needs_background": "light"
     },
     "output_type": "display_data"
    }
   ],
   "source": [
    "fig, ax = plt.subplots(figsize=(8, 6))\n",
    "ax.plot(x, y, 'k.', label='Original data')\n",
    "ax.plot(x, m_b * x + c_b, 'g-', label='Best Fit')\n",
    "ax.plot(x, m_o * x + c_o, 'b-', label='Optimized line')\n",
    "ax.plot(x, m_f * x + c_f, 'r-', label='Curve Fit line')\n",
    "ax.legend()\n",
    "\n",
    "# Show the plot.\n",
    "plt.show()"
   ]
  },
  {
   "cell_type": "markdown",
   "id": "034ca32c",
   "metadata": {},
   "source": [
    "The result of the plotting is that there is very little difference between the 3 lines. From this it shows that plotting straight lines might not be the best method for comparing this type of data set. we can see that there are data points that are well away for the line in  both directions on the X and Y axis "
   ]
  },
  {
   "cell_type": "markdown",
   "id": "b2e26efa",
   "metadata": {},
   "source": [
    "## **References**\n",
    "I used ATU video Lectures by Ian McLoughlin and class notes to complete this work.\n",
    "In addition I searched online using the following websites which were used for the relevant sections of this assessment as detailed.\n",
    "- **Exercise 2.1**\n",
    "\n",
    "[Git Hub](https://github.com/ianmcloughlin/2223-S1-machine-learn-stats/blob/main/notebooks/02-models.ipynb)\n",
    "\n",
    "[Bradthiessen](https://www.bradthiessen.com/html5/docs/ols.pdf)\n",
    "\n",
    "\n",
    "- **Exercise 2.2**\n",
    "\n",
    "[Scipy](https://docs.scipy.org/doc/scipy/reference/generated/scipy.optimize.minimize.html#scipy.optimize.minimize)"
   ]
  },
  {
   "cell_type": "markdown",
   "id": "6f0a185c",
   "metadata": {},
   "source": [
    "**Laura Brogan 06/01/23**"
   ]
  }
 ],
 "metadata": {
  "kernelspec": {
   "display_name": "Python 3",
   "language": "python",
   "name": "python3"
  },
  "language_info": {
   "codemirror_mode": {
    "name": "ipython",
    "version": 3
   },
   "file_extension": ".py",
   "mimetype": "text/x-python",
   "name": "python",
   "nbconvert_exporter": "python",
   "pygments_lexer": "ipython3",
   "version": "3.8.8"
  }
 },
 "nbformat": 4,
 "nbformat_minor": 5
}
